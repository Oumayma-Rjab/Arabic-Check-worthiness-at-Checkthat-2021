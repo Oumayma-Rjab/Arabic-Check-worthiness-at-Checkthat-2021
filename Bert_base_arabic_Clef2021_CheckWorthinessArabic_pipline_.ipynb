{
  "nbformat": 4,
  "nbformat_minor": 0,
  "metadata": {
    "accelerator": "GPU",
    "colab": {
      "name": "Copy of Clef2021 CheckWorthinessArabic-pipline .ipynb",
      "provenance": [],
      "collapsed_sections": [],
      "toc_visible": true
    },
    "kernelspec": {
      "display_name": "Python 3",
      "name": "python3"
    },
    "language_info": {
      "name": "python"
    }
  },
  "cells": [
    {
      "cell_type": "code",
      "metadata": {
        "id": "cI69UHcjVWxy",
        "colab": {
          "base_uri": "https://localhost:8080/"
        },
        "outputId": "65b53e61-72d1-4553-fd76-e074b9213d0b"
      },
      "source": [
        "#!git clone https://gitlab.com/checkthat_lab/clef2021-checkthat-lab.git"
      ],
      "execution_count": null,
      "outputs": [
        {
          "output_type": "stream",
          "text": [
            "fatal: destination path 'clef2021-checkthat-lab' already exists and is not an empty directory.\n"
          ],
          "name": "stdout"
        }
      ]
    },
    {
      "cell_type": "code",
      "metadata": {
        "id": "oMDRf7NXWEAy",
        "colab": {
          "base_uri": "https://localhost:8080/"
        },
        "outputId": "7a73e617-fbec-4834-adbf-1c8a8338982e"
      },
      "source": [
        "#%cd /content/clef2021-checkthat-lab/task1/data/subtask-1--arabic"
      ],
      "execution_count": null,
      "outputs": [
        {
          "output_type": "stream",
          "text": [
            "/content/clef2021-checkthat-lab/task1/data/subtask-1--arabic\n"
          ],
          "name": "stdout"
        }
      ]
    },
    {
      "cell_type": "code",
      "metadata": {
        "id": "WrmVVZ78WGEN",
        "colab": {
          "base_uri": "https://localhost:8080/"
        },
        "outputId": "6a9c62a1-fd08-45d3-ea2d-89e6aff0bc21"
      },
      "source": [
        "#!unzip v2.zip"
      ],
      "execution_count": null,
      "outputs": [
        {
          "output_type": "stream",
          "text": [
            "Archive:  v2.zip\n",
            "  inflating: CT21-AR-Dev-T1-Labels.tsv  \n",
            "replace CT21-AR-Dev-T1-Tweets.jsonl? [y]es, [n]o, [A]ll, [N]one, [r]ename: N\n"
          ],
          "name": "stdout"
        }
      ]
    },
    {
      "cell_type": "code",
      "metadata": {
        "id": "ynnRv13LWx_p"
      },
      "source": [
        "import logging\n",
        "logging.basicConfig(level=logging.ERROR)"
      ],
      "execution_count": null,
      "outputs": []
    },
    {
      "cell_type": "code",
      "metadata": {
        "colab": {
          "base_uri": "https://localhost:8080/"
        },
        "id": "PngUgd2gEpNh",
        "outputId": "dde6c0b5-36ae-4966-c773-f425937d12e9"
      },
      "source": [
        "!pip install pyarabic"
      ],
      "execution_count": null,
      "outputs": [
        {
          "output_type": "stream",
          "text": [
            "Requirement already satisfied: pyarabic in /usr/local/lib/python3.7/dist-packages (0.6.10)\n"
          ],
          "name": "stdout"
        }
      ]
    },
    {
      "cell_type": "code",
      "metadata": {
        "colab": {
          "base_uri": "https://localhost:8080/"
        },
        "id": "KYiJrjcKwNvd",
        "outputId": "8cadd13f-d4d9-446d-e44c-a8e966d86e72"
      },
      "source": [
        "!pip install transformers==3"
      ],
      "execution_count": null,
      "outputs": [
        {
          "output_type": "stream",
          "text": [
            "Requirement already satisfied: transformers==3 in /usr/local/lib/python3.7/dist-packages (3.0.0)\n",
            "Requirement already satisfied: filelock in /usr/local/lib/python3.7/dist-packages (from transformers==3) (3.0.12)\n",
            "Requirement already satisfied: regex!=2019.12.17 in /usr/local/lib/python3.7/dist-packages (from transformers==3) (2019.12.20)\n",
            "Requirement already satisfied: sacremoses in /usr/local/lib/python3.7/dist-packages (from transformers==3) (0.0.45)\n",
            "Requirement already satisfied: numpy in /usr/local/lib/python3.7/dist-packages (from transformers==3) (1.19.5)\n",
            "Requirement already satisfied: requests in /usr/local/lib/python3.7/dist-packages (from transformers==3) (2.23.0)\n",
            "Requirement already satisfied: tokenizers==0.8.0-rc4 in /usr/local/lib/python3.7/dist-packages (from transformers==3) (0.8.0rc4)\n",
            "Requirement already satisfied: tqdm>=4.27 in /usr/local/lib/python3.7/dist-packages (from transformers==3) (4.41.1)\n",
            "Requirement already satisfied: packaging in /usr/local/lib/python3.7/dist-packages (from transformers==3) (20.9)\n",
            "Requirement already satisfied: sentencepiece in /usr/local/lib/python3.7/dist-packages (from transformers==3) (0.1.95)\n",
            "Requirement already satisfied: six in /usr/local/lib/python3.7/dist-packages (from sacremoses->transformers==3) (1.15.0)\n",
            "Requirement already satisfied: click in /usr/local/lib/python3.7/dist-packages (from sacremoses->transformers==3) (7.1.2)\n",
            "Requirement already satisfied: joblib in /usr/local/lib/python3.7/dist-packages (from sacremoses->transformers==3) (1.0.1)\n",
            "Requirement already satisfied: urllib3!=1.25.0,!=1.25.1,<1.26,>=1.21.1 in /usr/local/lib/python3.7/dist-packages (from requests->transformers==3) (1.24.3)\n",
            "Requirement already satisfied: chardet<4,>=3.0.2 in /usr/local/lib/python3.7/dist-packages (from requests->transformers==3) (3.0.4)\n",
            "Requirement already satisfied: certifi>=2017.4.17 in /usr/local/lib/python3.7/dist-packages (from requests->transformers==3) (2020.12.5)\n",
            "Requirement already satisfied: idna<3,>=2.5 in /usr/local/lib/python3.7/dist-packages (from requests->transformers==3) (2.10)\n",
            "Requirement already satisfied: pyparsing>=2.0.2 in /usr/local/lib/python3.7/dist-packages (from packaging->transformers==3) (2.4.7)\n"
          ],
          "name": "stdout"
        }
      ]
    },
    {
      "cell_type": "code",
      "metadata": {
        "id": "NOZta45avwT_"
      },
      "source": [
        "import transformers\n",
        "from transformers import BertModel, BertTokenizer, AdamW, get_linear_schedule_with_warmup,AutoTokenizer,AutoModelForMaskedLM\n",
        "\n",
        "import torch\n",
        "from torch import nn, optim\n",
        "from torch.utils.data import Dataset, DataLoader\n",
        "import torch.nn.functional as F\n",
        "\n",
        "\n",
        "import numpy as np\n",
        "import pandas as pd\n",
        "import seaborn as sns\n",
        "from pylab import rcParams\n",
        "import matplotlib.pyplot as plt\n",
        "from matplotlib import rc\n",
        "\n",
        "\n",
        "from sklearn.model_selection import train_test_split\n",
        "from sklearn.preprocessing import LabelEncoder\n",
        "from sklearn.metrics import confusion_matrix, classification_report\n",
        "from collections import defaultdict\n",
        "from textwrap import wrap\n",
        "\n",
        "from tqdm import tqdm\n",
        "import random\n",
        "import os\n",
        "\n",
        "\n",
        "%matplotlib inline\n",
        "%config InlineBackend.figure_format='retina'\n",
        "\n",
        "sns.set(style='whitegrid', palette='muted', font_scale=1.2)\n",
        "HAPPY_COLORS_PALETTE = [\"#01BEFE\", \"#FFDD00\", \"#FF7D00\", \"#FF006D\", \"#ADFF02\", \"#8F00FF\"]\n",
        "\n",
        "sns.set_palette(sns.color_palette(HAPPY_COLORS_PALETTE))\n",
        "rcParams['figure.figsize'] = 12, 8\n",
        "\n",
        "RANDOM_SEED = 23\n",
        "np.random.seed(RANDOM_SEED)\n",
        "\n",
        "torch.manual_seed(RANDOM_SEED)\n",
        "device = torch.device(\"cuda:0\" if torch.cuda.is_available() else \"cpu\")"
      ],
      "execution_count": null,
      "outputs": []
    },
    {
      "cell_type": "code",
      "metadata": {
        "id": "odbgap3m-mNv"
      },
      "source": [
        "def set_seed(seed):\n",
        "    torch.manual_seed(seed)\n",
        "    torch.cuda.manual_seed_all(seed)\n",
        "    torch.backends.cudnn.deterministic = True\n",
        "    torch.backends.cudnn.benchmark = False\n",
        "    torch.backends.cudnn.enabled = False \n",
        "    torch.cuda.manual_seed(seed)\n",
        "    torch.cuda.manual_seed_all(seed)\n",
        "    np.random.seed(seed)\n",
        "    random.seed(seed)\n",
        "    os.environ['PYTHONHASHSEED'] = str(seed)"
      ],
      "execution_count": null,
      "outputs": []
    },
    {
      "cell_type": "code",
      "metadata": {
        "id": "qtsVeSvy-mCD"
      },
      "source": [
        "set_seed(66)"
      ],
      "execution_count": null,
      "outputs": []
    },
    {
      "cell_type": "code",
      "metadata": {
        "id": "8O3mLjjfWThJ"
      },
      "source": [
        "data = pd.read_csv('/content/clef2021-checkthat-lab/task1/data/subtask-1--arabic/CT21-AR-Train-T1-Labels.tsv',sep='\\t',error_bad_lines=False)"
      ],
      "execution_count": null,
      "outputs": []
    },
    {
      "cell_type": "code",
      "metadata": {
        "colab": {
          "base_uri": "https://localhost:8080/",
          "height": 597
        },
        "id": "pdzaNlVx-xfq",
        "outputId": "3aae7752-0e65-4f50-eff0-acb892c366b1"
      },
      "source": [
        "data"
      ],
      "execution_count": null,
      "outputs": [
        {
          "output_type": "execute_result",
          "data": {
            "text/html": [
              "<div>\n",
              "<style scoped>\n",
              "    .dataframe tbody tr th:only-of-type {\n",
              "        vertical-align: middle;\n",
              "    }\n",
              "\n",
              "    .dataframe tbody tr th {\n",
              "        vertical-align: top;\n",
              "    }\n",
              "\n",
              "    .dataframe thead th {\n",
              "        text-align: right;\n",
              "    }\n",
              "</style>\n",
              "<table border=\"1\" class=\"dataframe\">\n",
              "  <thead>\n",
              "    <tr style=\"text-align: right;\">\n",
              "      <th></th>\n",
              "      <th>topic_id</th>\n",
              "      <th>tweet_id</th>\n",
              "      <th>tweet_url</th>\n",
              "      <th>tweet_text</th>\n",
              "      <th>claim</th>\n",
              "      <th>claim_worthiness</th>\n",
              "    </tr>\n",
              "  </thead>\n",
              "  <tbody>\n",
              "    <tr>\n",
              "      <th>0</th>\n",
              "      <td>CT20-AR-01</td>\n",
              "      <td>1221949644554588160</td>\n",
              "      <td>https://twitter.com/user/status/12219496445545...</td>\n",
              "      <td>وأي خيانة أكبر من خيانة الدين ،، الوطن ،، الهو...</td>\n",
              "      <td>0</td>\n",
              "      <td>0</td>\n",
              "    </tr>\n",
              "    <tr>\n",
              "      <th>1</th>\n",
              "      <td>CT20-AR-01</td>\n",
              "      <td>1222030473385345028</td>\n",
              "      <td>https://twitter.com/user/status/12220304733853...</td>\n",
              "      <td>صباح الخير على فلسطين وقدسها وشعبها ومهجرينها ...</td>\n",
              "      <td>0</td>\n",
              "      <td>0</td>\n",
              "    </tr>\n",
              "    <tr>\n",
              "      <th>2</th>\n",
              "      <td>CT20-AR-01</td>\n",
              "      <td>1222035929105338368</td>\n",
              "      <td>https://twitter.com/user/status/12220359291053...</td>\n",
              "      <td>ذنبگ أنگ جميله گ يوسف وخانگ العالم گ أاخواته 💔...</td>\n",
              "      <td>0</td>\n",
              "      <td>0</td>\n",
              "    </tr>\n",
              "    <tr>\n",
              "      <th>3</th>\n",
              "      <td>CT20-AR-01</td>\n",
              "      <td>1222048121145962496</td>\n",
              "      <td>https://twitter.com/user/status/12220481211459...</td>\n",
              "      <td>لا يلزمك ان تكون فلسطينياً لتحب فلسطين، حُبها ...</td>\n",
              "      <td>0</td>\n",
              "      <td>0</td>\n",
              "    </tr>\n",
              "    <tr>\n",
              "      <th>4</th>\n",
              "      <td>CT20-AR-01</td>\n",
              "      <td>1222053294266372096</td>\n",
              "      <td>https://twitter.com/user/status/12220532942663...</td>\n",
              "      <td>#مناصرون رحل البروفسور زيك فريد فوغل . رئيس قس...</td>\n",
              "      <td>0</td>\n",
              "      <td>0</td>\n",
              "    </tr>\n",
              "    <tr>\n",
              "      <th>...</th>\n",
              "      <td>...</td>\n",
              "      <td>...</td>\n",
              "      <td>...</td>\n",
              "      <td>...</td>\n",
              "      <td>...</td>\n",
              "      <td>...</td>\n",
              "    </tr>\n",
              "    <tr>\n",
              "      <th>3434</th>\n",
              "      <td>CT20-AR-30</td>\n",
              "      <td>1229511354714927105</td>\n",
              "      <td>https://twitter.com/user/status/12295113547149...</td>\n",
              "      <td>#سفيه_الدوحه_وجزيه_المرتزقه ماكسر خاطري الا حم...</td>\n",
              "      <td>0</td>\n",
              "      <td>0</td>\n",
              "    </tr>\n",
              "    <tr>\n",
              "      <th>3435</th>\n",
              "      <td>CT20-AR-30</td>\n",
              "      <td>1229512831114108934</td>\n",
              "      <td>https://twitter.com/user/status/12295128311141...</td>\n",
              "      <td>انتصار جديد لـ #قطر وصفعة قاسية لدول الحصار ال...</td>\n",
              "      <td>0</td>\n",
              "      <td>0</td>\n",
              "    </tr>\n",
              "    <tr>\n",
              "      <th>3436</th>\n",
              "      <td>CT20-AR-30</td>\n",
              "      <td>1229513572633530368</td>\n",
              "      <td>https://twitter.com/user/status/12295135726335...</td>\n",
              "      <td>@alkhor_live @ama4425 الله اكبر هذا يعتبر اكبر...</td>\n",
              "      <td>0</td>\n",
              "      <td>0</td>\n",
              "    </tr>\n",
              "    <tr>\n",
              "      <th>3437</th>\n",
              "      <td>CT20-AR-30</td>\n",
              "      <td>1229529046930903040</td>\n",
              "      <td>https://twitter.com/user/status/12295290469309...</td>\n",
              "      <td>@Alg27010 @ramlo_ramlo غير تنضحك مع راملو ... ...</td>\n",
              "      <td>0</td>\n",
              "      <td>0</td>\n",
              "    </tr>\n",
              "    <tr>\n",
              "      <th>3438</th>\n",
              "      <td>CT20-AR-30</td>\n",
              "      <td>1229539125453295619</td>\n",
              "      <td>https://twitter.com/user/status/12295391254532...</td>\n",
              "      <td>قناة العربية : رئيس النظام السوري قناة الجزيرة...</td>\n",
              "      <td>1</td>\n",
              "      <td>0</td>\n",
              "    </tr>\n",
              "  </tbody>\n",
              "</table>\n",
              "<p>3439 rows × 6 columns</p>\n",
              "</div>"
            ],
            "text/plain": [
              "        topic_id             tweet_id  ... claim claim_worthiness\n",
              "0     CT20-AR-01  1221949644554588160  ...     0                0\n",
              "1     CT20-AR-01  1222030473385345028  ...     0                0\n",
              "2     CT20-AR-01  1222035929105338368  ...     0                0\n",
              "3     CT20-AR-01  1222048121145962496  ...     0                0\n",
              "4     CT20-AR-01  1222053294266372096  ...     0                0\n",
              "...          ...                  ...  ...   ...              ...\n",
              "3434  CT20-AR-30  1229511354714927105  ...     0                0\n",
              "3435  CT20-AR-30  1229512831114108934  ...     0                0\n",
              "3436  CT20-AR-30  1229513572633530368  ...     0                0\n",
              "3437  CT20-AR-30  1229529046930903040  ...     0                0\n",
              "3438  CT20-AR-30  1229539125453295619  ...     1                0\n",
              "\n",
              "[3439 rows x 6 columns]"
            ]
          },
          "metadata": {
            "tags": []
          },
          "execution_count": 11
        }
      ]
    },
    {
      "cell_type": "code",
      "metadata": {
        "id": "tD4kyCNpmWoz"
      },
      "source": [
        "dev = pd.read_csv('/content/clef2021-checkthat-lab/task1/data/subtask-1--arabic/CT21-AR-Dev-T1-Labels.tsv',sep='\\t',error_bad_lines=False)\n",
        "#dev = pd.read_csv('/content/clef2021-checkthat-lab/task1/scorer/CT21-AR-Dev-T1-Labels.tsv',sep='\\t',error_bad_lines=False)\n"
      ],
      "execution_count": null,
      "outputs": []
    },
    {
      "cell_type": "code",
      "metadata": {
        "id": "BFrb6M4nmli5",
        "colab": {
          "base_uri": "https://localhost:8080/",
          "height": 424
        },
        "outputId": "79be21a6-4cc4-41d2-bdeb-5a2d91a98c17"
      },
      "source": [
        "dev"
      ],
      "execution_count": null,
      "outputs": [
        {
          "output_type": "execute_result",
          "data": {
            "text/html": [
              "<div>\n",
              "<style scoped>\n",
              "    .dataframe tbody tr th:only-of-type {\n",
              "        vertical-align: middle;\n",
              "    }\n",
              "\n",
              "    .dataframe tbody tr th {\n",
              "        vertical-align: top;\n",
              "    }\n",
              "\n",
              "    .dataframe thead th {\n",
              "        text-align: right;\n",
              "    }\n",
              "</style>\n",
              "<table border=\"1\" class=\"dataframe\">\n",
              "  <thead>\n",
              "    <tr style=\"text-align: right;\">\n",
              "      <th></th>\n",
              "      <th>topic_id</th>\n",
              "      <th>tweet_id</th>\n",
              "      <th>tweet_url</th>\n",
              "      <th>tweet_text</th>\n",
              "      <th>claim</th>\n",
              "      <th>claim_worthiness</th>\n",
              "    </tr>\n",
              "  </thead>\n",
              "  <tbody>\n",
              "    <tr>\n",
              "      <th>0</th>\n",
              "      <td>CT20-AR-02</td>\n",
              "      <td>1221223213583294470</td>\n",
              "      <td>https://twitter.com/user/status/12212232135832...</td>\n",
              "      <td>باقي هذا المجرم الجبار المتكبر وابنائه الجبابر...</td>\n",
              "      <td>1</td>\n",
              "      <td>0</td>\n",
              "    </tr>\n",
              "    <tr>\n",
              "      <th>1</th>\n",
              "      <td>CT20-AR-02</td>\n",
              "      <td>1221224671208755211</td>\n",
              "      <td>https://twitter.com/user/status/12212246712087...</td>\n",
              "      <td>الان عودة الاشتباكات العنيفه في نهم والجيش الو...</td>\n",
              "      <td>1</td>\n",
              "      <td>1</td>\n",
              "    </tr>\n",
              "    <tr>\n",
              "      <th>2</th>\n",
              "      <td>CT20-AR-02</td>\n",
              "      <td>1221226319243108353</td>\n",
              "      <td>https://twitter.com/user/status/12212263192431...</td>\n",
              "      <td>الوية العمالقة تعلن النفير العام للاستعداد لاق...</td>\n",
              "      <td>0</td>\n",
              "      <td>0</td>\n",
              "    </tr>\n",
              "    <tr>\n",
              "      <th>3</th>\n",
              "      <td>CT20-AR-02</td>\n",
              "      <td>1221243369348902912</td>\n",
              "      <td>https://twitter.com/user/status/12212433693489...</td>\n",
              "      <td>في الاسواق-اغاني جديده : الحوثيين راح يفبركون ...</td>\n",
              "      <td>1</td>\n",
              "      <td>0</td>\n",
              "    </tr>\n",
              "    <tr>\n",
              "      <th>4</th>\n",
              "      <td>CT20-AR-02</td>\n",
              "      <td>1221253458394779649</td>\n",
              "      <td>https://twitter.com/user/status/12212534583947...</td>\n",
              "      <td>#السعودية و #الإمارات من محرريين لليمن إلى احت...</td>\n",
              "      <td>1</td>\n",
              "      <td>0</td>\n",
              "    </tr>\n",
              "    <tr>\n",
              "      <th>...</th>\n",
              "      <td>...</td>\n",
              "      <td>...</td>\n",
              "      <td>...</td>\n",
              "      <td>...</td>\n",
              "      <td>...</td>\n",
              "      <td>...</td>\n",
              "    </tr>\n",
              "    <tr>\n",
              "      <th>656</th>\n",
              "      <td>CT20-AR-27</td>\n",
              "      <td>1233386563331121153</td>\n",
              "      <td>https://twitter.com/user/status/12333865633311...</td>\n",
              "      <td>الدكتور عبد الرزاق مقري: التيار العلماني المبي...</td>\n",
              "      <td>1</td>\n",
              "      <td>1</td>\n",
              "    </tr>\n",
              "    <tr>\n",
              "      <th>657</th>\n",
              "      <td>CT20-AR-27</td>\n",
              "      <td>1233403769016242176</td>\n",
              "      <td>https://twitter.com/user/status/12334037690162...</td>\n",
              "      <td>#الجمعة_54 حيا الله الأحرار.... جمعة قوية في م...</td>\n",
              "      <td>1</td>\n",
              "      <td>1</td>\n",
              "    </tr>\n",
              "    <tr>\n",
              "      <th>658</th>\n",
              "      <td>CT20-AR-27</td>\n",
              "      <td>1233404098751475712</td>\n",
              "      <td>https://twitter.com/user/status/12334040987514...</td>\n",
              "      <td># 28 فبراير 2020. #الجمعة_54 من الحراك.. # الث...</td>\n",
              "      <td>0</td>\n",
              "      <td>0</td>\n",
              "    </tr>\n",
              "    <tr>\n",
              "      <th>659</th>\n",
              "      <td>CT20-AR-27</td>\n",
              "      <td>1233406731562225665</td>\n",
              "      <td>https://twitter.com/user/status/12334067315622...</td>\n",
              "      <td>شركة المراعي السعودية العالمية بمنتجات ذات جود...</td>\n",
              "      <td>1</td>\n",
              "      <td>1</td>\n",
              "    </tr>\n",
              "    <tr>\n",
              "      <th>660</th>\n",
              "      <td>CT20-AR-27</td>\n",
              "      <td>1233493627357278210</td>\n",
              "      <td>https://twitter.com/user/status/12334936273572...</td>\n",
              "      <td>#كورونا يتصدّر شعارات المحتجين اليوم في حراك #...</td>\n",
              "      <td>1</td>\n",
              "      <td>1</td>\n",
              "    </tr>\n",
              "  </tbody>\n",
              "</table>\n",
              "<p>661 rows × 6 columns</p>\n",
              "</div>"
            ],
            "text/plain": [
              "       topic_id             tweet_id  ... claim claim_worthiness\n",
              "0    CT20-AR-02  1221223213583294470  ...     1                0\n",
              "1    CT20-AR-02  1221224671208755211  ...     1                1\n",
              "2    CT20-AR-02  1221226319243108353  ...     0                0\n",
              "3    CT20-AR-02  1221243369348902912  ...     1                0\n",
              "4    CT20-AR-02  1221253458394779649  ...     1                0\n",
              "..          ...                  ...  ...   ...              ...\n",
              "656  CT20-AR-27  1233386563331121153  ...     1                1\n",
              "657  CT20-AR-27  1233403769016242176  ...     1                1\n",
              "658  CT20-AR-27  1233404098751475712  ...     0                0\n",
              "659  CT20-AR-27  1233406731562225665  ...     1                1\n",
              "660  CT20-AR-27  1233493627357278210  ...     1                1\n",
              "\n",
              "[661 rows x 6 columns]"
            ]
          },
          "metadata": {
            "tags": []
          },
          "execution_count": 13
        }
      ]
    },
    {
      "cell_type": "code",
      "metadata": {
        "id": "8uRsjD74-uXQ",
        "colab": {
          "base_uri": "https://localhost:8080/",
          "height": 525
        },
        "outputId": "81613526-37af-4c3f-cd28-5a83415f3f88"
      },
      "source": [
        "sns.countplot(data=data,x=\"claim_worthiness\")"
      ],
      "execution_count": null,
      "outputs": [
        {
          "output_type": "execute_result",
          "data": {
            "text/plain": [
              "<matplotlib.axes._subplots.AxesSubplot at 0x7f7e07d8ced0>"
            ]
          },
          "metadata": {
            "tags": []
          },
          "execution_count": 14
        },
        {
          "output_type": "display_data",
          "data": {
            "image/png": "[encoded data removed]",
            "text/plain": [
              "<Figure size 864x576 with 1 Axes>"
            ]
          },
          "metadata": {
            "tags": [],
            "image/png": {
              "width": 745,
              "height": 490
            }
          }
        }
      ]
    },
    {
      "cell_type": "code",
      "metadata": {
        "id": "KrWgRkjQmyIV",
        "colab": {
          "base_uri": "https://localhost:8080/",
          "height": 525
        },
        "outputId": "bc149e7c-e5d6-458f-8984-54d3ef8029a9"
      },
      "source": [
        "sns.countplot(data=dev,x=\"claim_worthiness\")"
      ],
      "execution_count": null,
      "outputs": [
        {
          "output_type": "execute_result",
          "data": {
            "text/plain": [
              "<matplotlib.axes._subplots.AxesSubplot at 0x7f7d5f628990>"
            ]
          },
          "metadata": {
            "tags": []
          },
          "execution_count": 15
        },
        {
          "output_type": "display_data",
          "data": {
            "image/png": "[encoded data removed]",
            "text/plain": [
              "<Figure size 864x576 with 1 Axes>"
            ]
          },
          "metadata": {
            "tags": [],
            "image/png": {
              "width": 736,
              "height": 490
            }
          }
        }
      ]
    },
    {
      "cell_type": "code",
      "metadata": {
        "id": "USGxH-CY-iEu",
        "colab": {
          "base_uri": "https://localhost:8080/"
        },
        "outputId": "5be39e30-0d6a-44bf-dfb2-d169f7a9d63d"
      },
      "source": [
        "data.topic_id.unique()"
      ],
      "execution_count": null,
      "outputs": [
        {
          "output_type": "execute_result",
          "data": {
            "text/plain": [
              "array(['CT20-AR-01', 'CT20-AR-03', 'CT20-AR-08', 'CT20-AR-12',\n",
              "       'CT20-AR-14', 'CT20-AR-23', 'CT20-AR-28_w1', 'CT20-AR-28_w2',\n",
              "       'CT20-AR-29', 'CT20-AR-30'], dtype=object)"
            ]
          },
          "metadata": {
            "tags": []
          },
          "execution_count": 16
        }
      ]
    },
    {
      "cell_type": "code",
      "metadata": {
        "id": "v5MI6Bvc-5W0",
        "colab": {
          "base_uri": "https://localhost:8080/",
          "height": 525
        },
        "outputId": "e040555d-af11-4414-ffd2-3f7f360de894"
      },
      "source": [
        "sns.countplot(data=data,x=\"claim_worthiness\",hue=\"topic_id\")"
      ],
      "execution_count": null,
      "outputs": [
        {
          "output_type": "execute_result",
          "data": {
            "text/plain": [
              "<matplotlib.axes._subplots.AxesSubplot at 0x7f7d5f141b50>"
            ]
          },
          "metadata": {
            "tags": []
          },
          "execution_count": 17
        },
        {
          "output_type": "display_data",
          "data": {
            "image/png": "[encoded data removed]",
            "text/plain": [
              "<Figure size 864x576 with 1 Axes>"
            ]
          },
          "metadata": {
            "tags": [],
            "image/png": {
              "width": 736,
              "height": 490
            }
          }
        }
      ]
    },
    {
      "cell_type": "code",
      "metadata": {
        "id": "L8KvNYomVIk6"
      },
      "source": [
        "topics_to_undersample = ['CT20-AR-30','CT20-AR-23','CT20-AR-12','CT20-AR-08','CT20-AR-01']"
      ],
      "execution_count": null,
      "outputs": []
    },
    {
      "cell_type": "code",
      "metadata": {
        "colab": {
          "base_uri": "https://localhost:8080/",
          "height": 1000
        },
        "id": "UiEhohLAr8n4",
        "outputId": "e8f7c9e8-5b76-4555-eef7-29ec6e8cfbe9"
      },
      "source": [
        "data.loc[3121:3151]"
      ],
      "execution_count": null,
      "outputs": [
        {
          "output_type": "execute_result",
          "data": {
            "text/html": [
              "<div>\n",
              "<style scoped>\n",
              "    .dataframe tbody tr th:only-of-type {\n",
              "        vertical-align: middle;\n",
              "    }\n",
              "\n",
              "    .dataframe tbody tr th {\n",
              "        vertical-align: top;\n",
              "    }\n",
              "\n",
              "    .dataframe thead th {\n",
              "        text-align: right;\n",
              "    }\n",
              "</style>\n",
              "<table border=\"1\" class=\"dataframe\">\n",
              "  <thead>\n",
              "    <tr style=\"text-align: right;\">\n",
              "      <th></th>\n",
              "      <th>topic_id</th>\n",
              "      <th>tweet_id</th>\n",
              "      <th>tweet_url</th>\n",
              "      <th>tweet_text</th>\n",
              "      <th>claim</th>\n",
              "      <th>claim_worthiness</th>\n",
              "    </tr>\n",
              "  </thead>\n",
              "  <tbody>\n",
              "    <tr>\n",
              "      <th>3121</th>\n",
              "      <td>CT20-AR-30</td>\n",
              "      <td>1229194023568580608</td>\n",
              "      <td>https://twitter.com/user/status/12291940235685...</td>\n",
              "      <td>#سفيه_الدوحه_وجزيه_المرتزقه قال شو أبشروا بالخ...</td>\n",
              "      <td>0</td>\n",
              "      <td>0</td>\n",
              "    </tr>\n",
              "    <tr>\n",
              "      <th>3122</th>\n",
              "      <td>CT20-AR-30</td>\n",
              "      <td>1229194209699168258</td>\n",
              "      <td>https://twitter.com/user/status/12291942096991...</td>\n",
              "      <td>@fdeet_alnssr زادت مكافأة مرتزقة #قناة_الجزيرة...</td>\n",
              "      <td>0</td>\n",
              "      <td>0</td>\n",
              "    </tr>\n",
              "    <tr>\n",
              "      <th>3123</th>\n",
              "      <td>CT20-AR-30</td>\n",
              "      <td>1229194728408829952</td>\n",
              "      <td>https://twitter.com/user/status/12291947284088...</td>\n",
              "      <td>#سفيه_الدوحه_وجزيه_المرتزقه الشنقيطي لك الله ،...</td>\n",
              "      <td>0</td>\n",
              "      <td>0</td>\n",
              "    </tr>\n",
              "    <tr>\n",
              "      <th>3124</th>\n",
              "      <td>CT20-AR-30</td>\n",
              "      <td>1229194730807988225</td>\n",
              "      <td>https://twitter.com/user/status/12291947308079...</td>\n",
              "      <td>#سفيه_الدوحه_وجزيه_المرتزقه و الله يا عصمان آآ...</td>\n",
              "      <td>0</td>\n",
              "      <td>0</td>\n",
              "    </tr>\n",
              "    <tr>\n",
              "      <th>3125</th>\n",
              "      <td>CT20-AR-30</td>\n",
              "      <td>1229194862689427457</td>\n",
              "      <td>https://twitter.com/user/status/12291948626894...</td>\n",
              "      <td>#سفيه_الدوحه_وجزيه_المرتزقه عندما تشترى الأدمغ...</td>\n",
              "      <td>0</td>\n",
              "      <td>0</td>\n",
              "    </tr>\n",
              "    <tr>\n",
              "      <th>3126</th>\n",
              "      <td>CT20-AR-30</td>\n",
              "      <td>1229194926203834369</td>\n",
              "      <td>https://twitter.com/user/status/12291949262038...</td>\n",
              "      <td>@allahim استلم يابو خالد البيان المسرب من داخل...</td>\n",
              "      <td>0</td>\n",
              "      <td>0</td>\n",
              "    </tr>\n",
              "    <tr>\n",
              "      <th>3127</th>\n",
              "      <td>CT20-AR-30</td>\n",
              "      <td>1229195485258362880</td>\n",
              "      <td>https://twitter.com/user/status/12291954852583...</td>\n",
              "      <td>@OlaAlfares مبروك المكافأه اثبتي أنك أقوى ممن ...</td>\n",
              "      <td>0</td>\n",
              "      <td>0</td>\n",
              "    </tr>\n",
              "    <tr>\n",
              "      <th>3128</th>\n",
              "      <td>CT20-AR-30</td>\n",
              "      <td>1229195812036661249</td>\n",
              "      <td>https://twitter.com/user/status/12291958120366...</td>\n",
              "      <td>#سفيه_الدوحه_وجزيه_المرتزقه و يزعلون إذا قلنا ...</td>\n",
              "      <td>0</td>\n",
              "      <td>0</td>\n",
              "    </tr>\n",
              "    <tr>\n",
              "      <th>3129</th>\n",
              "      <td>CT20-AR-30</td>\n",
              "      <td>1229196072465129472</td>\n",
              "      <td>https://twitter.com/user/status/12291960724651...</td>\n",
              "      <td>قرابة الـ2 مليون دولار مكافأة صرفتها قطر على 8...</td>\n",
              "      <td>0</td>\n",
              "      <td>0</td>\n",
              "    </tr>\n",
              "    <tr>\n",
              "      <th>3130</th>\n",
              "      <td>CT20-AR-30</td>\n",
              "      <td>1229196544869589000</td>\n",
              "      <td>https://twitter.com/user/status/12291965448695...</td>\n",
              "      <td>مقهور صراحه على الشنقيطي طلع حمار مكده 😂😂 #سفي...</td>\n",
              "      <td>0</td>\n",
              "      <td>0</td>\n",
              "    </tr>\n",
              "    <tr>\n",
              "      <th>3131</th>\n",
              "      <td>CT20-AR-30</td>\n",
              "      <td>1229197167329513472</td>\n",
              "      <td>https://twitter.com/user/status/12291971673295...</td>\n",
              "      <td>#سفيه_الدوحه_وجزيه_المرتزقه @jamalrayyan نبحك ...</td>\n",
              "      <td>0</td>\n",
              "      <td>0</td>\n",
              "    </tr>\n",
              "    <tr>\n",
              "      <th>3132</th>\n",
              "      <td>CT20-AR-30</td>\n",
              "      <td>1229197220282585088</td>\n",
              "      <td>https://twitter.com/user/status/12291972202825...</td>\n",
              "      <td>تخيل ابنك بالمدرسة يسألونه.. ابوك ولا امك ايش ...</td>\n",
              "      <td>0</td>\n",
              "      <td>0</td>\n",
              "    </tr>\n",
              "    <tr>\n",
              "      <th>3133</th>\n",
              "      <td>CT20-AR-30</td>\n",
              "      <td>1229197292965711873</td>\n",
              "      <td>https://twitter.com/user/status/12291972929657...</td>\n",
              "      <td>الان بعد اتضاح الصورة للجميع وأن كانت واضحة من...</td>\n",
              "      <td>0</td>\n",
              "      <td>0</td>\n",
              "    </tr>\n",
              "    <tr>\n",
              "      <th>3134</th>\n",
              "      <td>CT20-AR-30</td>\n",
              "      <td>1229198280745193472</td>\n",
              "      <td>https://twitter.com/user/status/12291982807451...</td>\n",
              "      <td>#سفيه_الدوحه_وجزيه_المرتزقه اللي في النص قطر🤣🤣...</td>\n",
              "      <td>0</td>\n",
              "      <td>0</td>\n",
              "    </tr>\n",
              "    <tr>\n",
              "      <th>3135</th>\n",
              "      <td>CT20-AR-30</td>\n",
              "      <td>1229198574199676932</td>\n",
              "      <td>https://twitter.com/user/status/12291985741996...</td>\n",
              "      <td>#سفيه_الدوحه_وجزيه_المرتزقه انبح اكثر تاخذ اكث...</td>\n",
              "      <td>0</td>\n",
              "      <td>0</td>\n",
              "    </tr>\n",
              "    <tr>\n",
              "      <th>3136</th>\n",
              "      <td>CT20-AR-30</td>\n",
              "      <td>1229198737307766785</td>\n",
              "      <td>https://twitter.com/user/status/12291987373077...</td>\n",
              "      <td>تنظيم الحمدين له سنين يضخ المليارات والمليارات...</td>\n",
              "      <td>0</td>\n",
              "      <td>0</td>\n",
              "    </tr>\n",
              "    <tr>\n",
              "      <th>3137</th>\n",
              "      <td>CT20-AR-30</td>\n",
              "      <td>1229199274296123392</td>\n",
              "      <td>https://twitter.com/user/status/12291992742961...</td>\n",
              "      <td>إحقاقا للحق مكافآت قناة الجزيرة لعبت بها يد ال...</td>\n",
              "      <td>0</td>\n",
              "      <td>0</td>\n",
              "    </tr>\n",
              "    <tr>\n",
              "      <th>3138</th>\n",
              "      <td>CT20-AR-30</td>\n",
              "      <td>1229199711267151873</td>\n",
              "      <td>https://twitter.com/user/status/12291997112671...</td>\n",
              "      <td>#سفيه_الدوحه_وجزيه_المرتزقه كل قطري شريف متضاي...</td>\n",
              "      <td>0</td>\n",
              "      <td>0</td>\n",
              "    </tr>\n",
              "    <tr>\n",
              "      <th>3139</th>\n",
              "      <td>CT20-AR-30</td>\n",
              "      <td>1229201225704497152</td>\n",
              "      <td>https://twitter.com/user/status/12292012257044...</td>\n",
              "      <td>في كل مرة تنكر حكومة قطر الا علاقة لها بقناة ا...</td>\n",
              "      <td>0</td>\n",
              "      <td>0</td>\n",
              "    </tr>\n",
              "    <tr>\n",
              "      <th>3140</th>\n",
              "      <td>CT20-AR-30</td>\n",
              "      <td>1229201528197722120</td>\n",
              "      <td>https://twitter.com/user/status/12292015281977...</td>\n",
              "      <td>#سفيه_الدوحه_وجزيه_المرتزقه رزق المرتزقه من جي...</td>\n",
              "      <td>0</td>\n",
              "      <td>0</td>\n",
              "    </tr>\n",
              "    <tr>\n",
              "      <th>3141</th>\n",
              "      <td>CT20-AR-30</td>\n",
              "      <td>1229201831382994944</td>\n",
              "      <td>https://twitter.com/user/status/12292018313829...</td>\n",
              "      <td>تلك هي الحقيقة في #قطر_المحتلة. الخطر في قطر (...</td>\n",
              "      <td>0</td>\n",
              "      <td>0</td>\n",
              "    </tr>\n",
              "    <tr>\n",
              "      <th>3142</th>\n",
              "      <td>CT20-AR-30</td>\n",
              "      <td>1229202525225705474</td>\n",
              "      <td>https://twitter.com/user/status/12292025252257...</td>\n",
              "      <td>جماعه ابو شكيب كلو الأخضر و اليابس كفوو عليهم ...</td>\n",
              "      <td>0</td>\n",
              "      <td>0</td>\n",
              "    </tr>\n",
              "    <tr>\n",
              "      <th>3143</th>\n",
              "      <td>CT20-AR-30</td>\n",
              "      <td>1229204263634690048</td>\n",
              "      <td>https://twitter.com/user/status/12292042636346...</td>\n",
              "      <td>بصراحة الحين اعرف تعب جمال مارح ببلاش هو والكل...</td>\n",
              "      <td>0</td>\n",
              "      <td>0</td>\n",
              "    </tr>\n",
              "    <tr>\n",
              "      <th>3144</th>\n",
              "      <td>CT20-AR-30</td>\n",
              "      <td>1229205347321204736</td>\n",
              "      <td>https://twitter.com/user/status/12292053473212...</td>\n",
              "      <td>هذه مكافآت بس حقت سنة يعني بعيدة عن الرواتب وغ...</td>\n",
              "      <td>0</td>\n",
              "      <td>0</td>\n",
              "    </tr>\n",
              "    <tr>\n",
              "      <th>3145</th>\n",
              "      <td>CT20-AR-30</td>\n",
              "      <td>1229205779137339393</td>\n",
              "      <td>https://twitter.com/user/status/12292057791373...</td>\n",
              "      <td>@KSA24 عندي سؤال كم بتكون مكافأت مرتزقه قناة ا...</td>\n",
              "      <td>0</td>\n",
              "      <td>0</td>\n",
              "    </tr>\n",
              "    <tr>\n",
              "      <th>3146</th>\n",
              "      <td>CT20-AR-30</td>\n",
              "      <td>1229205910796619777</td>\n",
              "      <td>https://twitter.com/user/status/12292059107966...</td>\n",
              "      <td>مليارات #قطر_المحتلة تنهال على مرتزقة قناة الخ...</td>\n",
              "      <td>0</td>\n",
              "      <td>0</td>\n",
              "    </tr>\n",
              "    <tr>\n",
              "      <th>3147</th>\n",
              "      <td>CT20-AR-30</td>\n",
              "      <td>1229207884250189824</td>\n",
              "      <td>https://twitter.com/user/status/12292078842501...</td>\n",
              "      <td>#سفيه_الدوحه_وجزيه_المرتزقه فلوس ايتام قطر بيد...</td>\n",
              "      <td>0</td>\n",
              "      <td>0</td>\n",
              "    </tr>\n",
              "    <tr>\n",
              "      <th>3148</th>\n",
              "      <td>CT20-AR-30</td>\n",
              "      <td>1229208814899081216</td>\n",
              "      <td>https://twitter.com/user/status/12292088148990...</td>\n",
              "      <td>كلاب الخنزيره وقطر كان الله بعون الشعب القطري ...</td>\n",
              "      <td>0</td>\n",
              "      <td>0</td>\n",
              "    </tr>\n",
              "    <tr>\n",
              "      <th>3149</th>\n",
              "      <td>CT20-AR-30</td>\n",
              "      <td>1229211400213598208</td>\n",
              "      <td>https://twitter.com/user/status/12292114002135...</td>\n",
              "      <td>#سفيه_الدوحه_وجزيه_المرتزقه اكثر شخص حزنت عليه...</td>\n",
              "      <td>0</td>\n",
              "      <td>0</td>\n",
              "    </tr>\n",
              "    <tr>\n",
              "      <th>3150</th>\n",
              "      <td>CT20-AR-30</td>\n",
              "      <td>1229212016189067266</td>\n",
              "      <td>https://twitter.com/user/status/12292120161890...</td>\n",
              "      <td>سنين من الارتزاق من بهايم قطر، وجاك الشايب بلح...</td>\n",
              "      <td>0</td>\n",
              "      <td>0</td>\n",
              "    </tr>\n",
              "    <tr>\n",
              "      <th>3151</th>\n",
              "      <td>CT20-AR-30</td>\n",
              "      <td>1229220431867105281</td>\n",
              "      <td>https://twitter.com/user/status/12292204318671...</td>\n",
              "      <td>#١٠٠٠_يوم_من_صمود #١٠٠٠_يوم_من_الحصار الصمله ش...</td>\n",
              "      <td>0</td>\n",
              "      <td>0</td>\n",
              "    </tr>\n",
              "  </tbody>\n",
              "</table>\n",
              "</div>"
            ],
            "text/plain": [
              "        topic_id             tweet_id  ... claim claim_worthiness\n",
              "3121  CT20-AR-30  1229194023568580608  ...     0                0\n",
              "3122  CT20-AR-30  1229194209699168258  ...     0                0\n",
              "3123  CT20-AR-30  1229194728408829952  ...     0                0\n",
              "3124  CT20-AR-30  1229194730807988225  ...     0                0\n",
              "3125  CT20-AR-30  1229194862689427457  ...     0                0\n",
              "3126  CT20-AR-30  1229194926203834369  ...     0                0\n",
              "3127  CT20-AR-30  1229195485258362880  ...     0                0\n",
              "3128  CT20-AR-30  1229195812036661249  ...     0                0\n",
              "3129  CT20-AR-30  1229196072465129472  ...     0                0\n",
              "3130  CT20-AR-30  1229196544869589000  ...     0                0\n",
              "3131  CT20-AR-30  1229197167329513472  ...     0                0\n",
              "3132  CT20-AR-30  1229197220282585088  ...     0                0\n",
              "3133  CT20-AR-30  1229197292965711873  ...     0                0\n",
              "3134  CT20-AR-30  1229198280745193472  ...     0                0\n",
              "3135  CT20-AR-30  1229198574199676932  ...     0                0\n",
              "3136  CT20-AR-30  1229198737307766785  ...     0                0\n",
              "3137  CT20-AR-30  1229199274296123392  ...     0                0\n",
              "3138  CT20-AR-30  1229199711267151873  ...     0                0\n",
              "3139  CT20-AR-30  1229201225704497152  ...     0                0\n",
              "3140  CT20-AR-30  1229201528197722120  ...     0                0\n",
              "3141  CT20-AR-30  1229201831382994944  ...     0                0\n",
              "3142  CT20-AR-30  1229202525225705474  ...     0                0\n",
              "3143  CT20-AR-30  1229204263634690048  ...     0                0\n",
              "3144  CT20-AR-30  1229205347321204736  ...     0                0\n",
              "3145  CT20-AR-30  1229205779137339393  ...     0                0\n",
              "3146  CT20-AR-30  1229205910796619777  ...     0                0\n",
              "3147  CT20-AR-30  1229207884250189824  ...     0                0\n",
              "3148  CT20-AR-30  1229208814899081216  ...     0                0\n",
              "3149  CT20-AR-30  1229211400213598208  ...     0                0\n",
              "3150  CT20-AR-30  1229212016189067266  ...     0                0\n",
              "3151  CT20-AR-30  1229220431867105281  ...     0                0\n",
              "\n",
              "[31 rows x 6 columns]"
            ]
          },
          "metadata": {
            "tags": []
          },
          "execution_count": 19
        }
      ]
    },
    {
      "cell_type": "code",
      "metadata": {
        "id": "dzH1PJzyV-lg"
      },
      "source": [
        "for topic in topics_to_undersample:\n",
        "  k = len(data[(data['claim_worthiness']== 0)&(data['topic_id'] == topic )])\n",
        "  idx = data[(data['claim_worthiness']== 0)&(data['topic_id'] == topic)].index\n",
        "  data.drop(data.index[idx[0]:idx[k*2//3]-1], inplace=True)"
      ],
      "execution_count": null,
      "outputs": []
    },
    {
      "cell_type": "code",
      "metadata": {
        "colab": {
          "base_uri": "https://localhost:8080/",
          "height": 525
        },
        "id": "lFSavYIKtJpT",
        "outputId": "b6fa610a-6b1b-4fcb-cff3-a4114ed4ed4b"
      },
      "source": [
        "sns.countplot(data=data,x=\"claim_worthiness\",hue=\"topic_id\")"
      ],
      "execution_count": null,
      "outputs": [
        {
          "output_type": "execute_result",
          "data": {
            "text/plain": [
              "<matplotlib.axes._subplots.AxesSubplot at 0x7f7d5f098550>"
            ]
          },
          "metadata": {
            "tags": []
          },
          "execution_count": 21
        },
        {
          "output_type": "display_data",
          "data": {
            "image/png": "[encoded data removed]",
            "text/plain": [
              "<Figure size 864x576 with 1 Axes>"
            ]
          },
          "metadata": {
            "tags": [],
            "image/png": {
              "width": 736,
              "height": 490
            }
          }
        }
      ]
    },
    {
      "cell_type": "code",
      "metadata": {
        "colab": {
          "base_uri": "https://localhost:8080/",
          "height": 597
        },
        "id": "njbxUTddxGt6",
        "outputId": "8ab7d7ca-f55e-4990-bbad-1849bb5766aa"
      },
      "source": [
        "data.reset_index()"
      ],
      "execution_count": null,
      "outputs": [
        {
          "output_type": "execute_result",
          "data": {
            "text/html": [
              "<div>\n",
              "<style scoped>\n",
              "    .dataframe tbody tr th:only-of-type {\n",
              "        vertical-align: middle;\n",
              "    }\n",
              "\n",
              "    .dataframe tbody tr th {\n",
              "        vertical-align: top;\n",
              "    }\n",
              "\n",
              "    .dataframe thead th {\n",
              "        text-align: right;\n",
              "    }\n",
              "</style>\n",
              "<table border=\"1\" class=\"dataframe\">\n",
              "  <thead>\n",
              "    <tr style=\"text-align: right;\">\n",
              "      <th></th>\n",
              "      <th>index</th>\n",
              "      <th>topic_id</th>\n",
              "      <th>tweet_id</th>\n",
              "      <th>tweet_url</th>\n",
              "      <th>tweet_text</th>\n",
              "      <th>claim</th>\n",
              "      <th>claim_worthiness</th>\n",
              "    </tr>\n",
              "  </thead>\n",
              "  <tbody>\n",
              "    <tr>\n",
              "      <th>0</th>\n",
              "      <td>251</td>\n",
              "      <td>CT20-AR-01</td>\n",
              "      <td>1222558536384774144</td>\n",
              "      <td>https://twitter.com/user/status/12225585363847...</td>\n",
              "      <td>مع إحترام الحرية الشخصية بتويتر وكل شخص حر بما...</td>\n",
              "      <td>0</td>\n",
              "      <td>0</td>\n",
              "    </tr>\n",
              "    <tr>\n",
              "      <th>1</th>\n",
              "      <td>252</td>\n",
              "      <td>CT20-AR-01</td>\n",
              "      <td>1222559280768978945</td>\n",
              "      <td>https://twitter.com/user/status/12225592807689...</td>\n",
              "      <td>قريبا ستتهاوى الأقنعة.... الكيان لم يعد يرضى ب...</td>\n",
              "      <td>0</td>\n",
              "      <td>0</td>\n",
              "    </tr>\n",
              "    <tr>\n",
              "      <th>2</th>\n",
              "      <td>253</td>\n",
              "      <td>CT20-AR-01</td>\n",
              "      <td>1222561606158233600</td>\n",
              "      <td>https://twitter.com/user/status/12225616061582...</td>\n",
              "      <td>كم هي مؤلمة حرقة القلب و تلك الغصة التي تطعن ر...</td>\n",
              "      <td>0</td>\n",
              "      <td>0</td>\n",
              "    </tr>\n",
              "    <tr>\n",
              "      <th>3</th>\n",
              "      <td>254</td>\n",
              "      <td>CT20-AR-01</td>\n",
              "      <td>1222561821757988865</td>\n",
              "      <td>https://twitter.com/user/status/12225618217579...</td>\n",
              "      <td>الإمام السيد علي الخامنئي: إن ما يسمى “صفقة ال...</td>\n",
              "      <td>0</td>\n",
              "      <td>0</td>\n",
              "    </tr>\n",
              "    <tr>\n",
              "      <th>4</th>\n",
              "      <td>255</td>\n",
              "      <td>CT20-AR-01</td>\n",
              "      <td>1222562015346135040</td>\n",
              "      <td>https://twitter.com/user/status/12225620153461...</td>\n",
              "      <td>في يوم آتٍ قريب؛ سيخلصها رجال أتقياء يحبون الم...</td>\n",
              "      <td>0</td>\n",
              "      <td>0</td>\n",
              "    </tr>\n",
              "    <tr>\n",
              "      <th>...</th>\n",
              "      <td>...</td>\n",
              "      <td>...</td>\n",
              "      <td>...</td>\n",
              "      <td>...</td>\n",
              "      <td>...</td>\n",
              "      <td>...</td>\n",
              "      <td>...</td>\n",
              "    </tr>\n",
              "    <tr>\n",
              "      <th>2253</th>\n",
              "      <td>3434</td>\n",
              "      <td>CT20-AR-30</td>\n",
              "      <td>1229511354714927105</td>\n",
              "      <td>https://twitter.com/user/status/12295113547149...</td>\n",
              "      <td>#سفيه_الدوحه_وجزيه_المرتزقه ماكسر خاطري الا حم...</td>\n",
              "      <td>0</td>\n",
              "      <td>0</td>\n",
              "    </tr>\n",
              "    <tr>\n",
              "      <th>2254</th>\n",
              "      <td>3435</td>\n",
              "      <td>CT20-AR-30</td>\n",
              "      <td>1229512831114108934</td>\n",
              "      <td>https://twitter.com/user/status/12295128311141...</td>\n",
              "      <td>انتصار جديد لـ #قطر وصفعة قاسية لدول الحصار ال...</td>\n",
              "      <td>0</td>\n",
              "      <td>0</td>\n",
              "    </tr>\n",
              "    <tr>\n",
              "      <th>2255</th>\n",
              "      <td>3436</td>\n",
              "      <td>CT20-AR-30</td>\n",
              "      <td>1229513572633530368</td>\n",
              "      <td>https://twitter.com/user/status/12295135726335...</td>\n",
              "      <td>@alkhor_live @ama4425 الله اكبر هذا يعتبر اكبر...</td>\n",
              "      <td>0</td>\n",
              "      <td>0</td>\n",
              "    </tr>\n",
              "    <tr>\n",
              "      <th>2256</th>\n",
              "      <td>3437</td>\n",
              "      <td>CT20-AR-30</td>\n",
              "      <td>1229529046930903040</td>\n",
              "      <td>https://twitter.com/user/status/12295290469309...</td>\n",
              "      <td>@Alg27010 @ramlo_ramlo غير تنضحك مع راملو ... ...</td>\n",
              "      <td>0</td>\n",
              "      <td>0</td>\n",
              "    </tr>\n",
              "    <tr>\n",
              "      <th>2257</th>\n",
              "      <td>3438</td>\n",
              "      <td>CT20-AR-30</td>\n",
              "      <td>1229539125453295619</td>\n",
              "      <td>https://twitter.com/user/status/12295391254532...</td>\n",
              "      <td>قناة العربية : رئيس النظام السوري قناة الجزيرة...</td>\n",
              "      <td>1</td>\n",
              "      <td>0</td>\n",
              "    </tr>\n",
              "  </tbody>\n",
              "</table>\n",
              "<p>2258 rows × 7 columns</p>\n",
              "</div>"
            ],
            "text/plain": [
              "      index    topic_id  ...  claim claim_worthiness\n",
              "0       251  CT20-AR-01  ...      0                0\n",
              "1       252  CT20-AR-01  ...      0                0\n",
              "2       253  CT20-AR-01  ...      0                0\n",
              "3       254  CT20-AR-01  ...      0                0\n",
              "4       255  CT20-AR-01  ...      0                0\n",
              "...     ...         ...  ...    ...              ...\n",
              "2253   3434  CT20-AR-30  ...      0                0\n",
              "2254   3435  CT20-AR-30  ...      0                0\n",
              "2255   3436  CT20-AR-30  ...      0                0\n",
              "2256   3437  CT20-AR-30  ...      0                0\n",
              "2257   3438  CT20-AR-30  ...      1                0\n",
              "\n",
              "[2258 rows x 7 columns]"
            ]
          },
          "metadata": {
            "tags": []
          },
          "execution_count": 22
        }
      ]
    },
    {
      "cell_type": "code",
      "metadata": {
        "id": "KLbbk_wUnV2h",
        "colab": {
          "base_uri": "https://localhost:8080/",
          "height": 525
        },
        "outputId": "6220ff19-b5a0-469d-c7b8-8053cf0375f0"
      },
      "source": [
        "sns.countplot(data=dev,x=\"claim_worthiness\",hue=\"topic_id\")"
      ],
      "execution_count": null,
      "outputs": [
        {
          "output_type": "execute_result",
          "data": {
            "text/plain": [
              "<matplotlib.axes._subplots.AxesSubplot at 0x7f7d5c5a6510>"
            ]
          },
          "metadata": {
            "tags": []
          },
          "execution_count": 23
        },
        {
          "output_type": "display_data",
          "data": {
            "image/png": "[encoded data removed]",
            "text/plain": [
              "<Figure size 864x576 with 1 Axes>"
            ]
          },
          "metadata": {
            "tags": [],
            "image/png": {
              "width": 736,
              "height": 490
            }
          }
        }
      ]
    },
    {
      "cell_type": "code",
      "metadata": {
        "id": "4k0QZ7-9yO_7"
      },
      "source": [
        "data = data.sample(frac=1).reset_index(drop=True)"
      ],
      "execution_count": null,
      "outputs": []
    },
    {
      "cell_type": "code",
      "metadata": {
        "id": "nTUIM6DKDJPW"
      },
      "source": [
        "import re\n",
        "from os import listdir\n",
        "from os.path import isfile, join\n",
        "from pyarabic import araby\n",
        "\n",
        "\n",
        "def process(text):\n",
        "    text = araby.strip_tashkeel(text) #delete *tashkil\n",
        "    text = re.sub('\\ـ+', ' ', text)  # delete letter madda\n",
        "    text = re.sub(\"^https?:\\/\\/.*[\\r\\n]*\", '', text, flags=re.MULTILINE)\n",
        "    #text = re.sub(\"^(@[A-Za-z0-9_]+)|([^0-9A-Za-z])\",\" \",text)\n",
        "\n",
        "    text = \" \".join(text.split()) #delete multispace\n",
        "    return text\n",
        "def remove_english(value):\n",
        "    output = re.sub(r'\\s*[A-Za-z0-9_]+\\b', '' , value)\n",
        "    results=re.sub(r'\\W', ' ', output, flags=re.UNICODE)\n",
        "    return results"
      ],
      "execution_count": null,
      "outputs": []
    },
    {
      "cell_type": "code",
      "metadata": {
        "id": "5cu6qmOyG03j"
      },
      "source": [
        "data[\"tweet_text\"]=data[\"tweet_text\"].apply(lambda x : remove_english(x))"
      ],
      "execution_count": null,
      "outputs": []
    },
    {
      "cell_type": "code",
      "metadata": {
        "id": "GFA-mV8lFZKg",
        "colab": {
          "base_uri": "https://localhost:8080/"
        },
        "outputId": "1b687abf-99a3-4e29-cb87-f3ff36f0ee2d"
      },
      "source": [
        "data.tweet_text"
      ],
      "execution_count": null,
      "outputs": [
        {
          "output_type": "execute_result",
          "data": {
            "text/plain": [
              "0       عزيزي المواطن   والمقيم المدخنين هم أكثر عرضة ...\n",
              "1        الحرية_للمحامي_هاني_حسين له حق علينا ان ننصره...\n",
              "2       ما يغشوكم القحاته و يقولو ليكم م عارفين لا عار...\n",
              "3           ٠ التحرش سببه ملابس البنت ولا أخلاق الراجل  ٠\n",
              "4        خبر   لواء الشمال الديمقراطي السوري  تركيا تس...\n",
              "                              ...                        \n",
              "2253    يعيش  البدون في حالة من العزل والتدقيق والفحص ...\n",
              "2254    أيها المجاهدون الأبرار والثوار الأحرار في  إدل...\n",
              "2255          التطبيع حصل غصبا عنك و عن عين اسيادك الك...\n",
              "2256        لهذه الأسباب تدخلت تركيا في ليبيا            \n",
              "2257     عاجل  رئيس منظمة ضحايا لحقوق الإنسان ناصر اله...\n",
              "Name: tweet_text, Length: 2258, dtype: object"
            ]
          },
          "metadata": {
            "tags": []
          },
          "execution_count": 27
        }
      ]
    },
    {
      "cell_type": "code",
      "metadata": {
        "id": "-csxultWFHq1"
      },
      "source": [
        "data[\"tweet_text\"]=data[\"tweet_text\"].apply(lambda x : process(x))\n",
        "data[\"tweet_text\"]=data[\"tweet_text\"].apply(lambda x : remove_english(x))"
      ],
      "execution_count": null,
      "outputs": []
    },
    {
      "cell_type": "code",
      "metadata": {
        "id": "bupgk8lCFRC5"
      },
      "source": [
        "dev[\"tweet_text\"]=dev[\"tweet_text\"].apply(lambda x : process(x))\n",
        "dev[\"tweet_text\"]=dev[\"tweet_text\"].apply(lambda x : remove_english(x))"
      ],
      "execution_count": null,
      "outputs": []
    },
    {
      "cell_type": "code",
      "metadata": {
        "id": "MOKMc4r9GMYz",
        "colab": {
          "base_uri": "https://localhost:8080/",
          "height": 597
        },
        "outputId": "211c4c0d-6be9-49d8-bbc0-1a82b22092c7"
      },
      "source": [
        "data"
      ],
      "execution_count": null,
      "outputs": [
        {
          "output_type": "execute_result",
          "data": {
            "text/html": [
              "<div>\n",
              "<style scoped>\n",
              "    .dataframe tbody tr th:only-of-type {\n",
              "        vertical-align: middle;\n",
              "    }\n",
              "\n",
              "    .dataframe tbody tr th {\n",
              "        vertical-align: top;\n",
              "    }\n",
              "\n",
              "    .dataframe thead th {\n",
              "        text-align: right;\n",
              "    }\n",
              "</style>\n",
              "<table border=\"1\" class=\"dataframe\">\n",
              "  <thead>\n",
              "    <tr style=\"text-align: right;\">\n",
              "      <th></th>\n",
              "      <th>topic_id</th>\n",
              "      <th>tweet_id</th>\n",
              "      <th>tweet_url</th>\n",
              "      <th>tweet_text</th>\n",
              "      <th>claim</th>\n",
              "      <th>claim_worthiness</th>\n",
              "    </tr>\n",
              "  </thead>\n",
              "  <tbody>\n",
              "    <tr>\n",
              "      <th>0</th>\n",
              "      <td>CT20-AR-28_w1</td>\n",
              "      <td>1240319232858095616</td>\n",
              "      <td>https://twitter.com/user/status/12403192328580...</td>\n",
              "      <td>عزيزي المواطن والمقيم المدخنين هم أكثر عرضة لل...</td>\n",
              "      <td>1</td>\n",
              "      <td>1</td>\n",
              "    </tr>\n",
              "    <tr>\n",
              "      <th>1</th>\n",
              "      <td>CT20-AR-23</td>\n",
              "      <td>1231255812208652289</td>\n",
              "      <td>https://twitter.com/user/status/12312558122086...</td>\n",
              "      <td>الحرية_للمحامي_هاني_حسين له حق علينا ان ننصره ...</td>\n",
              "      <td>0</td>\n",
              "      <td>0</td>\n",
              "    </tr>\n",
              "    <tr>\n",
              "      <th>2</th>\n",
              "      <td>CT20-AR-12</td>\n",
              "      <td>1225114707033456640</td>\n",
              "      <td>https://twitter.com/user/status/12251147070334...</td>\n",
              "      <td>ما يغشوكم القحاته و يقولو ليكم م عارفين لا عار...</td>\n",
              "      <td>0</td>\n",
              "      <td>0</td>\n",
              "    </tr>\n",
              "    <tr>\n",
              "      <th>3</th>\n",
              "      <td>CT20-AR-08</td>\n",
              "      <td>1223303463960023041</td>\n",
              "      <td>https://twitter.com/user/status/12233034639600...</td>\n",
              "      <td>٠ التحرش سببه ملابس البنت ولا أخلاق الراجل ٠</td>\n",
              "      <td>0</td>\n",
              "      <td>0</td>\n",
              "    </tr>\n",
              "    <tr>\n",
              "      <th>4</th>\n",
              "      <td>CT20-AR-14</td>\n",
              "      <td>1225486817329401858</td>\n",
              "      <td>https://twitter.com/user/status/12254868173294...</td>\n",
              "      <td>خبر لواء الشمال الديمقراطي السوري تركيا تستغل ...</td>\n",
              "      <td>1</td>\n",
              "      <td>1</td>\n",
              "    </tr>\n",
              "    <tr>\n",
              "      <th>...</th>\n",
              "      <td>...</td>\n",
              "      <td>...</td>\n",
              "      <td>...</td>\n",
              "      <td>...</td>\n",
              "      <td>...</td>\n",
              "      <td>...</td>\n",
              "    </tr>\n",
              "    <tr>\n",
              "      <th>2253</th>\n",
              "      <td>CT20-AR-23</td>\n",
              "      <td>1231175981739671552</td>\n",
              "      <td>https://twitter.com/user/status/12311759817396...</td>\n",
              "      <td>يعيش البدون في حالة من العزل والتدقيق والفحص م...</td>\n",
              "      <td>0</td>\n",
              "      <td>0</td>\n",
              "    </tr>\n",
              "    <tr>\n",
              "      <th>2254</th>\n",
              "      <td>CT20-AR-01</td>\n",
              "      <td>1222588768194048000</td>\n",
              "      <td>https://twitter.com/user/status/12225887681940...</td>\n",
              "      <td>أيها المجاهدون الأبرار والثوار الأحرار في إدلب...</td>\n",
              "      <td>0</td>\n",
              "      <td>0</td>\n",
              "    </tr>\n",
              "    <tr>\n",
              "      <th>2255</th>\n",
              "      <td>CT20-AR-12</td>\n",
              "      <td>1225117004954263552</td>\n",
              "      <td>https://twitter.com/user/status/12251170049542...</td>\n",
              "      <td>التطبيع حصل غصبا عنك و عن عين اسيادك الكيزان ع...</td>\n",
              "      <td>0</td>\n",
              "      <td>0</td>\n",
              "    </tr>\n",
              "    <tr>\n",
              "      <th>2256</th>\n",
              "      <td>CT20-AR-14</td>\n",
              "      <td>1225686147990315008</td>\n",
              "      <td>https://twitter.com/user/status/12256861479903...</td>\n",
              "      <td>لهذه الأسباب تدخلت تركيا في ليبيا</td>\n",
              "      <td>0</td>\n",
              "      <td>0</td>\n",
              "    </tr>\n",
              "    <tr>\n",
              "      <th>2257</th>\n",
              "      <td>CT20-AR-14</td>\n",
              "      <td>1226542940920647680</td>\n",
              "      <td>https://twitter.com/user/status/12265429409206...</td>\n",
              "      <td>عاجل رئيس منظمة ضحايا لحقوق الإنسان ناصر الهوا...</td>\n",
              "      <td>1</td>\n",
              "      <td>1</td>\n",
              "    </tr>\n",
              "  </tbody>\n",
              "</table>\n",
              "<p>2258 rows × 6 columns</p>\n",
              "</div>"
            ],
            "text/plain": [
              "           topic_id             tweet_id  ... claim claim_worthiness\n",
              "0     CT20-AR-28_w1  1240319232858095616  ...     1                1\n",
              "1        CT20-AR-23  1231255812208652289  ...     0                0\n",
              "2        CT20-AR-12  1225114707033456640  ...     0                0\n",
              "3        CT20-AR-08  1223303463960023041  ...     0                0\n",
              "4        CT20-AR-14  1225486817329401858  ...     1                1\n",
              "...             ...                  ...  ...   ...              ...\n",
              "2253     CT20-AR-23  1231175981739671552  ...     0                0\n",
              "2254     CT20-AR-01  1222588768194048000  ...     0                0\n",
              "2255     CT20-AR-12  1225117004954263552  ...     0                0\n",
              "2256     CT20-AR-14  1225686147990315008  ...     0                0\n",
              "2257     CT20-AR-14  1226542940920647680  ...     1                1\n",
              "\n",
              "[2258 rows x 6 columns]"
            ]
          },
          "metadata": {
            "tags": []
          },
          "execution_count": 30
        }
      ]
    },
    {
      "cell_type": "code",
      "metadata": {
        "id": "95sYZva2BOVy",
        "colab": {
          "base_uri": "https://localhost:8080/"
        },
        "outputId": "95ea8c94-62da-4166-8178-1883e8e40b4e"
      },
      "source": [
        "%cd /content/"
      ],
      "execution_count": null,
      "outputs": [
        {
          "output_type": "stream",
          "text": [
            "/content\n"
          ],
          "name": "stdout"
        }
      ]
    },
    {
      "cell_type": "code",
      "metadata": {
        "id": "pcVS9YjAyQEo"
      },
      "source": [
        "sub = pd.DataFrame()\n",
        "sub['tweet_id'] = dev.tweet_id.copy()\n",
        "sub['topic_id'] = dev.tweet_id.copy()\n",
        "sub['score'] = 0\n",
        "sub['run_id'] = \"Model_1\"\n"
      ],
      "execution_count": null,
      "outputs": []
    },
    {
      "cell_type": "code",
      "metadata": {
        "id": "h0PDv67KykyB"
      },
      "source": [
        "data.drop([\"topic_id\",\"tweet_url\",\"tweet_id\",\"claim\"],axis=1,inplace=True)"
      ],
      "execution_count": null,
      "outputs": []
    },
    {
      "cell_type": "code",
      "metadata": {
        "id": "jQYvgtIJURm1"
      },
      "source": [
        "dev.drop([\"topic_id\",\"tweet_url\",\"tweet_id\",\"claim\"],axis=1,inplace=True)"
      ],
      "execution_count": null,
      "outputs": []
    },
    {
      "cell_type": "code",
      "metadata": {
        "id": "3XeDV8FoWr8J",
        "colab": {
          "base_uri": "https://localhost:8080/",
          "height": 424
        },
        "outputId": "1a3e822b-9552-4c75-e5c6-0b7478ed0226"
      },
      "source": [
        "data"
      ],
      "execution_count": null,
      "outputs": [
        {
          "output_type": "execute_result",
          "data": {
            "text/html": [
              "<div>\n",
              "<style scoped>\n",
              "    .dataframe tbody tr th:only-of-type {\n",
              "        vertical-align: middle;\n",
              "    }\n",
              "\n",
              "    .dataframe tbody tr th {\n",
              "        vertical-align: top;\n",
              "    }\n",
              "\n",
              "    .dataframe thead th {\n",
              "        text-align: right;\n",
              "    }\n",
              "</style>\n",
              "<table border=\"1\" class=\"dataframe\">\n",
              "  <thead>\n",
              "    <tr style=\"text-align: right;\">\n",
              "      <th></th>\n",
              "      <th>tweet_text</th>\n",
              "      <th>claim_worthiness</th>\n",
              "    </tr>\n",
              "  </thead>\n",
              "  <tbody>\n",
              "    <tr>\n",
              "      <th>0</th>\n",
              "      <td>عزيزي المواطن والمقيم المدخنين هم أكثر عرضة لل...</td>\n",
              "      <td>1</td>\n",
              "    </tr>\n",
              "    <tr>\n",
              "      <th>1</th>\n",
              "      <td>الحرية_للمحامي_هاني_حسين له حق علينا ان ننصره ...</td>\n",
              "      <td>0</td>\n",
              "    </tr>\n",
              "    <tr>\n",
              "      <th>2</th>\n",
              "      <td>ما يغشوكم القحاته و يقولو ليكم م عارفين لا عار...</td>\n",
              "      <td>0</td>\n",
              "    </tr>\n",
              "    <tr>\n",
              "      <th>3</th>\n",
              "      <td>٠ التحرش سببه ملابس البنت ولا أخلاق الراجل ٠</td>\n",
              "      <td>0</td>\n",
              "    </tr>\n",
              "    <tr>\n",
              "      <th>4</th>\n",
              "      <td>خبر لواء الشمال الديمقراطي السوري تركيا تستغل ...</td>\n",
              "      <td>1</td>\n",
              "    </tr>\n",
              "    <tr>\n",
              "      <th>...</th>\n",
              "      <td>...</td>\n",
              "      <td>...</td>\n",
              "    </tr>\n",
              "    <tr>\n",
              "      <th>2253</th>\n",
              "      <td>يعيش البدون في حالة من العزل والتدقيق والفحص م...</td>\n",
              "      <td>0</td>\n",
              "    </tr>\n",
              "    <tr>\n",
              "      <th>2254</th>\n",
              "      <td>أيها المجاهدون الأبرار والثوار الأحرار في إدلب...</td>\n",
              "      <td>0</td>\n",
              "    </tr>\n",
              "    <tr>\n",
              "      <th>2255</th>\n",
              "      <td>التطبيع حصل غصبا عنك و عن عين اسيادك الكيزان ع...</td>\n",
              "      <td>0</td>\n",
              "    </tr>\n",
              "    <tr>\n",
              "      <th>2256</th>\n",
              "      <td>لهذه الأسباب تدخلت تركيا في ليبيا</td>\n",
              "      <td>0</td>\n",
              "    </tr>\n",
              "    <tr>\n",
              "      <th>2257</th>\n",
              "      <td>عاجل رئيس منظمة ضحايا لحقوق الإنسان ناصر الهوا...</td>\n",
              "      <td>1</td>\n",
              "    </tr>\n",
              "  </tbody>\n",
              "</table>\n",
              "<p>2258 rows × 2 columns</p>\n",
              "</div>"
            ],
            "text/plain": [
              "                                             tweet_text  claim_worthiness\n",
              "0     عزيزي المواطن والمقيم المدخنين هم أكثر عرضة لل...                 1\n",
              "1     الحرية_للمحامي_هاني_حسين له حق علينا ان ننصره ...                 0\n",
              "2     ما يغشوكم القحاته و يقولو ليكم م عارفين لا عار...                 0\n",
              "3          ٠ التحرش سببه ملابس البنت ولا أخلاق الراجل ٠                 0\n",
              "4     خبر لواء الشمال الديمقراطي السوري تركيا تستغل ...                 1\n",
              "...                                                 ...               ...\n",
              "2253  يعيش البدون في حالة من العزل والتدقيق والفحص م...                 0\n",
              "2254  أيها المجاهدون الأبرار والثوار الأحرار في إدلب...                 0\n",
              "2255  التطبيع حصل غصبا عنك و عن عين اسيادك الكيزان ع...                 0\n",
              "2256                  لهذه الأسباب تدخلت تركيا في ليبيا                 0\n",
              "2257  عاجل رئيس منظمة ضحايا لحقوق الإنسان ناصر الهوا...                 1\n",
              "\n",
              "[2258 rows x 2 columns]"
            ]
          },
          "metadata": {
            "tags": []
          },
          "execution_count": 35
        }
      ]
    },
    {
      "cell_type": "code",
      "metadata": {
        "id": "45oFd6oe0DW6"
      },
      "source": [
        "train, val = train_test_split(data, test_size=0.15,random_state=23)"
      ],
      "execution_count": null,
      "outputs": []
    },
    {
      "cell_type": "code",
      "metadata": {
        "id": "DGCFR-ty0S13",
        "colab": {
          "base_uri": "https://localhost:8080/",
          "height": 424
        },
        "outputId": "1614be6a-2781-4467-928a-d96e52da9fd1"
      },
      "source": [
        "train"
      ],
      "execution_count": null,
      "outputs": [
        {
          "output_type": "execute_result",
          "data": {
            "text/html": [
              "<div>\n",
              "<style scoped>\n",
              "    .dataframe tbody tr th:only-of-type {\n",
              "        vertical-align: middle;\n",
              "    }\n",
              "\n",
              "    .dataframe tbody tr th {\n",
              "        vertical-align: top;\n",
              "    }\n",
              "\n",
              "    .dataframe thead th {\n",
              "        text-align: right;\n",
              "    }\n",
              "</style>\n",
              "<table border=\"1\" class=\"dataframe\">\n",
              "  <thead>\n",
              "    <tr style=\"text-align: right;\">\n",
              "      <th></th>\n",
              "      <th>tweet_text</th>\n",
              "      <th>claim_worthiness</th>\n",
              "    </tr>\n",
              "  </thead>\n",
              "  <tbody>\n",
              "    <tr>\n",
              "      <th>2201</th>\n",
              "      <td>في كل المحاور ت سطر الانتصارات على الشيطان الأ...</td>\n",
              "      <td>0</td>\n",
              "    </tr>\n",
              "    <tr>\n",
              "      <th>748</th>\n",
              "      <td>صفحة من القران يوميا كفيلة بأن تبعدك عن هجره و...</td>\n",
              "      <td>0</td>\n",
              "    </tr>\n",
              "    <tr>\n",
              "      <th>1083</th>\n",
              "      <td>فيديو الحراك الشعبي بمدينة وهران يرفض استقبال ...</td>\n",
              "      <td>1</td>\n",
              "    </tr>\n",
              "    <tr>\n",
              "      <th>610</th>\n",
              "      <td>وزراء خارجية مجموعة الدول الصناعية لا يستطيعون...</td>\n",
              "      <td>1</td>\n",
              "    </tr>\n",
              "    <tr>\n",
              "      <th>990</th>\n",
              "      <td>القفز إلى استنتاجات غير مثبتة وإيراد وقائع غير...</td>\n",
              "      <td>0</td>\n",
              "    </tr>\n",
              "    <tr>\n",
              "      <th>...</th>\n",
              "      <td>...</td>\n",
              "      <td>...</td>\n",
              "    </tr>\n",
              "    <tr>\n",
              "      <th>1512</th>\n",
              "      <td>من المصابين بال كورونا_فيروس يتعافون تلقائيا و...</td>\n",
              "      <td>1</td>\n",
              "    </tr>\n",
              "    <tr>\n",
              "      <th>1993</th>\n",
              "      <td>تأكيدات حكومية ألمانية على أهمية التوصل إلى عق...</td>\n",
              "      <td>0</td>\n",
              "    </tr>\n",
              "    <tr>\n",
              "      <th>1064</th>\n",
              "      <td>مع انتشار وباء كورونا إليكم النصيحة النبوية ﷺ ...</td>\n",
              "      <td>0</td>\n",
              "    </tr>\n",
              "    <tr>\n",
              "      <th>742</th>\n",
              "      <td>أنظروا للمنطقة جيد ا تركيا وروسيا في سوريا ترك...</td>\n",
              "      <td>0</td>\n",
              "    </tr>\n",
              "    <tr>\n",
              "      <th>595</th>\n",
              "      <td>كورونايكره النقاب عنوان جريدة فرنسية الترجمة ا...</td>\n",
              "      <td>0</td>\n",
              "    </tr>\n",
              "  </tbody>\n",
              "</table>\n",
              "<p>1919 rows × 2 columns</p>\n",
              "</div>"
            ],
            "text/plain": [
              "                                             tweet_text  claim_worthiness\n",
              "2201  في كل المحاور ت سطر الانتصارات على الشيطان الأ...                 0\n",
              "748   صفحة من القران يوميا كفيلة بأن تبعدك عن هجره و...                 0\n",
              "1083  فيديو الحراك الشعبي بمدينة وهران يرفض استقبال ...                 1\n",
              "610   وزراء خارجية مجموعة الدول الصناعية لا يستطيعون...                 1\n",
              "990   القفز إلى استنتاجات غير مثبتة وإيراد وقائع غير...                 0\n",
              "...                                                 ...               ...\n",
              "1512  من المصابين بال كورونا_فيروس يتعافون تلقائيا و...                 1\n",
              "1993  تأكيدات حكومية ألمانية على أهمية التوصل إلى عق...                 0\n",
              "1064  مع انتشار وباء كورونا إليكم النصيحة النبوية ﷺ ...                 0\n",
              "742   أنظروا للمنطقة جيد ا تركيا وروسيا في سوريا ترك...                 0\n",
              "595   كورونايكره النقاب عنوان جريدة فرنسية الترجمة ا...                 0\n",
              "\n",
              "[1919 rows x 2 columns]"
            ]
          },
          "metadata": {
            "tags": []
          },
          "execution_count": 37
        }
      ]
    },
    {
      "cell_type": "code",
      "metadata": {
        "id": "qNbSypEl0eJL"
      },
      "source": [
        "train.reset_index(drop=True, inplace=True)\n",
        "val.reset_index(drop=True, inplace=True)"
      ],
      "execution_count": null,
      "outputs": []
    },
    {
      "cell_type": "markdown",
      "metadata": {
        "id": "mpY7HpXH892j"
      },
      "source": [
        "###Tokenisation"
      ]
    },
    {
      "cell_type": "code",
      "metadata": {
        "id": "vzaqH61r0moH"
      },
      "source": [
        "PRE_TRAINED_MODEL_NAME = 'aubmindlab/bert-base-arabertv01'"
      ],
      "execution_count": null,
      "outputs": []
    },
    {
      "cell_type": "code",
      "metadata": {
        "id": "N3OGnyrx098t"
      },
      "source": [
        "tokenizer = BertTokenizer.from_pretrained(PRE_TRAINED_MODEL_NAME)"
      ],
      "execution_count": null,
      "outputs": []
    },
    {
      "cell_type": "code",
      "metadata": {
        "colab": {
          "base_uri": "https://localhost:8080/",
          "height": 35
        },
        "id": "ObPJmLAK1-dN",
        "outputId": "60064ee6-9fe5-4932-e261-a066f72dbf01"
      },
      "source": [
        "train.tweet_text[1]"
      ],
      "execution_count": null,
      "outputs": [
        {
          "output_type": "execute_result",
          "data": {
            "application/vnd.google.colaboratory.intrinsic+json": {
              "type": "string"
            },
            "text/plain": [
              "'صفحة من القران يوميا كفيلة بأن تبعدك عن هجره واتكفل انا بتنزيلها يوميا إن شاء الله سورة يوسف من الآية ١٠٤ الى الآية ١١١ فيروس_كورونا'"
            ]
          },
          "metadata": {
            "tags": []
          },
          "execution_count": 41
        }
      ]
    },
    {
      "cell_type": "code",
      "metadata": {
        "colab": {
          "base_uri": "https://localhost:8080/"
        },
        "id": "sJ4SO8ZA1FIS",
        "outputId": "64db5f2c-c488-489b-aa41-9f9102cc76b8"
      },
      "source": [
        "sample_txt = train.tweet_text[1]\n",
        "\n",
        "tokens = tokenizer.tokenize(sample_txt)\n",
        "\n",
        "token_ids = tokenizer.convert_tokens_to_ids(tokens)\n",
        "\n",
        "print(f' Sentence: {sample_txt}')\n",
        "print(f'   Tokens: {tokens}')\n",
        "print(f'Token IDs: {token_ids}')"
      ],
      "execution_count": null,
      "outputs": [
        {
          "output_type": "stream",
          "text": [
            " Sentence: صفحة من القران يوميا كفيلة بأن تبعدك عن هجره واتكفل انا بتنزيلها يوميا إن شاء الله سورة يوسف من الآية ١٠٤ الى الآية ١١١ فيروس_كورونا\n",
            "   Tokens: ['صفحة', 'من', 'القران', 'يوميا', 'كفيل', '##ة', 'بان', 'تبعد', '##ك', 'عن', 'هجر', '##ه', 'و', '##ات', '##ك', '##ف', '##ل', 'ان', '##ا', 'بتن', '##زيل', '##ها', 'يوميا', 'ان', 'شاء', 'الله', 'سورة', 'يوسف', 'من', 'الا', '##ية', '١٠', '##٤', 'الى', 'الا', '##ية', '١١', '##١', 'فيروس', '[UNK]', 'كورونا']\n",
            "Token IDs: [9295, 731, 33748, 28764, 10436, 885, 1574, 6915, 905, 631, 3793, 909, 112, 4604, 905, 903, 906, 420, 883, 1584, 15607, 4773, 28764, 420, 2560, 6067, 8953, 14078, 731, 1498, 4784, 785, 917, 1520, 1498, 4784, 786, 914, 23586, 60122, 37385]\n"
          ],
          "name": "stdout"
        }
      ]
    },
    {
      "cell_type": "code",
      "metadata": {
        "colab": {
          "base_uri": "https://localhost:8080/"
        },
        "id": "UR8Qf9YM3eyM",
        "outputId": "89c41c42-6878-4979-aae5-cc5e6abbc09c"
      },
      "source": [
        "len(tokens)"
      ],
      "execution_count": null,
      "outputs": [
        {
          "output_type": "execute_result",
          "data": {
            "text/plain": [
              "41"
            ]
          },
          "metadata": {
            "tags": []
          },
          "execution_count": 43
        }
      ]
    },
    {
      "cell_type": "code",
      "metadata": {
        "colab": {
          "base_uri": "https://localhost:8080/"
        },
        "id": "Uylf9Mvs2Ih6",
        "outputId": "1da11943-12f2-4d3b-b0ab-4498b8397e7e"
      },
      "source": [
        "tokenizer.special_tokens_map"
      ],
      "execution_count": null,
      "outputs": [
        {
          "output_type": "execute_result",
          "data": {
            "text/plain": [
              "{'cls_token': '[CLS]',\n",
              " 'mask_token': '[MASK]',\n",
              " 'pad_token': '[PAD]',\n",
              " 'sep_token': '[SEP]',\n",
              " 'unk_token': '[UNK]'}"
            ]
          },
          "metadata": {
            "tags": []
          },
          "execution_count": 44
        }
      ]
    },
    {
      "cell_type": "code",
      "metadata": {
        "colab": {
          "base_uri": "https://localhost:8080/"
        },
        "id": "YfutdBYr2uvp",
        "outputId": "86416a94-7eb3-4a56-cc2a-0d59bc99e0a9"
      },
      "source": [
        "encoding = tokenizer.encode_plus(\n",
        "  sample_txt,\n",
        "  max_length=120,\n",
        "  add_special_tokens=True, # Add '[CLS]' and '[SEP]'\n",
        "  return_token_type_ids=False,\n",
        "  pad_to_max_length=True,\n",
        "  return_attention_mask=True,\n",
        "  return_tensors='pt',  # Return PyTorch tensors\n",
        ")\n",
        "\n",
        "\n",
        "encoding.keys()"
      ],
      "execution_count": null,
      "outputs": [
        {
          "output_type": "execute_result",
          "data": {
            "text/plain": [
              "dict_keys(['input_ids', 'attention_mask'])"
            ]
          },
          "metadata": {
            "tags": []
          },
          "execution_count": 45
        }
      ]
    },
    {
      "cell_type": "code",
      "metadata": {
        "colab": {
          "base_uri": "https://localhost:8080/"
        },
        "id": "XSyrqUTd3L7F",
        "outputId": "362a437f-1a0a-414c-a74c-942ebdc508aa"
      },
      "source": [
        "tokenizer.convert_ids_to_tokens(encoding['input_ids'][0])"
      ],
      "execution_count": null,
      "outputs": [
        {
          "output_type": "execute_result",
          "data": {
            "text/plain": [
              "['[CLS]',\n",
              " 'صفحة',\n",
              " 'من',\n",
              " 'القران',\n",
              " 'يوميا',\n",
              " 'كفيل',\n",
              " '##ة',\n",
              " 'بان',\n",
              " 'تبعد',\n",
              " '##ك',\n",
              " 'عن',\n",
              " 'هجر',\n",
              " '##ه',\n",
              " 'و',\n",
              " '##ات',\n",
              " '##ك',\n",
              " '##ف',\n",
              " '##ل',\n",
              " 'ان',\n",
              " '##ا',\n",
              " 'بتن',\n",
              " '##زيل',\n",
              " '##ها',\n",
              " 'يوميا',\n",
              " 'ان',\n",
              " 'شاء',\n",
              " 'الله',\n",
              " 'سورة',\n",
              " 'يوسف',\n",
              " 'من',\n",
              " 'الا',\n",
              " '##ية',\n",
              " '١٠',\n",
              " '##٤',\n",
              " 'الى',\n",
              " 'الا',\n",
              " '##ية',\n",
              " '١١',\n",
              " '##١',\n",
              " 'فيروس',\n",
              " '[UNK]',\n",
              " 'كورونا',\n",
              " '[SEP]',\n",
              " '[PAD]',\n",
              " '[PAD]',\n",
              " '[PAD]',\n",
              " '[PAD]',\n",
              " '[PAD]',\n",
              " '[PAD]',\n",
              " '[PAD]',\n",
              " '[PAD]',\n",
              " '[PAD]',\n",
              " '[PAD]',\n",
              " '[PAD]',\n",
              " '[PAD]',\n",
              " '[PAD]',\n",
              " '[PAD]',\n",
              " '[PAD]',\n",
              " '[PAD]',\n",
              " '[PAD]',\n",
              " '[PAD]',\n",
              " '[PAD]',\n",
              " '[PAD]',\n",
              " '[PAD]',\n",
              " '[PAD]',\n",
              " '[PAD]',\n",
              " '[PAD]',\n",
              " '[PAD]',\n",
              " '[PAD]',\n",
              " '[PAD]',\n",
              " '[PAD]',\n",
              " '[PAD]',\n",
              " '[PAD]',\n",
              " '[PAD]',\n",
              " '[PAD]',\n",
              " '[PAD]',\n",
              " '[PAD]',\n",
              " '[PAD]',\n",
              " '[PAD]',\n",
              " '[PAD]',\n",
              " '[PAD]',\n",
              " '[PAD]',\n",
              " '[PAD]',\n",
              " '[PAD]',\n",
              " '[PAD]',\n",
              " '[PAD]',\n",
              " '[PAD]',\n",
              " '[PAD]',\n",
              " '[PAD]',\n",
              " '[PAD]',\n",
              " '[PAD]',\n",
              " '[PAD]',\n",
              " '[PAD]',\n",
              " '[PAD]',\n",
              " '[PAD]',\n",
              " '[PAD]',\n",
              " '[PAD]',\n",
              " '[PAD]',\n",
              " '[PAD]',\n",
              " '[PAD]',\n",
              " '[PAD]',\n",
              " '[PAD]',\n",
              " '[PAD]',\n",
              " '[PAD]',\n",
              " '[PAD]',\n",
              " '[PAD]',\n",
              " '[PAD]',\n",
              " '[PAD]',\n",
              " '[PAD]',\n",
              " '[PAD]',\n",
              " '[PAD]',\n",
              " '[PAD]',\n",
              " '[PAD]',\n",
              " '[PAD]',\n",
              " '[PAD]',\n",
              " '[PAD]',\n",
              " '[PAD]',\n",
              " '[PAD]',\n",
              " '[PAD]',\n",
              " '[PAD]']"
            ]
          },
          "metadata": {
            "tags": []
          },
          "execution_count": 46
        }
      ]
    },
    {
      "cell_type": "code",
      "metadata": {
        "id": "CsAd1jRN3Qji"
      },
      "source": [
        "class Tokenisation(Dataset):\n",
        "    \n",
        "    \n",
        "    def __init__(self, data, targets, tokenizer, max_len):\n",
        "        self.data = data\n",
        "        self.targets = targets\n",
        "        self.tokenizer = tokenizer\n",
        "        self.max_len = max_len\n",
        "        self.pad_vid = self.tokenizer.vocab[\"[PAD]\"]\n",
        "        \n",
        "        \n",
        "    def __len__(self):\n",
        "        return len(self.data)\n",
        "    \n",
        "    def __getitem__(self, item):\n",
        "        data = str(self.data[item])\n",
        "        data = \" \".join(data.split())\n",
        "        target = self.targets\n",
        "        \n",
        "        encoding = self.tokenizer.encode_plus(\n",
        "          data,\n",
        "          add_special_tokens=True,\n",
        "          max_length=self.max_len,\n",
        "          return_token_type_ids=False,\n",
        "          pad_to_max_length=True,\n",
        "          return_attention_mask=True,\n",
        "          return_tensors='pt',\n",
        "        )\n",
        "        \n",
        "        ids = encoding['input_ids']\n",
        "        masks = encoding['attention_mask']\n",
        "        token_type_ids = encoding['input_ids']\n",
        "        \n",
        "        true_seq_length = len(encoding['input_ids'][0])\n",
        "        pad_size = self.max_len - true_seq_length\n",
        "        pad_ids = torch.Tensor([self.pad_vid] * pad_size).long()\n",
        "        ids = torch.cat((encoding['input_ids'][0], pad_ids))\n",
        "        \n",
        "        \n",
        "        #padding_len = self.max_len - len(ids)\n",
        "        #ids = ids + ([0] * padding_len)\n",
        "        #masks = ids + ([0] * padding_len)\n",
        "        #token_type_ids = token_type_ids + ([0] * padding_len)\n",
        "        \n",
        "        return {\n",
        "          'text': data,\n",
        "          'input_ids': ids.flatten(),\n",
        "          'attention_mask': encoding['attention_mask'].flatten(),\n",
        "          'targets': torch.tensor(target[item], dtype=torch.long)\n",
        "        }"
      ],
      "execution_count": null,
      "outputs": []
    },
    {
      "cell_type": "code",
      "metadata": {
        "id": "o7gQjfAB4dSz"
      },
      "source": [
        "def dataLoader(df, tokenizer, max_len, batch_size):\n",
        "    ds = Tokenisation(\n",
        "    data=df['text'].to_numpy(),\n",
        "    targets=df['label'].to_numpy(),\n",
        "    tokenizer=tokenizer,\n",
        "    max_len=max_len\n",
        "    )\n",
        "    return DataLoader(ds,batch_size=batch_size, num_workers=4)"
      ],
      "execution_count": null,
      "outputs": []
    },
    {
      "cell_type": "code",
      "metadata": {
        "colab": {
          "base_uri": "https://localhost:8080/"
        },
        "id": "NQ8SV0ciPzD-",
        "outputId": "8c4f42ef-5df7-499f-c64d-ecdbdb194ab4"
      },
      "source": [
        "train.rename(columns={'tweet_text': 'text'}, inplace=True)\n",
        "train.rename(columns={'claim_worthiness': 'label'}, inplace=True)\n",
        "val.rename(columns={'tweet_text': 'text'}, inplace=True)\n",
        "val.rename(columns={'claim_worthiness': 'label'}, inplace=True)"
      ],
      "execution_count": null,
      "outputs": [
        {
          "output_type": "stream",
          "text": [
            "/usr/local/lib/python3.7/dist-packages/pandas/core/frame.py:4308: SettingWithCopyWarning: \n",
            "A value is trying to be set on a copy of a slice from a DataFrame\n",
            "\n",
            "See the caveats in the documentation: https://pandas.pydata.org/pandas-docs/stable/user_guide/indexing.html#returning-a-view-versus-a-copy\n",
            "  errors=errors,\n"
          ],
          "name": "stderr"
        }
      ]
    },
    {
      "cell_type": "code",
      "metadata": {
        "colab": {
          "base_uri": "https://localhost:8080/"
        },
        "id": "SXK0x3rz4jGL",
        "outputId": "77ec2c3a-f240-42ba-f1c5-73976b576fef"
      },
      "source": [
        "BATCH_SIZE = 32\n",
        "MAX_LEN = 150\n",
        "\n",
        "train_data_loader = dataLoader(train, tokenizer, MAX_LEN, BATCH_SIZE)\n",
        "val_data_loader = dataLoader(val, tokenizer, MAX_LEN, BATCH_SIZE)\n",
        "#test_data_loader = dataLoader(test, tokenizer, MAX_LEN, BATCH_SIZE)"
      ],
      "execution_count": null,
      "outputs": [
        {
          "output_type": "stream",
          "text": [
            "/usr/local/lib/python3.7/dist-packages/torch/utils/data/dataloader.py:477: UserWarning: This DataLoader will create 4 worker processes in total. Our suggested max number of worker in current system is 2, which is smaller than what this DataLoader is going to create. Please be aware that excessive worker creation might get DataLoader running slow or even freeze, lower the worker number to avoid potential slowness/freeze if necessary.\n",
            "  cpuset_checked))\n"
          ],
          "name": "stderr"
        }
      ]
    },
    {
      "cell_type": "code",
      "metadata": {
        "colab": {
          "base_uri": "https://localhost:8080/"
        },
        "id": "0goATqoy7sJ2",
        "outputId": "05d1f126-5e00-452a-ebb3-9a24ccff4335"
      },
      "source": [
        "data = next(iter(train_data_loader))\n",
        "data.keys()"
      ],
      "execution_count": null,
      "outputs": [
        {
          "output_type": "stream",
          "text": [
            "/usr/local/lib/python3.7/dist-packages/torch/utils/data/dataloader.py:477: UserWarning: This DataLoader will create 4 worker processes in total. Our suggested max number of worker in current system is 2, which is smaller than what this DataLoader is going to create. Please be aware that excessive worker creation might get DataLoader running slow or even freeze, lower the worker number to avoid potential slowness/freeze if necessary.\n",
            "  cpuset_checked))\n"
          ],
          "name": "stderr"
        },
        {
          "output_type": "execute_result",
          "data": {
            "text/plain": [
              "dict_keys(['text', 'input_ids', 'attention_mask', 'targets'])"
            ]
          },
          "metadata": {
            "tags": []
          },
          "execution_count": 51
        }
      ]
    },
    {
      "cell_type": "code",
      "metadata": {
        "colab": {
          "base_uri": "https://localhost:8080/"
        },
        "id": "oIFV8Ed24r_d",
        "outputId": "61bc4674-6fb1-4833-9c34-8f6e0c1fd14a"
      },
      "source": [
        "print(data['input_ids'].shape)\n",
        "print(data['attention_mask'].shape)\n",
        "print(data['targets'].shape)"
      ],
      "execution_count": null,
      "outputs": [
        {
          "output_type": "stream",
          "text": [
            "torch.Size([32, 150])\n",
            "torch.Size([32, 150])\n",
            "torch.Size([32])\n"
          ],
          "name": "stdout"
        }
      ]
    },
    {
      "cell_type": "markdown",
      "metadata": {
        "id": "-iTKSAc484yY"
      },
      "source": [
        "###Building the model\n"
      ]
    },
    {
      "cell_type": "code",
      "metadata": {
        "id": "j-bdJMmR5Jp7"
      },
      "source": [
        "class TextClassifier(nn.Module):\n",
        "    \n",
        "    def __init__(self, n_classes):\n",
        "        super(TextClassifier, self).__init__()\n",
        "        self.bert = BertModel.from_pretrained(PRE_TRAINED_MODEL_NAME)\n",
        "        self.drop = nn.Dropout(p=0.3)\n",
        "        self.out = nn.Linear(self.bert.config.hidden_size, n_classes)\n",
        "        \n",
        "\n",
        "            \n",
        "    \n",
        "    def forward(self, input_ids, attention_mask):\n",
        "        _, pooled_output = self.bert(\n",
        "          input_ids=input_ids,\n",
        "          attention_mask=attention_mask\n",
        "        )\n",
        "        #print(pooled_output)\n",
        "        output = self.drop(pooled_output)\n",
        "        return self.out(output)\n",
        "    \n",
        "    def unfreeze(self,start_layer,end_layer):\n",
        "        def children(m):\n",
        "            return m if isinstance(m, (list, tuple)) else list(m.children())\n",
        "        def set_trainable_attr(m, b):\n",
        "            m.trainable = b\n",
        "            for p in m.parameters():\n",
        "                p.requires_grad = b\n",
        "        def apply_leaf(m, f):\n",
        "            c = children(m)\n",
        "            if isinstance(m, nn.Module):\n",
        "                f(m)\n",
        "            if len(c) > 0:\n",
        "                for l in c:\n",
        "                    apply_leaf(l, f)\n",
        "        def set_trainable(l, b):\n",
        "            apply_leaf(l, lambda m: set_trainable_attr(m, b))\n",
        "\n",
        "        # You can unfreeze the last layer of bert by calling set_trainable(model.bert.encoder.layer[23], True)\n",
        "        set_trainable(self.bert, False)\n",
        "        for i in range(start_layer, end_layer+1):\n",
        "            set_trainable(self.bert.encoder.layer[i], True)\n"
      ],
      "execution_count": null,
      "outputs": []
    },
    {
      "cell_type": "code",
      "metadata": {
        "colab": {
          "base_uri": "https://localhost:8080/"
        },
        "id": "5PYzYQn99qie",
        "outputId": "d696a088-3d16-491e-8a7d-df808169481d"
      },
      "source": [
        "len(train.label.unique())"
      ],
      "execution_count": null,
      "outputs": [
        {
          "output_type": "execute_result",
          "data": {
            "text/plain": [
              "2"
            ]
          },
          "metadata": {
            "tags": []
          },
          "execution_count": 54
        }
      ]
    },
    {
      "cell_type": "code",
      "metadata": {
        "colab": {
          "base_uri": "https://localhost:8080/"
        },
        "id": "yDPZ11_nGzjc",
        "outputId": "6d40f344-cb96-45a2-9e75-fdac99b69877"
      },
      "source": [
        "device"
      ],
      "execution_count": null,
      "outputs": [
        {
          "output_type": "execute_result",
          "data": {
            "text/plain": [
              "device(type='cuda', index=0)"
            ]
          },
          "metadata": {
            "tags": []
          },
          "execution_count": 55
        }
      ]
    },
    {
      "cell_type": "code",
      "metadata": {
        "id": "NnvzmPEg9ut_"
      },
      "source": [
        "model = TextClassifier(len(train.label.unique()))\n",
        "model = model.to(device)"
      ],
      "execution_count": null,
      "outputs": []
    },
    {
      "cell_type": "code",
      "metadata": {
        "colab": {
          "base_uri": "https://localhost:8080/"
        },
        "id": "Qkig1kneAaqy",
        "outputId": "f5a23a08-aa58-4da1-ce1c-2995445ded0a"
      },
      "source": [
        "input_ids = data['input_ids'].to(device)\n",
        "attention_mask = data['attention_mask'].to(device)\n",
        "\n",
        "print(input_ids.shape) # batch size x seq length\n",
        "print(attention_mask.shape) # batch size x seq length"
      ],
      "execution_count": null,
      "outputs": [
        {
          "output_type": "stream",
          "text": [
            "torch.Size([32, 150])\n",
            "torch.Size([32, 150])\n"
          ],
          "name": "stdout"
        }
      ]
    },
    {
      "cell_type": "code",
      "metadata": {
        "colab": {
          "base_uri": "https://localhost:8080/"
        },
        "id": "UWcDAvn8AkSA",
        "outputId": "c4d3639b-5cea-465e-c611-547e9ae3516f"
      },
      "source": [
        "F.softmax(model(input_ids, attention_mask), dim=1)"
      ],
      "execution_count": null,
      "outputs": [
        {
          "output_type": "execute_result",
          "data": {
            "text/plain": [
              "tensor([[0.4921, 0.5079],\n",
              "        [0.5033, 0.4967],\n",
              "        [0.5058, 0.4942],\n",
              "        [0.5851, 0.4149],\n",
              "        [0.7330, 0.2670],\n",
              "        [0.3873, 0.6127],\n",
              "        [0.5192, 0.4808],\n",
              "        [0.4617, 0.5383],\n",
              "        [0.4059, 0.5941],\n",
              "        [0.4632, 0.5368],\n",
              "        [0.5670, 0.4330],\n",
              "        [0.6830, 0.3170],\n",
              "        [0.4598, 0.5402],\n",
              "        [0.5422, 0.4578],\n",
              "        [0.7177, 0.2823],\n",
              "        [0.3637, 0.6363],\n",
              "        [0.5149, 0.4851],\n",
              "        [0.4742, 0.5258],\n",
              "        [0.4170, 0.5830],\n",
              "        [0.5561, 0.4439],\n",
              "        [0.4259, 0.5741],\n",
              "        [0.5292, 0.4708],\n",
              "        [0.4554, 0.5446],\n",
              "        [0.4132, 0.5868],\n",
              "        [0.4736, 0.5264],\n",
              "        [0.6059, 0.3941],\n",
              "        [0.5770, 0.4230],\n",
              "        [0.4705, 0.5295],\n",
              "        [0.4739, 0.5261],\n",
              "        [0.4939, 0.5061],\n",
              "        [0.3910, 0.6090],\n",
              "        [0.3880, 0.6120]], device='cuda:0', grad_fn=<SoftmaxBackward>)"
            ]
          },
          "metadata": {
            "tags": []
          },
          "execution_count": 58
        }
      ]
    },
    {
      "cell_type": "code",
      "metadata": {
        "id": "VpYIk9lAL_YD"
      },
      "source": [
        "from sklearn.metrics import average_precision_score\n",
        "import utils"
      ],
      "execution_count": null,
      "outputs": []
    },
    {
      "cell_type": "code",
      "metadata": {
        "id": "Lwi2cf-CAnX8"
      },
      "source": [
        "EPOCHS = 20\n",
        "MAX_LENGTH = 128\n",
        "TRAIN_BATCH_SIZE = 32\n",
        "VALID_BATCH_SIZE = 16\n",
        "\n",
        "LearningRate = 1e-6\n",
        "\n",
        "BETAS = (0.9, 0.999)\n",
        "BERT_WEIGHT_DECAY = 0.01\n",
        "EPS = 1e-8\n",
        "\n",
        "# Define identifiers & group model parameters accordingly \n",
        "bert_identifiers = ['embedding', 'encoder', 'pooler']\n",
        "no_weight_decay_identifiers = ['bias', 'LayerNorm.weight']\n",
        "grouped_model_parameters = [\n",
        "        {'params': [param for name, param in model.named_parameters()\n",
        "                    if any(identifier in name for identifier in bert_identifiers) and\n",
        "                    not any(identifier_ in name for identifier_ in no_weight_decay_identifiers)],\n",
        "        'lr': LearningRate,\n",
        "        'betas': BETAS,\n",
        "        'weight_decay': BERT_WEIGHT_DECAY,\n",
        "        'eps': EPS},\n",
        "        {'params': [param for name, param in model.named_parameters()\n",
        "                    if any(identifier in name for identifier in bert_identifiers) and\n",
        "                    any(identifier_ in name for identifier_ in no_weight_decay_identifiers)],\n",
        "        'lr': LearningRate,\n",
        "        'betas': BETAS,\n",
        "        'weight_decay': 0.0,\n",
        "        'eps': EPS},\n",
        "        {'params': [param for name, param in model.named_parameters()\n",
        "                    if not any(identifier in name for identifier in bert_identifiers)],\n",
        "        'lr': LearningRate,\n",
        "        'betas': BETAS,\n",
        "        'weight_decay': 0.0,\n",
        "        'eps': EPS}\n",
        "]\n",
        "\n",
        "# Define optimizer\n",
        "optimizers = AdamW(grouped_model_parameters)\n",
        "\n",
        "optimizer = AdamW(model.parameters(), lr=LearningRate , correct_bias=False)\n",
        "\n",
        "total_steps = len(train_data_loader) * EPOCHS\n",
        "\n",
        "scheduler = get_linear_schedule_with_warmup(\n",
        "  optimizer,\n",
        "  num_warmup_steps=0,\n",
        "  num_training_steps=total_steps\n",
        ")\n",
        "\n",
        "es = utils.EarlyStopping(patience=5, mode=\"min\")\n",
        "\n",
        "loss_fn = nn.BCELoss().to(device)"
      ],
      "execution_count": null,
      "outputs": []
    },
    {
      "cell_type": "code",
      "metadata": {
        "id": "i2_mUZyzIa3w"
      },
      "source": [
        "def train_epoch(model, data_loader, loss_fn, optimizer, device, scheduler, n_examples):\n",
        "    \n",
        "    \n",
        "    model = model.train()\n",
        "    losses = []\n",
        "    averagreP = []\n",
        "    correct_predictions = 0\n",
        "    for d in tqdm(data_loader):\n",
        "        input_ids = d[\"input_ids\"].to(device)\n",
        "        attention_mask = d[\"attention_mask\"].to(device)\n",
        "        targets = d[\"targets\"].to(device)\n",
        "        preds = model(\n",
        "          input_ids=input_ids,\n",
        "          attention_mask=attention_mask\n",
        "        )\n",
        "        preds = F.softmax(preds,dim=1)\n",
        "        targets = targets.type_as(preds)\n",
        "        preds = preds[:, 1]\n",
        "        loss = loss_fn(preds, targets)\n",
        "        correct_predictions += torch.sum(preds == targets)\n",
        "        losses.append(loss.item())\n",
        "        loss.backward()\n",
        "        nn.utils.clip_grad_norm_(model.parameters(), max_norm=1.0)\n",
        "        optimizer.step()\n",
        "        scheduler.step()\n",
        "        optimizer.zero_grad()\n",
        "        AP = average_precision_score(targets.cpu().detach().numpy(),preds.cpu().detach().numpy())\n",
        "        averagreP.append(AP)\n",
        "       \n",
        "    return np.mean(averagreP),np.mean(losses)"
      ],
      "execution_count": null,
      "outputs": []
    },
    {
      "cell_type": "code",
      "metadata": {
        "id": "ieb1L25Q5kdZ"
      },
      "source": [
        "import math"
      ],
      "execution_count": null,
      "outputs": []
    },
    {
      "cell_type": "code",
      "metadata": {
        "id": "Kbnhpp2dlQZp"
      },
      "source": [
        "def eval_model(model, data_loader, loss_fn, device, n_examples):\n",
        "    \n",
        "    model = model.eval()\n",
        "    \n",
        "    losses = []\n",
        "    averagreP = []\n",
        "    \n",
        "    correct_predictions = 0\n",
        "    \n",
        "    with torch.no_grad():\n",
        "        for d in tqdm(data_loader):\n",
        "            input_ids = d[\"input_ids\"].to(device)\n",
        "            #print(\"input IDS\" + str(input_ids))\n",
        "            attention_mask = d[\"attention_mask\"].to(device)\n",
        "            targets = d[\"targets\"].to(device)\n",
        "            #print('Targets' + str(targets))\n",
        "            \n",
        "            preds = model(\n",
        "            input_ids=input_ids,\n",
        "            attention_mask=attention_mask\n",
        "            )\n",
        "\n",
        "            preds = F.softmax(preds, dim=1)\n",
        "            targets = targets.type_as(preds)\n",
        "            preds = preds[:, 1]\n",
        "            #print(\"Preds : \"+str(preds))\n",
        "\n",
        "            loss = loss_fn(preds, targets)\n",
        "            correct_predictions += torch.sum(preds == targets)\n",
        "            losses.append(loss.item())\n",
        "            AP = average_precision_score(targets.cpu().detach().numpy(),preds.cpu().detach().numpy())\n",
        "            if (math.isnan(AP)):\n",
        "              AP = average_precision_score(targets.cpu().detach().numpy().reshape((-1)),preds.cpu().detach().numpy().reshape((-1)))\n",
        "              print('AP is nan')\n",
        "            averagreP.append(AP)\n",
        "       \n",
        "    return np.mean(averagreP),np.mean(losses)\n"
      ],
      "execution_count": null,
      "outputs": []
    },
    {
      "cell_type": "code",
      "metadata": {
        "colab": {
          "base_uri": "https://localhost:8080/"
        },
        "id": "Q1G96YXrIj4E",
        "outputId": "c3797f71-6e9d-4eb1-e59e-0d8a99b88bb8"
      },
      "source": [
        "history = defaultdict(list)\n",
        "best_ap = 0\n",
        "\n",
        "for epoch in range(EPOCHS):\n",
        "    print(f'Epoch {epoch + 1}/{EPOCHS}')\n",
        "    print('-' * 10)\n",
        "    train_ap,train_loss = train_epoch(\n",
        "                                        model,\n",
        "                                        train_data_loader,\n",
        "                                        loss_fn,\n",
        "                                        optimizer,\n",
        "                                        device,\n",
        "                                        scheduler,\n",
        "                                        len(train),\n",
        "\n",
        "    )\n",
        "    print(f'Train loss {train_loss} Aver Precision {train_ap}')\n",
        "    val_ap, val_loss = eval_model(\n",
        "                                    model,\n",
        "                                    val_data_loader,\n",
        "                                    loss_fn,\n",
        "                                    device,\n",
        "                                    len(val)\n",
        "    )\n",
        "    print(f'Val   loss {val_loss} Aver Precision {val_ap}')\n",
        "    print()\n",
        "    torch.save(model.state_dict(), 'model_state.bin')\n",
        "    es(val_loss, model, model_path=f\"model_state.bin\")\n",
        "    if es.early_stop:\n",
        "        print(\"Early stopping\")\n",
        "        break\n",
        "    history['train_ap'].append(train_ap)\n",
        "    history['train_loss'].append(train_loss)\n",
        "    history['val_ap'].append(val_ap)\n",
        "    history['val_loss'].append(val_loss)\n",
        "    \n",
        "    '''if val_ap > best_ap:\n",
        "        torch.save(model.state_dict(), 'best_model_state.bin')\n",
        "        best_ap = val_ap'''"
      ],
      "execution_count": null,
      "outputs": [
        {
          "output_type": "stream",
          "text": [
            "\r  0%|          | 0/60 [00:00<?, ?it/s]"
          ],
          "name": "stderr"
        },
        {
          "output_type": "stream",
          "text": [
            "Epoch 1/20\n",
            "----------\n"
          ],
          "name": "stdout"
        },
        {
          "output_type": "stream",
          "text": [
            "/usr/local/lib/python3.7/dist-packages/torch/utils/data/dataloader.py:477: UserWarning: This DataLoader will create 4 worker processes in total. Our suggested max number of worker in current system is 2, which is smaller than what this DataLoader is going to create. Please be aware that excessive worker creation might get DataLoader running slow or even freeze, lower the worker number to avoid potential slowness/freeze if necessary.\n",
            "  cpuset_checked))\n",
            "100%|██████████| 60/60 [01:26<00:00,  1.45s/it]\n",
            "  0%|          | 0/11 [00:00<?, ?it/s]"
          ],
          "name": "stderr"
        },
        {
          "output_type": "stream",
          "text": [
            "Train loss 0.5191919267177582 Aver Precision 0.6479456140611037\n"
          ],
          "name": "stdout"
        },
        {
          "output_type": "stream",
          "text": [
            "100%|██████████| 11/11 [00:06<00:00,  1.80it/s]\n"
          ],
          "name": "stderr"
        },
        {
          "output_type": "stream",
          "text": [
            "Val   loss 0.3899203891103918 Aver Precision 0.8224675388583617\n",
            "\n",
            "Validation score improved (inf --> 0.3899203891103918). Saving model!\n"
          ],
          "name": "stdout"
        },
        {
          "output_type": "stream",
          "text": [
            "\r  0%|          | 0/60 [00:00<?, ?it/s]"
          ],
          "name": "stderr"
        },
        {
          "output_type": "stream",
          "text": [
            "Epoch 2/20\n",
            "----------\n"
          ],
          "name": "stdout"
        },
        {
          "output_type": "stream",
          "text": [
            "100%|██████████| 60/60 [01:28<00:00,  1.48s/it]\n",
            "  0%|          | 0/11 [00:00<?, ?it/s]"
          ],
          "name": "stderr"
        },
        {
          "output_type": "stream",
          "text": [
            "Train loss 0.3557081252336502 Aver Precision 0.8110215105186871\n"
          ],
          "name": "stdout"
        },
        {
          "output_type": "stream",
          "text": [
            "100%|██████████| 11/11 [00:06<00:00,  1.78it/s]\n"
          ],
          "name": "stderr"
        },
        {
          "output_type": "stream",
          "text": [
            "Val   loss 0.32138841260563245 Aver Precision 0.858705505469386\n",
            "\n",
            "Validation score improved (0.3899203891103918 --> 0.32138841260563245). Saving model!\n"
          ],
          "name": "stdout"
        },
        {
          "output_type": "stream",
          "text": [
            "\r  0%|          | 0/60 [00:00<?, ?it/s]"
          ],
          "name": "stderr"
        },
        {
          "output_type": "stream",
          "text": [
            "Epoch 3/20\n",
            "----------\n"
          ],
          "name": "stdout"
        },
        {
          "output_type": "stream",
          "text": [
            "100%|██████████| 60/60 [01:28<00:00,  1.47s/it]\n",
            "  0%|          | 0/11 [00:00<?, ?it/s]"
          ],
          "name": "stderr"
        },
        {
          "output_type": "stream",
          "text": [
            "Train loss 0.30597522109746933 Aver Precision 0.8542236147451449\n"
          ],
          "name": "stdout"
        },
        {
          "output_type": "stream",
          "text": [
            "100%|██████████| 11/11 [00:06<00:00,  1.79it/s]\n"
          ],
          "name": "stderr"
        },
        {
          "output_type": "stream",
          "text": [
            "Val   loss 0.3014435497197238 Aver Precision 0.8643012800929639\n",
            "\n",
            "Validation score improved (0.32138841260563245 --> 0.3014435497197238). Saving model!\n"
          ],
          "name": "stdout"
        },
        {
          "output_type": "stream",
          "text": [
            "\r  0%|          | 0/60 [00:00<?, ?it/s]"
          ],
          "name": "stderr"
        },
        {
          "output_type": "stream",
          "text": [
            "Epoch 4/20\n",
            "----------\n"
          ],
          "name": "stdout"
        },
        {
          "output_type": "stream",
          "text": [
            "100%|██████████| 60/60 [01:28<00:00,  1.48s/it]\n",
            "  0%|          | 0/11 [00:00<?, ?it/s]"
          ],
          "name": "stderr"
        },
        {
          "output_type": "stream",
          "text": [
            "Train loss 0.2775221423556407 Aver Precision 0.8684138140040102\n"
          ],
          "name": "stdout"
        },
        {
          "output_type": "stream",
          "text": [
            "100%|██████████| 11/11 [00:06<00:00,  1.78it/s]\n"
          ],
          "name": "stderr"
        },
        {
          "output_type": "stream",
          "text": [
            "Val   loss 0.29154588417573407 Aver Precision 0.8724514957760878\n",
            "\n",
            "Validation score improved (0.3014435497197238 --> 0.29154588417573407). Saving model!\n"
          ],
          "name": "stdout"
        },
        {
          "output_type": "stream",
          "text": [
            "\r  0%|          | 0/60 [00:00<?, ?it/s]"
          ],
          "name": "stderr"
        },
        {
          "output_type": "stream",
          "text": [
            "Epoch 5/20\n",
            "----------\n"
          ],
          "name": "stdout"
        },
        {
          "output_type": "stream",
          "text": [
            "100%|██████████| 60/60 [01:28<00:00,  1.48s/it]\n",
            "  0%|          | 0/11 [00:00<?, ?it/s]"
          ],
          "name": "stderr"
        },
        {
          "output_type": "stream",
          "text": [
            "Train loss 0.2516099934776624 Aver Precision 0.8920441745531488\n"
          ],
          "name": "stdout"
        },
        {
          "output_type": "stream",
          "text": [
            "100%|██████████| 11/11 [00:06<00:00,  1.79it/s]\n"
          ],
          "name": "stderr"
        },
        {
          "output_type": "stream",
          "text": [
            "Val   loss 0.2853920283642682 Aver Precision 0.873113487565702\n",
            "\n",
            "Validation score improved (0.29154588417573407 --> 0.2853920283642682). Saving model!\n"
          ],
          "name": "stdout"
        },
        {
          "output_type": "stream",
          "text": [
            "\r  0%|          | 0/60 [00:00<?, ?it/s]"
          ],
          "name": "stderr"
        },
        {
          "output_type": "stream",
          "text": [
            "Epoch 6/20\n",
            "----------\n"
          ],
          "name": "stdout"
        },
        {
          "output_type": "stream",
          "text": [
            "100%|██████████| 60/60 [01:28<00:00,  1.47s/it]\n",
            "  0%|          | 0/11 [00:00<?, ?it/s]"
          ],
          "name": "stderr"
        },
        {
          "output_type": "stream",
          "text": [
            "Train loss 0.23547637338439623 Aver Precision 0.8985121872007018\n"
          ],
          "name": "stdout"
        },
        {
          "output_type": "stream",
          "text": [
            "100%|██████████| 11/11 [00:06<00:00,  1.78it/s]\n"
          ],
          "name": "stderr"
        },
        {
          "output_type": "stream",
          "text": [
            "Val   loss 0.28577065196904267 Aver Precision 0.8753060506916945\n",
            "\n"
          ],
          "name": "stdout"
        },
        {
          "output_type": "stream",
          "text": [
            "\r  0%|          | 0/60 [00:00<?, ?it/s]"
          ],
          "name": "stderr"
        },
        {
          "output_type": "stream",
          "text": [
            "EarlyStopping counter: 1 out of 5\n",
            "Epoch 7/20\n",
            "----------\n"
          ],
          "name": "stdout"
        },
        {
          "output_type": "stream",
          "text": [
            "100%|██████████| 60/60 [01:27<00:00,  1.46s/it]\n",
            "  0%|          | 0/11 [00:00<?, ?it/s]"
          ],
          "name": "stderr"
        },
        {
          "output_type": "stream",
          "text": [
            "Train loss 0.2211717536052068 Aver Precision 0.9063438347289049\n"
          ],
          "name": "stdout"
        },
        {
          "output_type": "stream",
          "text": [
            "100%|██████████| 11/11 [00:06<00:00,  1.79it/s]\n"
          ],
          "name": "stderr"
        },
        {
          "output_type": "stream",
          "text": [
            "Val   loss 0.2812816270373084 Aver Precision 0.8792143057363133\n",
            "\n",
            "Validation score improved (0.2853920283642682 --> 0.2812816270373084). Saving model!\n"
          ],
          "name": "stdout"
        },
        {
          "output_type": "stream",
          "text": [
            "\r  0%|          | 0/60 [00:00<?, ?it/s]"
          ],
          "name": "stderr"
        },
        {
          "output_type": "stream",
          "text": [
            "Epoch 8/20\n",
            "----------\n"
          ],
          "name": "stdout"
        },
        {
          "output_type": "stream",
          "text": [
            "100%|██████████| 60/60 [01:28<00:00,  1.47s/it]\n",
            "  0%|          | 0/11 [00:00<?, ?it/s]"
          ],
          "name": "stderr"
        },
        {
          "output_type": "stream",
          "text": [
            "Train loss 0.209694034482042 Aver Precision 0.9153243162903697\n"
          ],
          "name": "stdout"
        },
        {
          "output_type": "stream",
          "text": [
            "100%|██████████| 11/11 [00:06<00:00,  1.78it/s]\n"
          ],
          "name": "stderr"
        },
        {
          "output_type": "stream",
          "text": [
            "Val   loss 0.2806999818845229 Aver Precision 0.8779253169473243\n",
            "\n"
          ],
          "name": "stdout"
        },
        {
          "output_type": "stream",
          "text": [
            "\r  0%|          | 0/60 [00:00<?, ?it/s]"
          ],
          "name": "stderr"
        },
        {
          "output_type": "stream",
          "text": [
            "EarlyStopping counter: 1 out of 5\n",
            "Epoch 9/20\n",
            "----------\n"
          ],
          "name": "stdout"
        },
        {
          "output_type": "stream",
          "text": [
            "100%|██████████| 60/60 [01:28<00:00,  1.47s/it]\n",
            "  0%|          | 0/11 [00:00<?, ?it/s]"
          ],
          "name": "stderr"
        },
        {
          "output_type": "stream",
          "text": [
            "Train loss 0.20031811216225226 Aver Precision 0.9197339284143933\n"
          ],
          "name": "stdout"
        },
        {
          "output_type": "stream",
          "text": [
            "100%|██████████| 11/11 [00:06<00:00,  1.79it/s]\n"
          ],
          "name": "stderr"
        },
        {
          "output_type": "stream",
          "text": [
            "Val   loss 0.27868613160469313 Aver Precision 0.8789775054995128\n",
            "\n",
            "Validation score improved (0.2812816270373084 --> 0.27868613160469313). Saving model!\n"
          ],
          "name": "stdout"
        },
        {
          "output_type": "stream",
          "text": [
            "\r  0%|          | 0/60 [00:00<?, ?it/s]"
          ],
          "name": "stderr"
        },
        {
          "output_type": "stream",
          "text": [
            "Epoch 10/20\n",
            "----------\n"
          ],
          "name": "stdout"
        },
        {
          "output_type": "stream",
          "text": [
            "100%|██████████| 60/60 [01:28<00:00,  1.48s/it]\n",
            "  0%|          | 0/11 [00:00<?, ?it/s]"
          ],
          "name": "stderr"
        },
        {
          "output_type": "stream",
          "text": [
            "Train loss 0.1910095146546761 Aver Precision 0.9317868909444494\n"
          ],
          "name": "stdout"
        },
        {
          "output_type": "stream",
          "text": [
            "100%|██████████| 11/11 [00:06<00:00,  1.79it/s]\n"
          ],
          "name": "stderr"
        },
        {
          "output_type": "stream",
          "text": [
            "Val   loss 0.2806862663816322 Aver Precision 0.8780738808872105\n",
            "\n"
          ],
          "name": "stdout"
        },
        {
          "output_type": "stream",
          "text": [
            "\r  0%|          | 0/60 [00:00<?, ?it/s]"
          ],
          "name": "stderr"
        },
        {
          "output_type": "stream",
          "text": [
            "EarlyStopping counter: 1 out of 5\n",
            "Epoch 11/20\n",
            "----------\n"
          ],
          "name": "stdout"
        },
        {
          "output_type": "stream",
          "text": [
            "100%|██████████| 60/60 [01:28<00:00,  1.47s/it]\n",
            "  0%|          | 0/11 [00:00<?, ?it/s]"
          ],
          "name": "stderr"
        },
        {
          "output_type": "stream",
          "text": [
            "Train loss 0.18001093789935113 Aver Precision 0.9312156177739968\n"
          ],
          "name": "stdout"
        },
        {
          "output_type": "stream",
          "text": [
            "100%|██████████| 11/11 [00:06<00:00,  1.79it/s]\n"
          ],
          "name": "stderr"
        },
        {
          "output_type": "stream",
          "text": [
            "Val   loss 0.286153796044263 Aver Precision 0.8852573746202911\n",
            "\n"
          ],
          "name": "stdout"
        },
        {
          "output_type": "stream",
          "text": [
            "\r  0%|          | 0/60 [00:00<?, ?it/s]"
          ],
          "name": "stderr"
        },
        {
          "output_type": "stream",
          "text": [
            "EarlyStopping counter: 2 out of 5\n",
            "Epoch 12/20\n",
            "----------\n"
          ],
          "name": "stdout"
        },
        {
          "output_type": "stream",
          "text": [
            "100%|██████████| 60/60 [01:28<00:00,  1.47s/it]\n",
            "  0%|          | 0/11 [00:00<?, ?it/s]"
          ],
          "name": "stderr"
        },
        {
          "output_type": "stream",
          "text": [
            "Train loss 0.17900609942153095 Aver Precision 0.932312240221527\n"
          ],
          "name": "stdout"
        },
        {
          "output_type": "stream",
          "text": [
            "100%|██████████| 11/11 [00:06<00:00,  1.78it/s]\n"
          ],
          "name": "stderr"
        },
        {
          "output_type": "stream",
          "text": [
            "Val   loss 0.2814298353411935 Aver Precision 0.8834588785036132\n",
            "\n"
          ],
          "name": "stdout"
        },
        {
          "output_type": "stream",
          "text": [
            "\r  0%|          | 0/60 [00:00<?, ?it/s]"
          ],
          "name": "stderr"
        },
        {
          "output_type": "stream",
          "text": [
            "EarlyStopping counter: 3 out of 5\n",
            "Epoch 13/20\n",
            "----------\n"
          ],
          "name": "stdout"
        },
        {
          "output_type": "stream",
          "text": [
            "100%|██████████| 60/60 [01:28<00:00,  1.47s/it]\n",
            "  0%|          | 0/11 [00:00<?, ?it/s]"
          ],
          "name": "stderr"
        },
        {
          "output_type": "stream",
          "text": [
            "Train loss 0.17253525760024785 Aver Precision 0.9364882442074217\n"
          ],
          "name": "stdout"
        },
        {
          "output_type": "stream",
          "text": [
            "100%|██████████| 11/11 [00:06<00:00,  1.80it/s]\n"
          ],
          "name": "stderr"
        },
        {
          "output_type": "stream",
          "text": [
            "Val   loss 0.2843831984156912 Aver Precision 0.8857568751197916\n",
            "\n"
          ],
          "name": "stdout"
        },
        {
          "output_type": "stream",
          "text": [
            "\r  0%|          | 0/60 [00:00<?, ?it/s]"
          ],
          "name": "stderr"
        },
        {
          "output_type": "stream",
          "text": [
            "EarlyStopping counter: 4 out of 5\n",
            "Epoch 14/20\n",
            "----------\n"
          ],
          "name": "stdout"
        },
        {
          "output_type": "stream",
          "text": [
            "100%|██████████| 60/60 [01:28<00:00,  1.47s/it]\n",
            "  0%|          | 0/11 [00:00<?, ?it/s]"
          ],
          "name": "stderr"
        },
        {
          "output_type": "stream",
          "text": [
            "Train loss 0.1693393342817823 Aver Precision 0.9425865432983463\n"
          ],
          "name": "stdout"
        },
        {
          "output_type": "stream",
          "text": [
            "100%|██████████| 11/11 [00:06<00:00,  1.79it/s]\n"
          ],
          "name": "stderr"
        },
        {
          "output_type": "stream",
          "text": [
            "Val   loss 0.280279470438307 Aver Precision 0.882138948433683\n",
            "\n",
            "EarlyStopping counter: 5 out of 5\n",
            "Early stopping\n"
          ],
          "name": "stdout"
        }
      ]
    },
    {
      "cell_type": "code",
      "metadata": {
        "id": "u8DgHeoap0DS",
        "colab": {
          "base_uri": "https://localhost:8080/",
          "height": 523
        },
        "outputId": "c795ff54-c736-4f86-b833-6e2fdcdad0e5"
      },
      "source": [
        "plt.plot(history['train_loss'], label='train loss')\n",
        "plt.plot(history['val_loss'], label='validation loss')\n",
        "plt.title('Training history')\n",
        "plt.ylabel('Loss')\n",
        "plt.xlabel('Epoch')\n",
        "plt.legend()\n",
        "plt.ylim([0, 1]);\n",
        "\n"
      ],
      "execution_count": null,
      "outputs": [
        {
          "output_type": "display_data",
          "data": {
            "image/png": "[encoded data removed]",
            "text/plain": [
              "<Figure size 864x576 with 1 Axes>"
            ]
          },
          "metadata": {
            "tags": [],
            "image/png": {
              "width": 732,
              "height": 506
            }
          }
        }
      ]
    },
    {
      "cell_type": "markdown",
      "metadata": {
        "id": "zWZUilFtu3l3"
      },
      "source": [
        "##Evaluation"
      ]
    },
    {
      "cell_type": "code",
      "metadata": {
        "id": "ewyJYxDcqpgM"
      },
      "source": [
        "def get_predictions(model, data_loader):\n",
        "    model = model.eval()\n",
        "    review_texts = []\n",
        "    predictions = []\n",
        "    prediction_probs = []\n",
        "    real_values = []\n",
        "    with torch.no_grad():\n",
        "      for d in data_loader:\n",
        "          input_ids = d[\"input_ids\"].to(device)\n",
        "          attention_mask = d[\"attention_mask\"].to(device)\n",
        "          targets = d[\"targets\"].to(device)\n",
        "          preds = model(\n",
        "          input_ids=input_ids,\n",
        "          attention_mask=attention_mask\n",
        "          )\n",
        "          preds = F.softmax(preds, dim=1)\n",
        "          #review_texts.extend(texts)\n",
        "          #predictions.extend(preds)\n",
        "          prediction_probs.extend(preds)\n",
        "          real_values.extend(targets)\n",
        "    #predictions = torch.stack(predictions).cpu()\n",
        "    prediction_probs = torch.stack(prediction_probs).cpu()\n",
        "    real_values = torch.stack(real_values).cpu()\n",
        "    return prediction_probs, real_values"
      ],
      "execution_count": null,
      "outputs": []
    },
    {
      "cell_type": "code",
      "metadata": {
        "id": "kHhi-RyxfZxC",
        "colab": {
          "base_uri": "https://localhost:8080/",
          "height": 206
        },
        "outputId": "331e9912-e9cc-4e0f-dfdd-6d2ac04ea97e"
      },
      "source": [
        "dev.head()"
      ],
      "execution_count": null,
      "outputs": [
        {
          "output_type": "execute_result",
          "data": {
            "text/html": [
              "<div>\n",
              "<style scoped>\n",
              "    .dataframe tbody tr th:only-of-type {\n",
              "        vertical-align: middle;\n",
              "    }\n",
              "\n",
              "    .dataframe tbody tr th {\n",
              "        vertical-align: top;\n",
              "    }\n",
              "\n",
              "    .dataframe thead th {\n",
              "        text-align: right;\n",
              "    }\n",
              "</style>\n",
              "<table border=\"1\" class=\"dataframe\">\n",
              "  <thead>\n",
              "    <tr style=\"text-align: right;\">\n",
              "      <th></th>\n",
              "      <th>tweet_text</th>\n",
              "      <th>claim_worthiness</th>\n",
              "    </tr>\n",
              "  </thead>\n",
              "  <tbody>\n",
              "    <tr>\n",
              "      <th>0</th>\n",
              "      <td>باقي هذا المجرم الجبار المتكبر وابنائه الجبابر...</td>\n",
              "      <td>0</td>\n",
              "    </tr>\n",
              "    <tr>\n",
              "      <th>1</th>\n",
              "      <td>الان عودة الاشتباكات العنيفه في نهم والجيش الو...</td>\n",
              "      <td>1</td>\n",
              "    </tr>\n",
              "    <tr>\n",
              "      <th>2</th>\n",
              "      <td>الوية العمالقة تعلن النفير العام للاستعداد لاق...</td>\n",
              "      <td>0</td>\n",
              "    </tr>\n",
              "    <tr>\n",
              "      <th>3</th>\n",
              "      <td>في الاسواق اغاني جديده   الحوثيين راح يفبركون ...</td>\n",
              "      <td>0</td>\n",
              "    </tr>\n",
              "    <tr>\n",
              "      <th>4</th>\n",
              "      <td>السعودية و  الإمارات من محرريين لليمن إلى احت...</td>\n",
              "      <td>0</td>\n",
              "    </tr>\n",
              "  </tbody>\n",
              "</table>\n",
              "</div>"
            ],
            "text/plain": [
              "                                          tweet_text  claim_worthiness\n",
              "0  باقي هذا المجرم الجبار المتكبر وابنائه الجبابر...                 0\n",
              "1  الان عودة الاشتباكات العنيفه في نهم والجيش الو...                 1\n",
              "2  الوية العمالقة تعلن النفير العام للاستعداد لاق...                 0\n",
              "3  في الاسواق اغاني جديده   الحوثيين راح يفبركون ...                 0\n",
              "4   السعودية و  الإمارات من محرريين لليمن إلى احت...                 0"
            ]
          },
          "metadata": {
            "tags": []
          },
          "execution_count": 67
        }
      ]
    },
    {
      "cell_type": "code",
      "metadata": {
        "id": "3KnMMxYjRxVq"
      },
      "source": [
        "dev.rename(columns={'tweet_text': 'text'}, inplace=True)\n",
        "dev.rename(columns={'claim_worthiness': 'label'}, inplace=True)"
      ],
      "execution_count": null,
      "outputs": []
    },
    {
      "cell_type": "code",
      "metadata": {
        "id": "yc-6GyqCfJ27",
        "colab": {
          "base_uri": "https://localhost:8080/"
        },
        "outputId": "fb6fcd94-629c-4d12-d92c-0a20bdb98c13"
      },
      "source": [
        "test_data_loader = dataLoader(dev, tokenizer, MAX_LEN, BATCH_SIZE)"
      ],
      "execution_count": null,
      "outputs": [
        {
          "output_type": "stream",
          "text": [
            "/usr/local/lib/python3.7/dist-packages/torch/utils/data/dataloader.py:477: UserWarning: This DataLoader will create 4 worker processes in total. Our suggested max number of worker in current system is 2, which is smaller than what this DataLoader is going to create. Please be aware that excessive worker creation might get DataLoader running slow or even freeze, lower the worker number to avoid potential slowness/freeze if necessary.\n",
            "  cpuset_checked))\n"
          ],
          "name": "stderr"
        }
      ]
    },
    {
      "cell_type": "code",
      "metadata": {
        "id": "2l9TyVZ7NkQD",
        "colab": {
          "base_uri": "https://localhost:8080/"
        },
        "outputId": "f731f96a-cc44-4184-b558-512e22a706c7"
      },
      "source": [
        "test_ap, test_loss= eval_model(\n",
        "  model,\n",
        "  test_data_loader,\n",
        "  loss_fn,\n",
        "  device,\n",
        "  len(dev)\n",
        ")"
      ],
      "execution_count": null,
      "outputs": [
        {
          "output_type": "stream",
          "text": [
            "\r  0%|          | 0/21 [00:00<?, ?it/s]/usr/local/lib/python3.7/dist-packages/torch/utils/data/dataloader.py:477: UserWarning: This DataLoader will create 4 worker processes in total. Our suggested max number of worker in current system is 2, which is smaller than what this DataLoader is going to create. Please be aware that excessive worker creation might get DataLoader running slow or even freeze, lower the worker number to avoid potential slowness/freeze if necessary.\n",
            "  cpuset_checked))\n",
            "100%|██████████| 21/21 [00:11<00:00,  1.79it/s]\n"
          ],
          "name": "stderr"
        }
      ]
    },
    {
      "cell_type": "code",
      "metadata": {
        "id": "GcJtKt67rkXd",
        "colab": {
          "base_uri": "https://localhost:8080/"
        },
        "outputId": "cbcf5610-d576-4991-8015-da5cf9c39e12"
      },
      "source": [
        "test_ap"
      ],
      "execution_count": null,
      "outputs": [
        {
          "output_type": "execute_result",
          "data": {
            "text/plain": [
              "0.868876642129312"
            ]
          },
          "metadata": {
            "tags": []
          },
          "execution_count": 71
        }
      ]
    },
    {
      "cell_type": "code",
      "metadata": {
        "id": "l05QMbS4qURc",
        "colab": {
          "base_uri": "https://localhost:8080/"
        },
        "outputId": "86966338-91f9-4152-ff57-9540349fb663"
      },
      "source": [
        "y_pred_prob,y_true = get_predictions(model,test_data_loader)"
      ],
      "execution_count": null,
      "outputs": [
        {
          "output_type": "stream",
          "text": [
            "/usr/local/lib/python3.7/dist-packages/torch/utils/data/dataloader.py:477: UserWarning: This DataLoader will create 4 worker processes in total. Our suggested max number of worker in current system is 2, which is smaller than what this DataLoader is going to create. Please be aware that excessive worker creation might get DataLoader running slow or even freeze, lower the worker number to avoid potential slowness/freeze if necessary.\n",
            "  cpuset_checked))\n"
          ],
          "name": "stderr"
        }
      ]
    },
    {
      "cell_type": "code",
      "metadata": {
        "id": "Bccu1x4esJXp",
        "colab": {
          "base_uri": "https://localhost:8080/"
        },
        "outputId": "9a194019-6ea2-4ed6-932e-69b5ebf044c9"
      },
      "source": [
        "y_pred_prob"
      ],
      "execution_count": null,
      "outputs": [
        {
          "output_type": "execute_result",
          "data": {
            "text/plain": [
              "tensor([[0.9927, 0.0073],\n",
              "        [0.1934, 0.8066],\n",
              "        [0.9216, 0.0784],\n",
              "        ...,\n",
              "        [0.9878, 0.0122],\n",
              "        [0.5774, 0.4226],\n",
              "        [0.9624, 0.0376]])"
            ]
          },
          "metadata": {
            "tags": []
          },
          "execution_count": 73
        }
      ]
    },
    {
      "cell_type": "code",
      "metadata": {
        "id": "cp5RVbm-2uR0"
      },
      "source": [
        "#y_pred = y_pred_prob[:,0]-y_pred_prob[:,1]"
      ],
      "execution_count": null,
      "outputs": []
    },
    {
      "cell_type": "code",
      "metadata": {
        "id": "cvSY87lAJHUS"
      },
      "source": [
        "out = []\n",
        "for num in y_pred_prob[:,1]:\n",
        "  output = f\"{num:.20f}\"\n",
        "  out.append(output)"
      ],
      "execution_count": null,
      "outputs": []
    },
    {
      "cell_type": "code",
      "metadata": {
        "colab": {
          "base_uri": "https://localhost:8080/"
        },
        "id": "PK2PzI6EKm-j",
        "outputId": "d6201476-e3d6-4333-c3c6-30f56a8d544a"
      },
      "source": [
        "out"
      ],
      "execution_count": null,
      "outputs": [
        {
          "output_type": "execute_result",
          "data": {
            "text/plain": [
              "['0.00726907188072800636',\n",
              " '0.80664002895355224609',\n",
              " '0.07836176455020904541',\n",
              " '0.20394733548164367676',\n",
              " '0.00863367412239313126',\n",
              " '0.00757201481610536575',\n",
              " '0.00604838505387306213',\n",
              " '0.00597337819635868073',\n",
              " '0.00613839132711291313',\n",
              " '0.01385498046875000000',\n",
              " '0.11778719723224639893',\n",
              " '0.00662844441831111908',\n",
              " '0.00759125640615820885',\n",
              " '0.01145349722355604172',\n",
              " '0.43793171644210815430',\n",
              " '0.03881624713540077209',\n",
              " '0.03968356177210807800',\n",
              " '0.89752167463302612305',\n",
              " '0.88021767139434814453',\n",
              " '0.01586606353521347046',\n",
              " '0.47742074728012084961',\n",
              " '0.92351287603378295898',\n",
              " '0.93758577108383178711',\n",
              " '0.92351287603378295898',\n",
              " '0.93488478660583496094',\n",
              " '0.02129356190562248230',\n",
              " '0.10583025217056274414',\n",
              " '0.00788789242506027222',\n",
              " '0.80192345380783081055',\n",
              " '0.00665649631991982460',\n",
              " '0.00724083418026566505',\n",
              " '0.15145316720008850098',\n",
              " '0.01021776534616947174',\n",
              " '0.01558378618210554123',\n",
              " '0.89840739965438842773',\n",
              " '0.01043634582310914993',\n",
              " '0.00760700320824980736',\n",
              " '0.00621759425848722458',\n",
              " '0.00919698737561702728',\n",
              " '0.01966610550880432129',\n",
              " '0.00745410332456231117',\n",
              " '0.00644198339432477951',\n",
              " '0.00611141975969076157',\n",
              " '0.02320534549653530121',\n",
              " '0.00739989243447780609',\n",
              " '0.01059281919151544571',\n",
              " '0.90127390623092651367',\n",
              " '0.71244663000106811523',\n",
              " '0.00938246306031942368',\n",
              " '0.01157998200505971909',\n",
              " '0.01055931858718395233',\n",
              " '0.00665310211479663849',\n",
              " '0.00920884031802415848',\n",
              " '0.00617561675608158112',\n",
              " '0.01868715696036815643',\n",
              " '0.02044843509793281555',\n",
              " '0.00581421237438917160',\n",
              " '0.87720650434494018555',\n",
              " '0.90874630212783813477',\n",
              " '0.02107513323426246643',\n",
              " '0.85701549053192138672',\n",
              " '0.01528531126677989960',\n",
              " '0.00807624682784080505',\n",
              " '0.86314803361892700195',\n",
              " '0.00489859003573656082',\n",
              " '0.00739354174584150314',\n",
              " '0.00668584881350398064',\n",
              " '0.65141433477401733398',\n",
              " '0.92036867141723632812',\n",
              " '0.13905911147594451904',\n",
              " '0.09091696888208389282',\n",
              " '0.91899293661117553711',\n",
              " '0.35307219624519348145',\n",
              " '0.00600829860195517540',\n",
              " '0.92802858352661132812',\n",
              " '0.00696099642664194107',\n",
              " '0.00819368194788694382',\n",
              " '0.00615288410335779190',\n",
              " '0.00910240039229393005',\n",
              " '0.05857661738991737366',\n",
              " '0.00752188591286540031',\n",
              " '0.13873517513275146484',\n",
              " '0.01482881419360637665',\n",
              " '0.00968782790005207062',\n",
              " '0.93810570240020751953',\n",
              " '0.01194145809859037399',\n",
              " '0.05814966559410095215',\n",
              " '0.94477969408035278320',\n",
              " '0.95489245653152465820',\n",
              " '0.02617192268371582031',\n",
              " '0.01194145809859037399',\n",
              " '0.02618238702416419983',\n",
              " '0.00608859257772564888',\n",
              " '0.01261367183178663254',\n",
              " '0.01405555754899978638',\n",
              " '0.00561450701206922531',\n",
              " '0.00937546230852603912',\n",
              " '0.92112660408020019531',\n",
              " '0.69022077322006225586',\n",
              " '0.00967468228191137314',\n",
              " '0.00776749709621071815',\n",
              " '0.91525441408157348633',\n",
              " '0.00910492986440658569',\n",
              " '0.00607418455183506012',\n",
              " '0.00871583726257085800',\n",
              " '0.00711710099130868912',\n",
              " '0.00618892954662442207',\n",
              " '0.01065627578645944595',\n",
              " '0.00656526675447821617',\n",
              " '0.00594716612249612808',\n",
              " '0.00589852686971426010',\n",
              " '0.00673335231840610504',\n",
              " '0.00740185100585222244',\n",
              " '0.00649033812806010246',\n",
              " '0.00523081887513399124',\n",
              " '0.01081397943198680878',\n",
              " '0.46656718850135803223',\n",
              " '0.00851883925497531891',\n",
              " '0.01732609607279300690',\n",
              " '0.00764761446043848991',\n",
              " '0.04042096063494682312',\n",
              " '0.00684998650103807449',\n",
              " '0.24163611233234405518',\n",
              " '0.00915997941046953201',\n",
              " '0.01545880734920501709',\n",
              " '0.02603387832641601562',\n",
              " '0.88902050256729125977',\n",
              " '0.79222095012664794922',\n",
              " '0.00582173094153404236',\n",
              " '0.01000653021037578583',\n",
              " '0.00725713791325688362',\n",
              " '0.09459733963012695312',\n",
              " '0.00689356680959463120',\n",
              " '0.00582131929695606232',\n",
              " '0.00636830879375338554',\n",
              " '0.06228278204798698425',\n",
              " '0.00606978451833128929',\n",
              " '0.02595194987952709198',\n",
              " '0.00610457686707377434',\n",
              " '0.02429289929568767548',\n",
              " '0.00984005350619554520',\n",
              " '0.61984956264495849609',\n",
              " '0.00613655336201190948',\n",
              " '0.00545208994299173355',\n",
              " '0.01193748693913221359',\n",
              " '0.01506433356553316116',\n",
              " '0.00807703752070665359',\n",
              " '0.17124585807323455811',\n",
              " '0.00824391096830368042',\n",
              " '0.01155151613056659698',\n",
              " '0.00598966283723711967',\n",
              " '0.00776178110390901566',\n",
              " '0.00534979254007339478',\n",
              " '0.00752372201532125473',\n",
              " '0.00541165098547935486',\n",
              " '0.29367354512214660645',\n",
              " '0.01999951712787151337',\n",
              " '0.90742748975753784180',\n",
              " '0.03206286206841468811',\n",
              " '0.00734254531562328339',\n",
              " '0.00839402433484792709',\n",
              " '0.00788355804979801178',\n",
              " '0.01137681212276220322',\n",
              " '0.00772444531321525574',\n",
              " '0.00709500676020979881',\n",
              " '0.00830301549285650253',\n",
              " '0.00880518089979887009',\n",
              " '0.00770087772980332375',\n",
              " '0.00552748236805200577',\n",
              " '0.00679314834997057915',\n",
              " '0.00948299840092658997',\n",
              " '0.00790141336619853973',\n",
              " '0.90418511629104614258',\n",
              " '0.00799770746380090714',\n",
              " '0.03691674396395683289',\n",
              " '0.01505612861365079880',\n",
              " '0.00572842173278331757',\n",
              " '0.07992692291736602783',\n",
              " '0.61582571268081665039',\n",
              " '0.73295038938522338867',\n",
              " '0.01024930831044912338',\n",
              " '0.00607714522629976273',\n",
              " '0.05025734007358551025',\n",
              " '0.00649284524843096733',\n",
              " '0.00813846103847026825',\n",
              " '0.00838274508714675903',\n",
              " '0.80681896209716796875',\n",
              " '0.00791884027421474457',\n",
              " '0.00505332648754119873',\n",
              " '0.00585436075925827026',\n",
              " '0.94314032793045043945',\n",
              " '0.00903103128075599670',\n",
              " '0.00572368130087852478',\n",
              " '0.00553052872419357300',\n",
              " '0.00557434791699051857',\n",
              " '0.06762143969535827637',\n",
              " '0.00971435103565454483',\n",
              " '0.02638062648475170135',\n",
              " '0.64248067140579223633',\n",
              " '0.31254807114601135254',\n",
              " '0.04540050029754638672',\n",
              " '0.01139944512397050858',\n",
              " '0.00536142894998192787',\n",
              " '0.85106289386749267578',\n",
              " '0.92902952432632446289',\n",
              " '0.00770335597917437553',\n",
              " '0.45321938395500183105',\n",
              " '0.01105512026697397232',\n",
              " '0.01275522448122501373',\n",
              " '0.01239833887666463852',\n",
              " '0.03301255777478218079',\n",
              " '0.02233306132256984711',\n",
              " '0.00755671504884958267',\n",
              " '0.86926221847534179688',\n",
              " '0.00946566648781299591',\n",
              " '0.00850719492882490158',\n",
              " '0.01378824375569820404',\n",
              " '0.00565473921597003937',\n",
              " '0.02638062648475170135',\n",
              " '0.00900304969400167465',\n",
              " '0.12839753925800323486',\n",
              " '0.00679668830707669258',\n",
              " '0.62196558713912963867',\n",
              " '0.01894261129200458527',\n",
              " '0.03733316063880920410',\n",
              " '0.03634019568562507629',\n",
              " '0.00831431616097688675',\n",
              " '0.00868639349937438965',\n",
              " '0.01550963986665010452',\n",
              " '0.01989528723061084747',\n",
              " '0.00737565010786056519',\n",
              " '0.01821583695709705353',\n",
              " '0.00704087922349572182',\n",
              " '0.05109681561589241028',\n",
              " '0.01409176178276538849',\n",
              " '0.04787028580904006958',\n",
              " '0.00513444514945149422',\n",
              " '0.01555885933339595795',\n",
              " '0.01136054750531911850',\n",
              " '0.02121675387024879456',\n",
              " '0.67779958248138427734',\n",
              " '0.00673749856650829315',\n",
              " '0.01099597383290529251',\n",
              " '0.00695231882855296135',\n",
              " '0.27077373862266540527',\n",
              " '0.00820462033152580261',\n",
              " '0.01215055678039789200',\n",
              " '0.01061401888728141785',\n",
              " '0.38569122552871704102',\n",
              " '0.00718273501843214035',\n",
              " '0.92122250795364379883',\n",
              " '0.01715965941548347473',\n",
              " '0.05219246819615364075',\n",
              " '0.63279891014099121094',\n",
              " '0.96079909801483154297',\n",
              " '0.00964769721031188965',\n",
              " '0.15920105576515197754',\n",
              " '0.00749482680112123489',\n",
              " '0.94883793592453002930',\n",
              " '0.00649564387276768684',\n",
              " '0.00476650102064013481',\n",
              " '0.00577484769746661186',\n",
              " '0.94397252798080444336',\n",
              " '0.11756993085145950317',\n",
              " '0.00620734319090843201',\n",
              " '0.01672244444489479065',\n",
              " '0.80717301368713378906',\n",
              " '0.00773486820980906487',\n",
              " '0.13369160890579223633',\n",
              " '0.00932462979108095169',\n",
              " '0.91897976398468017578',\n",
              " '0.25772696733474731445',\n",
              " '0.91951757669448852539',\n",
              " '0.01689362898468971252',\n",
              " '0.00605639955028891563',\n",
              " '0.05078717321157455444',\n",
              " '0.96036779880523681641',\n",
              " '0.95385098457336425781',\n",
              " '0.01433395128697156906',\n",
              " '0.00849307700991630554',\n",
              " '0.01577157154679298401',\n",
              " '0.83618718385696411133',\n",
              " '0.11374700814485549927',\n",
              " '0.00707442872226238251',\n",
              " '0.09613250195980072021',\n",
              " '0.00535032153129577637',\n",
              " '0.65280020236968994141',\n",
              " '0.92942428588867187500',\n",
              " '0.91729211807250976562',\n",
              " '0.06792522966861724854',\n",
              " '0.00806128513067960739',\n",
              " '0.00599486287683248520',\n",
              " '0.00558154517784714699',\n",
              " '0.01117987558245658875',\n",
              " '0.03020923584699630737',\n",
              " '0.00631297565996646881',\n",
              " '0.00792412087321281433',\n",
              " '0.00606661522760987282',\n",
              " '0.01034090109169483185',\n",
              " '0.00660453457385301590',\n",
              " '0.00729391677305102348',\n",
              " '0.00580167351290583611',\n",
              " '0.01897362433373928070',\n",
              " '0.11952430754899978638',\n",
              " '0.00866740196943283081',\n",
              " '0.79873353242874145508',\n",
              " '0.68834000825881958008',\n",
              " '0.92636728286743164062',\n",
              " '0.71992880105972290039',\n",
              " '0.76995450258255004883',\n",
              " '0.01585481502115726471',\n",
              " '0.28734797239303588867',\n",
              " '0.89233875274658203125',\n",
              " '0.57894766330718994141',\n",
              " '0.01345305982977151871',\n",
              " '0.01799207925796508789',\n",
              " '0.94108545780181884766',\n",
              " '0.00626844679936766624',\n",
              " '0.94626337289810180664',\n",
              " '0.05632289499044418335',\n",
              " '0.07950148731470108032',\n",
              " '0.94086772203445434570',\n",
              " '0.06221125274896621704',\n",
              " '0.00788015779107809067',\n",
              " '0.00844036880880594254',\n",
              " '0.01257352530956268311',\n",
              " '0.02170542068779468536',\n",
              " '0.00735303759574890137',\n",
              " '0.01147636771202087402',\n",
              " '0.01407051738351583481',\n",
              " '0.00551622780039906502',\n",
              " '0.00758539233356714249',\n",
              " '0.86866426467895507812',\n",
              " '0.73081493377685546875',\n",
              " '0.00569995585829019547',\n",
              " '0.94381183385848999023',\n",
              " '0.91340965032577514648',\n",
              " '0.49501019716262817383',\n",
              " '0.06427859514951705933',\n",
              " '0.01018377952277660370',\n",
              " '0.15364259481430053711',\n",
              " '0.32911521196365356445',\n",
              " '0.90316087007522583008',\n",
              " '0.01416209619492292404',\n",
              " '0.15364259481430053711',\n",
              " '0.05692932382225990295',\n",
              " '0.90681791305541992188',\n",
              " '0.92755562067031860352',\n",
              " '0.04073210060596466064',\n",
              " '0.00993860512971878052',\n",
              " '0.71676224470138549805',\n",
              " '0.01092716585844755173',\n",
              " '0.22529561817646026611',\n",
              " '0.02424613945186138153',\n",
              " '0.00609689764678478241',\n",
              " '0.00765098026022315025',\n",
              " '0.00743579864501953125',\n",
              " '0.23228991031646728516',\n",
              " '0.00502725644037127495',\n",
              " '0.00584243889898061752',\n",
              " '0.06044381856918334961',\n",
              " '0.00498288869857788086',\n",
              " '0.00757263740524649620',\n",
              " '0.11682153493165969849',\n",
              " '0.00670231971889734268',\n",
              " '0.00821468047797679901',\n",
              " '0.01647822558879852295',\n",
              " '0.00798432715237140656',\n",
              " '0.12039256840944290161',\n",
              " '0.87465828657150268555',\n",
              " '0.01368513889610767365',\n",
              " '0.95037215948104858398',\n",
              " '0.94651257991790771484',\n",
              " '0.90113198757171630859',\n",
              " '0.95039778947830200195',\n",
              " '0.92319464683532714844',\n",
              " '0.00834887474775314331',\n",
              " '0.00593623891472816467',\n",
              " '0.94831180572509765625',\n",
              " '0.95512264966964721680',\n",
              " '0.57921689748764038086',\n",
              " '0.00622702948749065399',\n",
              " '0.00845187436789274216',\n",
              " '0.03919270262122154236',\n",
              " '0.00809601973742246628',\n",
              " '0.90060538053512573242',\n",
              " '0.48339587450027465820',\n",
              " '0.83834367990493774414',\n",
              " '0.91046357154846191406',\n",
              " '0.06369683891534805298',\n",
              " '0.89725756645202636719',\n",
              " '0.01227005664259195328',\n",
              " '0.87906503677368164062',\n",
              " '0.84445464611053466797',\n",
              " '0.01529227383434772491',\n",
              " '0.91739302873611450195',\n",
              " '0.04539560154080390930',\n",
              " '0.91110634803771972656',\n",
              " '0.77504730224609375000',\n",
              " '0.93117177486419677734',\n",
              " '0.06085858866572380066',\n",
              " '0.06527338922023773193',\n",
              " '0.00684848846867680550',\n",
              " '0.79381740093231201172',\n",
              " '0.87012284994125366211',\n",
              " '0.60359835624694824219',\n",
              " '0.59468913078308105469',\n",
              " '0.01762097328901290894',\n",
              " '0.02202569134533405304',\n",
              " '0.80279737710952758789',\n",
              " '0.06527338922023773193',\n",
              " '0.95064449310302734375',\n",
              " '0.60359835624694824219',\n",
              " '0.04780285060405731201',\n",
              " '0.01069255173206329346',\n",
              " '0.09797009080648422241',\n",
              " '0.01534088980406522751',\n",
              " '0.00770347611978650093',\n",
              " '0.92079234123229980469',\n",
              " '0.02832135744392871857',\n",
              " '0.02438230253756046295',\n",
              " '0.05933642387390136719',\n",
              " '0.00675620837137103081',\n",
              " '0.22343467175960540771',\n",
              " '0.11355612426996231079',\n",
              " '0.01436099875718355179',\n",
              " '0.00851986184716224670',\n",
              " '0.00597394444048404694',\n",
              " '0.00633817026391625404',\n",
              " '0.04595247283577919006',\n",
              " '0.00859268847852945328',\n",
              " '0.61814606189727783203',\n",
              " '0.04255325719714164734',\n",
              " '0.00546328909695148468',\n",
              " '0.84054106473922729492',\n",
              " '0.01949370838701725006',\n",
              " '0.94924241304397583008',\n",
              " '0.96525651216506958008',\n",
              " '0.96958196163177490234',\n",
              " '0.00681773619726300240',\n",
              " '0.01082684006541967392',\n",
              " '0.95838832855224609375',\n",
              " '0.96559482812881469727',\n",
              " '0.94881272315979003906',\n",
              " '0.96868592500686645508',\n",
              " '0.96208810806274414062',\n",
              " '0.95551711320877075195',\n",
              " '0.97011888027191162109',\n",
              " '0.97204136848449707031',\n",
              " '0.01195475459098815918',\n",
              " '0.96902209520339965820',\n",
              " '0.96113085746765136719',\n",
              " '0.96643638610839843750',\n",
              " '0.94575518369674682617',\n",
              " '0.96835625171661376953',\n",
              " '0.96484351158142089844',\n",
              " '0.95634108781814575195',\n",
              " '0.96854233741760253906',\n",
              " '0.96286731958389282227',\n",
              " '0.96682280302047729492',\n",
              " '0.96943116188049316406',\n",
              " '0.96494805812835693359',\n",
              " '0.96985381841659545898',\n",
              " '0.96384268999099731445',\n",
              " '0.97077023983001708984',\n",
              " '0.96817457675933837891',\n",
              " '0.96657156944274902344',\n",
              " '0.46087497472763061523',\n",
              " '0.00767593644559383392',\n",
              " '0.12466830760240554810',\n",
              " '0.63692539930343627930',\n",
              " '0.02238911204040050507',\n",
              " '0.00543104438111186028',\n",
              " '0.96807396411895751953',\n",
              " '0.97090113162994384766',\n",
              " '0.01057157665491104126',\n",
              " '0.96627962589263916016',\n",
              " '0.00988566875457763672',\n",
              " '0.00677949190139770508',\n",
              " '0.89397251605987548828',\n",
              " '0.85716313123703002930',\n",
              " '0.05009358003735542297',\n",
              " '0.96994823217391967773',\n",
              " '0.00497749261558055878',\n",
              " '0.16369554400444030762',\n",
              " '0.01164743211120367050',\n",
              " '0.00545261194929480553',\n",
              " '0.88461315631866455078',\n",
              " '0.07458338141441345215',\n",
              " '0.01299330964684486389',\n",
              " '0.63692539930343627930',\n",
              " '0.01841687411069869995',\n",
              " '0.92471271753311157227',\n",
              " '0.96397936344146728516',\n",
              " '0.00894049834460020065',\n",
              " '0.96359276771545410156',\n",
              " '0.57736963033676147461',\n",
              " '0.96763402223587036133',\n",
              " '0.62675833702087402344',\n",
              " '0.93964350223541259766',\n",
              " '0.00578061118721961975',\n",
              " '0.00692745577543973923',\n",
              " '0.05337649583816528320',\n",
              " '0.00716343987733125687',\n",
              " '0.01044758968055248260',\n",
              " '0.88330686092376708984',\n",
              " '0.00582019425928592682',\n",
              " '0.62316447496414184570',\n",
              " '0.04905928671360015869',\n",
              " '0.93409329652786254883',\n",
              " '0.01211894862353801727',\n",
              " '0.93883973360061645508',\n",
              " '0.88859587907791137695',\n",
              " '0.00631953682750463486',\n",
              " '0.95866024494171142578',\n",
              " '0.96416968107223510742',\n",
              " '0.00700112618505954742',\n",
              " '0.00540552567690610886',\n",
              " '0.80823808908462524414',\n",
              " '0.95795029401779174805',\n",
              " '0.89114433526992797852',\n",
              " '0.94774782657623291016',\n",
              " '0.93706303834915161133',\n",
              " '0.95848059654235839844',\n",
              " '0.96440058946609497070',\n",
              " '0.84866964817047119141',\n",
              " '0.65226286649703979492',\n",
              " '0.93426120281219482422',\n",
              " '0.13942158222198486328',\n",
              " '0.73972237110137939453',\n",
              " '0.68848335742950439453',\n",
              " '0.00598256988450884819',\n",
              " '0.10274558514356613159',\n",
              " '0.07288174331188201904',\n",
              " '0.00533095328137278557',\n",
              " '0.04519764333963394165',\n",
              " '0.02037680335342884064',\n",
              " '0.00600220728665590286',\n",
              " '0.43515846133232116699',\n",
              " '0.05300793796777725220',\n",
              " '0.00687772920355200768',\n",
              " '0.01537903863936662674',\n",
              " '0.04252456501126289368',\n",
              " '0.11054632067680358887',\n",
              " '0.68829345703125000000',\n",
              " '0.92820650339126586914',\n",
              " '0.00673762336373329163',\n",
              " '0.00692511443048715591',\n",
              " '0.94736367464065551758',\n",
              " '0.74779886007308959961',\n",
              " '0.90182900428771972656',\n",
              " '0.95936721563339233398',\n",
              " '0.01738628372550010681',\n",
              " '0.00586151937022805214',\n",
              " '0.95497876405715942383',\n",
              " '0.96065318584442138672',\n",
              " '0.96572089195251464844',\n",
              " '0.93434321880340576172',\n",
              " '0.96043157577514648438',\n",
              " '0.96240061521530151367',\n",
              " '0.63340002298355102539',\n",
              " '0.05421527847647666931',\n",
              " '0.94357144832611083984',\n",
              " '0.31278494000434875488',\n",
              " '0.19342143833637237549',\n",
              " '0.86738866567611694336',\n",
              " '0.96429717540740966797',\n",
              " '0.96494603157043457031',\n",
              " '0.97176402807235717773',\n",
              " '0.03228740021586418152',\n",
              " '0.13612863421440124512',\n",
              " '0.89833086729049682617',\n",
              " '0.97166687250137329102',\n",
              " '0.87639355659484863281',\n",
              " '0.05989363789558410645',\n",
              " '0.26632976531982421875',\n",
              " '0.02589328400790691376',\n",
              " '0.95658349990844726562',\n",
              " '0.95456737279891967773',\n",
              " '0.94192868471145629883',\n",
              " '0.03188092634081840515',\n",
              " '0.00653335405513644218',\n",
              " '0.91040289402008056641',\n",
              " '0.00665278686210513115',\n",
              " '0.00888274144381284714',\n",
              " '0.93688428401947021484',\n",
              " '0.86439156532287597656',\n",
              " '0.86975824832916259766',\n",
              " '0.89578920602798461914',\n",
              " '0.87589734792709350586',\n",
              " '0.94768178462982177734',\n",
              " '0.94001096487045288086',\n",
              " '0.01072198431938886642',\n",
              " '0.95483660697937011719',\n",
              " '0.96413934230804443359',\n",
              " '0.76640707254409790039',\n",
              " '0.92563825845718383789',\n",
              " '0.81419271230697631836',\n",
              " '0.01381643861532211304',\n",
              " '0.00678620627149939537',\n",
              " '0.00885415636003017426',\n",
              " '0.92602688074111938477',\n",
              " '0.17925153672695159912',\n",
              " '0.93323397636413574219',\n",
              " '0.02785512618720531464',\n",
              " '0.10058361291885375977',\n",
              " '0.01614262908697128296',\n",
              " '0.96033668518066406250',\n",
              " '0.40759402513504028320',\n",
              " '0.93493574857711791992',\n",
              " '0.92529755830764770508',\n",
              " '0.02735610306262969971',\n",
              " '0.84477746486663818359',\n",
              " '0.00675142370164394379',\n",
              " '0.34594836831092834473',\n",
              " '0.01240488979965448380',\n",
              " '0.29904755949974060059',\n",
              " '0.90742617845535278320',\n",
              " '0.29146707057952880859',\n",
              " '0.37373310327529907227',\n",
              " '0.09200991690158843994',\n",
              " '0.93804782629013061523',\n",
              " '0.88573318719863891602',\n",
              " '0.16666615009307861328',\n",
              " '0.70575743913650512695',\n",
              " '0.00521323131397366524',\n",
              " '0.00560084823518991470',\n",
              " '0.21057251095771789551',\n",
              " '0.00755272526293992996',\n",
              " '0.57658439874649047852',\n",
              " '0.80054241418838500977',\n",
              " '0.17531009018421173096',\n",
              " '0.91721457242965698242',\n",
              " '0.00842242129147052765',\n",
              " '0.01390758249908685684',\n",
              " '0.86540770530700683594',\n",
              " '0.00684170657768845558',\n",
              " '0.02114170417189598083',\n",
              " '0.00824028998613357544',\n",
              " '0.91693097352981567383',\n",
              " '0.05278242379426956177',\n",
              " '0.67002081871032714844',\n",
              " '0.01292067952454090118',\n",
              " '0.34963053464889526367',\n",
              " '0.01377894822508096695',\n",
              " '0.00667277956381440163',\n",
              " '0.01208404265344142914',\n",
              " '0.93165713548660278320',\n",
              " '0.05976499244570732117',\n",
              " '0.94491416215896606445',\n",
              " '0.59555888175964355469',\n",
              " '0.88988977670669555664',\n",
              " '0.02515298873186111450',\n",
              " '0.02196241728961467743',\n",
              " '0.00556261092424392700',\n",
              " '0.00663107214495539665',\n",
              " '0.02452048659324645996',\n",
              " '0.00906837545335292816',\n",
              " '0.01221764087677001953',\n",
              " '0.42261910438537597656',\n",
              " '0.03759739175438880920']"
            ]
          },
          "metadata": {
            "tags": []
          },
          "execution_count": 76
        }
      ]
    },
    {
      "cell_type": "code",
      "metadata": {
        "id": "zMaSHMeextVv"
      },
      "source": [
        "sub['score'] = out"
      ],
      "execution_count": null,
      "outputs": []
    },
    {
      "cell_type": "code",
      "metadata": {
        "id": "aMFy7h1fSY2Z",
        "colab": {
          "base_uri": "https://localhost:8080/"
        },
        "outputId": "e2fc9b52-43ba-40de-f5bb-d5d1480c68fb"
      },
      "source": [
        "%cd /content/clef2021-checkthat-lab/task1/scorer"
      ],
      "execution_count": null,
      "outputs": [
        {
          "output_type": "stream",
          "text": [
            "/content/clef2021-checkthat-lab/task1/scorer\n"
          ],
          "name": "stdout"
        }
      ]
    },
    {
      "cell_type": "code",
      "metadata": {
        "id": "KpT0RaZ4yFuc"
      },
      "source": [
        "sub.to_csv('sub.tsv',sep='\\t',index=False,header=None)"
      ],
      "execution_count": null,
      "outputs": []
    },
    {
      "cell_type": "code",
      "metadata": {
        "id": "YyN5vYTnPHdW",
        "colab": {
          "base_uri": "https://localhost:8080/",
          "height": 54
        },
        "outputId": "35cd303b-978f-4932-f8b2-28bb4b1b0221"
      },
      "source": [
        "'''path=\"/content/clef2021-checkthat-lab/task1/scorer/new_test.csv\"\n",
        "\n",
        "import csv\n",
        "reader = list(csv.reader(open(path, \"rU\"), delimiter=','))\n",
        "writer = csv.writer(open(path, 'w'), delimiter='\\t')\n",
        "writer.writerows(row for row in reader)'''"
      ],
      "execution_count": null,
      "outputs": [
        {
          "output_type": "execute_result",
          "data": {
            "application/vnd.google.colaboratory.intrinsic+json": {
              "type": "string"
            },
            "text/plain": [
              "'path=\"/content/clef2021-checkthat-lab/task1/scorer/new_test.csv\"\\n\\nimport csv\\nreader = list(csv.reader(open(path, \"rU\"), delimiter=\\',\\'))\\nwriter = csv.writer(open(path, \\'w\\'), delimiter=\\'\\t\\')\\nwriter.writerows(row for row in reader)'"
            ]
          },
          "metadata": {
            "tags": []
          },
          "execution_count": 80
        }
      ]
    },
    {
      "cell_type": "code",
      "metadata": {
        "id": "cUTLS1CV4RlJ",
        "colab": {
          "base_uri": "https://localhost:8080/"
        },
        "outputId": "e1f7fc04-cd80-41d3-bff4-27ac6b10fb1f"
      },
      "source": [
        "!python3 subtask_1a.py --gold-file-path=CT21-AR-Dev-T1-Labels.tsv --pred-file-path=sub.tsv"
      ],
      "execution_count": null,
      "outputs": [
        {
          "output_type": "stream",
          "text": [
            "INFO : Started evaluating results for subtask-1a ...\n",
            "INFO : Reading gold predictions from file CT21-AR-Dev-T1-Labels.tsv\n",
            "INFO : Reading predicted ranking order from file sub.tsv\n",
            "INFO : ================================================= RESULTS for sub.tsv ==================================================\n",
            "INFO : AVERAGE PRECISION:            0.8511    \n",
            "INFO : ========================================================================================================================\n",
            "INFO : RECIPROCAL RANK:              1.0000    \n",
            "INFO : ========================================================================================================================\n",
            "INFO : R-PRECISION (R=265):          0.7623    \n",
            "INFO : ========================================================================================================================\n",
            "INFO : PRECISION@N:                  @1        @3        @5        @10       @20       @50       \n",
            "INFO :                               1.0000    1.0000    0.8000    0.9000    0.9500    0.9800    \n",
            "INFO : ========================================================================================================================\n"
          ],
          "name": "stdout"
        }
      ]
    },
    {
      "cell_type": "code",
      "metadata": {
        "id": "-eTmXTVGO59D"
      },
      "source": [
        "       \n",
        "       #epoch badeleteha 5 \n",
        "#batch_size = 32 , maxlength = 128 , lr=2e-5\n",
        "#early stopping epoch 10"
      ],
      "execution_count": null,
      "outputs": []
    },
    {
      "cell_type": "code",
      "metadata": {
        "id": "6CDy1T5JP7W4"
      },
      "source": [
        ""
      ],
      "execution_count": null,
      "outputs": []
    },
    {
      "cell_type": "code",
      "metadata": {
        "id": "0LgSyUMrs3Bf"
      },
      "source": [
        ""
      ],
      "execution_count": null,
      "outputs": []
    }
  ]
}