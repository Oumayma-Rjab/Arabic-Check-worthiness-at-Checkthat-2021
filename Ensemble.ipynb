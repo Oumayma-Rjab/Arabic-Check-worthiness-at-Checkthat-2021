{
  "nbformat": 4,
  "nbformat_minor": 0,
  "metadata": {
    "colab": {
      "name": "Ensemble oumayma.ipynb",
      "provenance": [],
      "collapsed_sections": []
    },
    "kernelspec": {
      "display_name": "Python 3",
      "name": "python3"
    },
    "language_info": {
      "name": "python"
    }
  },
  "cells": [
    {
      "cell_type": "code",
      "metadata": {
        "id": "GN1inJraC7Oy"
      },
      "source": [
        "import pandas as pd\n",
        "import numpy as np\n"
      ],
      "execution_count": null,
      "outputs": []
    },
    {
      "cell_type": "code",
      "metadata": {
        "id": "9pch9RY-DII7"
      },
      "source": [
        "sub_Bert_base_arabic=pd.read_csv(\"/content/submissionbert-base-arabic0-8651.tsv\",sep='\\t',header=None)\n",
        "sub_arabertv01=pd.read_csv(\"/content/submissionAraBERT_0.8651.tsv\",sep='\\t',header=None)"
      ],
      "execution_count": null,
      "outputs": []
    },
    {
      "cell_type": "code",
      "metadata": {
        "colab": {
          "base_uri": "https://localhost:8080/",
          "height": 424
        },
        "id": "kS8VDEvcKUmQ",
        "outputId": "41296e45-0554-4b41-d2a8-b1d7d37d3661"
      },
      "source": [
        "sub_Bert_base_arabic"
      ],
      "execution_count": null,
      "outputs": [
        {
          "output_type": "execute_result",
          "data": {
            "text/html": [
              "<div>\n",
              "<style scoped>\n",
              "    .dataframe tbody tr th:only-of-type {\n",
              "        vertical-align: middle;\n",
              "    }\n",
              "\n",
              "    .dataframe tbody tr th {\n",
              "        vertical-align: top;\n",
              "    }\n",
              "\n",
              "    .dataframe thead th {\n",
              "        text-align: right;\n",
              "    }\n",
              "</style>\n",
              "<table border=\"1\" class=\"dataframe\">\n",
              "  <thead>\n",
              "    <tr style=\"text-align: right;\">\n",
              "      <th></th>\n",
              "      <th>0</th>\n",
              "      <th>1</th>\n",
              "      <th>2</th>\n",
              "      <th>3</th>\n",
              "    </tr>\n",
              "  </thead>\n",
              "  <tbody>\n",
              "    <tr>\n",
              "      <th>0</th>\n",
              "      <td>CT21-AR-01</td>\n",
              "      <td>1345895983629086720</td>\n",
              "      <td>0.078538</td>\n",
              "      <td>Model_1</td>\n",
              "    </tr>\n",
              "    <tr>\n",
              "      <th>1</th>\n",
              "      <td>CT21-AR-01</td>\n",
              "      <td>1345983974712238080</td>\n",
              "      <td>0.054431</td>\n",
              "      <td>Model_1</td>\n",
              "    </tr>\n",
              "    <tr>\n",
              "      <th>2</th>\n",
              "      <td>CT21-AR-01</td>\n",
              "      <td>1346084576305836032</td>\n",
              "      <td>0.024923</td>\n",
              "      <td>Model_1</td>\n",
              "    </tr>\n",
              "    <tr>\n",
              "      <th>3</th>\n",
              "      <td>CT21-AR-01</td>\n",
              "      <td>1346144307309375495</td>\n",
              "      <td>0.090542</td>\n",
              "      <td>Model_1</td>\n",
              "    </tr>\n",
              "    <tr>\n",
              "      <th>4</th>\n",
              "      <td>CT21-AR-01</td>\n",
              "      <td>1346148004089225222</td>\n",
              "      <td>0.017661</td>\n",
              "      <td>Model_1</td>\n",
              "    </tr>\n",
              "    <tr>\n",
              "      <th>...</th>\n",
              "      <td>...</td>\n",
              "      <td>...</td>\n",
              "      <td>...</td>\n",
              "      <td>...</td>\n",
              "    </tr>\n",
              "    <tr>\n",
              "      <th>595</th>\n",
              "      <td>CT21-AR-02</td>\n",
              "      <td>1348683214148263938</td>\n",
              "      <td>0.495925</td>\n",
              "      <td>Model_1</td>\n",
              "    </tr>\n",
              "    <tr>\n",
              "      <th>596</th>\n",
              "      <td>CT21-AR-02</td>\n",
              "      <td>1348720315862552580</td>\n",
              "      <td>0.624201</td>\n",
              "      <td>Model_1</td>\n",
              "    </tr>\n",
              "    <tr>\n",
              "      <th>597</th>\n",
              "      <td>CT21-AR-02</td>\n",
              "      <td>1348731441933398017</td>\n",
              "      <td>0.034951</td>\n",
              "      <td>Model_1</td>\n",
              "    </tr>\n",
              "    <tr>\n",
              "      <th>598</th>\n",
              "      <td>CT21-AR-02</td>\n",
              "      <td>1348747097236004866</td>\n",
              "      <td>0.905566</td>\n",
              "      <td>Model_1</td>\n",
              "    </tr>\n",
              "    <tr>\n",
              "      <th>599</th>\n",
              "      <td>CT21-AR-02</td>\n",
              "      <td>1348747484328316936</td>\n",
              "      <td>0.809554</td>\n",
              "      <td>Model_1</td>\n",
              "    </tr>\n",
              "  </tbody>\n",
              "</table>\n",
              "<p>600 rows × 4 columns</p>\n",
              "</div>"
            ],
            "text/plain": [
              "              0                    1         2        3\n",
              "0    CT21-AR-01  1345895983629086720  0.078538  Model_1\n",
              "1    CT21-AR-01  1345983974712238080  0.054431  Model_1\n",
              "2    CT21-AR-01  1346084576305836032  0.024923  Model_1\n",
              "3    CT21-AR-01  1346144307309375495  0.090542  Model_1\n",
              "4    CT21-AR-01  1346148004089225222  0.017661  Model_1\n",
              "..          ...                  ...       ...      ...\n",
              "595  CT21-AR-02  1348683214148263938  0.495925  Model_1\n",
              "596  CT21-AR-02  1348720315862552580  0.624201  Model_1\n",
              "597  CT21-AR-02  1348731441933398017  0.034951  Model_1\n",
              "598  CT21-AR-02  1348747097236004866  0.905566  Model_1\n",
              "599  CT21-AR-02  1348747484328316936  0.809554  Model_1\n",
              "\n",
              "[600 rows x 4 columns]"
            ]
          },
          "metadata": {
            "tags": []
          },
          "execution_count": 24
        }
      ]
    },
    {
      "cell_type": "code",
      "metadata": {
        "colab": {
          "base_uri": "https://localhost:8080/",
          "height": 424
        },
        "id": "dGBhe1sLKWUd",
        "outputId": "19f53931-698d-49cb-fb79-6e227d25c9ae"
      },
      "source": [
        "sub_arabertv01"
      ],
      "execution_count": null,
      "outputs": [
        {
          "output_type": "execute_result",
          "data": {
            "text/html": [
              "<div>\n",
              "<style scoped>\n",
              "    .dataframe tbody tr th:only-of-type {\n",
              "        vertical-align: middle;\n",
              "    }\n",
              "\n",
              "    .dataframe tbody tr th {\n",
              "        vertical-align: top;\n",
              "    }\n",
              "\n",
              "    .dataframe thead th {\n",
              "        text-align: right;\n",
              "    }\n",
              "</style>\n",
              "<table border=\"1\" class=\"dataframe\">\n",
              "  <thead>\n",
              "    <tr style=\"text-align: right;\">\n",
              "      <th></th>\n",
              "      <th>0</th>\n",
              "      <th>1</th>\n",
              "      <th>2</th>\n",
              "      <th>3</th>\n",
              "    </tr>\n",
              "  </thead>\n",
              "  <tbody>\n",
              "    <tr>\n",
              "      <th>0</th>\n",
              "      <td>CT21-AR-01</td>\n",
              "      <td>1345895983629086720</td>\n",
              "      <td>0.878712</td>\n",
              "      <td>Model_1</td>\n",
              "    </tr>\n",
              "    <tr>\n",
              "      <th>1</th>\n",
              "      <td>CT21-AR-01</td>\n",
              "      <td>1345983974712238080</td>\n",
              "      <td>0.001953</td>\n",
              "      <td>Model_1</td>\n",
              "    </tr>\n",
              "    <tr>\n",
              "      <th>2</th>\n",
              "      <td>CT21-AR-01</td>\n",
              "      <td>1346084576305836032</td>\n",
              "      <td>0.001647</td>\n",
              "      <td>Model_1</td>\n",
              "    </tr>\n",
              "    <tr>\n",
              "      <th>3</th>\n",
              "      <td>CT21-AR-01</td>\n",
              "      <td>1346144307309375495</td>\n",
              "      <td>0.009589</td>\n",
              "      <td>Model_1</td>\n",
              "    </tr>\n",
              "    <tr>\n",
              "      <th>4</th>\n",
              "      <td>CT21-AR-01</td>\n",
              "      <td>1346148004089225222</td>\n",
              "      <td>0.001831</td>\n",
              "      <td>Model_1</td>\n",
              "    </tr>\n",
              "    <tr>\n",
              "      <th>...</th>\n",
              "      <td>...</td>\n",
              "      <td>...</td>\n",
              "      <td>...</td>\n",
              "      <td>...</td>\n",
              "    </tr>\n",
              "    <tr>\n",
              "      <th>595</th>\n",
              "      <td>CT21-AR-02</td>\n",
              "      <td>1348683214148263938</td>\n",
              "      <td>0.007370</td>\n",
              "      <td>Model_1</td>\n",
              "    </tr>\n",
              "    <tr>\n",
              "      <th>596</th>\n",
              "      <td>CT21-AR-02</td>\n",
              "      <td>1348720315862552580</td>\n",
              "      <td>0.971544</td>\n",
              "      <td>Model_1</td>\n",
              "    </tr>\n",
              "    <tr>\n",
              "      <th>597</th>\n",
              "      <td>CT21-AR-02</td>\n",
              "      <td>1348731441933398017</td>\n",
              "      <td>0.005237</td>\n",
              "      <td>Model_1</td>\n",
              "    </tr>\n",
              "    <tr>\n",
              "      <th>598</th>\n",
              "      <td>CT21-AR-02</td>\n",
              "      <td>1348747097236004866</td>\n",
              "      <td>0.984780</td>\n",
              "      <td>Model_1</td>\n",
              "    </tr>\n",
              "    <tr>\n",
              "      <th>599</th>\n",
              "      <td>CT21-AR-02</td>\n",
              "      <td>1348747484328316936</td>\n",
              "      <td>0.983435</td>\n",
              "      <td>Model_1</td>\n",
              "    </tr>\n",
              "  </tbody>\n",
              "</table>\n",
              "<p>600 rows × 4 columns</p>\n",
              "</div>"
            ],
            "text/plain": [
              "              0                    1         2        3\n",
              "0    CT21-AR-01  1345895983629086720  0.878712  Model_1\n",
              "1    CT21-AR-01  1345983974712238080  0.001953  Model_1\n",
              "2    CT21-AR-01  1346084576305836032  0.001647  Model_1\n",
              "3    CT21-AR-01  1346144307309375495  0.009589  Model_1\n",
              "4    CT21-AR-01  1346148004089225222  0.001831  Model_1\n",
              "..          ...                  ...       ...      ...\n",
              "595  CT21-AR-02  1348683214148263938  0.007370  Model_1\n",
              "596  CT21-AR-02  1348720315862552580  0.971544  Model_1\n",
              "597  CT21-AR-02  1348731441933398017  0.005237  Model_1\n",
              "598  CT21-AR-02  1348747097236004866  0.984780  Model_1\n",
              "599  CT21-AR-02  1348747484328316936  0.983435  Model_1\n",
              "\n",
              "[600 rows x 4 columns]"
            ]
          },
          "metadata": {
            "tags": []
          },
          "execution_count": 25
        }
      ]
    },
    {
      "cell_type": "code",
      "metadata": {
        "id": "RGN43zGVDVU0"
      },
      "source": [
        "final=sub_arabertv01.copy()"
      ],
      "execution_count": null,
      "outputs": []
    },
    {
      "cell_type": "code",
      "metadata": {
        "colab": {
          "base_uri": "https://localhost:8080/",
          "height": 424
        },
        "id": "2woAVokxHyCa",
        "outputId": "52eb3409-a213-47d6-bf69-c82c260fa026"
      },
      "source": [
        "final"
      ],
      "execution_count": null,
      "outputs": [
        {
          "output_type": "execute_result",
          "data": {
            "text/html": [
              "<div>\n",
              "<style scoped>\n",
              "    .dataframe tbody tr th:only-of-type {\n",
              "        vertical-align: middle;\n",
              "    }\n",
              "\n",
              "    .dataframe tbody tr th {\n",
              "        vertical-align: top;\n",
              "    }\n",
              "\n",
              "    .dataframe thead th {\n",
              "        text-align: right;\n",
              "    }\n",
              "</style>\n",
              "<table border=\"1\" class=\"dataframe\">\n",
              "  <thead>\n",
              "    <tr style=\"text-align: right;\">\n",
              "      <th></th>\n",
              "      <th>0</th>\n",
              "      <th>1</th>\n",
              "      <th>2</th>\n",
              "      <th>3</th>\n",
              "    </tr>\n",
              "  </thead>\n",
              "  <tbody>\n",
              "    <tr>\n",
              "      <th>0</th>\n",
              "      <td>CT21-AR-01</td>\n",
              "      <td>1345895983629086720</td>\n",
              "      <td>0.878712</td>\n",
              "      <td>Model_1</td>\n",
              "    </tr>\n",
              "    <tr>\n",
              "      <th>1</th>\n",
              "      <td>CT21-AR-01</td>\n",
              "      <td>1345983974712238080</td>\n",
              "      <td>0.001953</td>\n",
              "      <td>Model_1</td>\n",
              "    </tr>\n",
              "    <tr>\n",
              "      <th>2</th>\n",
              "      <td>CT21-AR-01</td>\n",
              "      <td>1346084576305836032</td>\n",
              "      <td>0.001647</td>\n",
              "      <td>Model_1</td>\n",
              "    </tr>\n",
              "    <tr>\n",
              "      <th>3</th>\n",
              "      <td>CT21-AR-01</td>\n",
              "      <td>1346144307309375495</td>\n",
              "      <td>0.009589</td>\n",
              "      <td>Model_1</td>\n",
              "    </tr>\n",
              "    <tr>\n",
              "      <th>4</th>\n",
              "      <td>CT21-AR-01</td>\n",
              "      <td>1346148004089225222</td>\n",
              "      <td>0.001831</td>\n",
              "      <td>Model_1</td>\n",
              "    </tr>\n",
              "    <tr>\n",
              "      <th>...</th>\n",
              "      <td>...</td>\n",
              "      <td>...</td>\n",
              "      <td>...</td>\n",
              "      <td>...</td>\n",
              "    </tr>\n",
              "    <tr>\n",
              "      <th>595</th>\n",
              "      <td>CT21-AR-02</td>\n",
              "      <td>1348683214148263938</td>\n",
              "      <td>0.007370</td>\n",
              "      <td>Model_1</td>\n",
              "    </tr>\n",
              "    <tr>\n",
              "      <th>596</th>\n",
              "      <td>CT21-AR-02</td>\n",
              "      <td>1348720315862552580</td>\n",
              "      <td>0.971544</td>\n",
              "      <td>Model_1</td>\n",
              "    </tr>\n",
              "    <tr>\n",
              "      <th>597</th>\n",
              "      <td>CT21-AR-02</td>\n",
              "      <td>1348731441933398017</td>\n",
              "      <td>0.005237</td>\n",
              "      <td>Model_1</td>\n",
              "    </tr>\n",
              "    <tr>\n",
              "      <th>598</th>\n",
              "      <td>CT21-AR-02</td>\n",
              "      <td>1348747097236004866</td>\n",
              "      <td>0.984780</td>\n",
              "      <td>Model_1</td>\n",
              "    </tr>\n",
              "    <tr>\n",
              "      <th>599</th>\n",
              "      <td>CT21-AR-02</td>\n",
              "      <td>1348747484328316936</td>\n",
              "      <td>0.983435</td>\n",
              "      <td>Model_1</td>\n",
              "    </tr>\n",
              "  </tbody>\n",
              "</table>\n",
              "<p>600 rows × 4 columns</p>\n",
              "</div>"
            ],
            "text/plain": [
              "              0                    1         2        3\n",
              "0    CT21-AR-01  1345895983629086720  0.878712  Model_1\n",
              "1    CT21-AR-01  1345983974712238080  0.001953  Model_1\n",
              "2    CT21-AR-01  1346084576305836032  0.001647  Model_1\n",
              "3    CT21-AR-01  1346144307309375495  0.009589  Model_1\n",
              "4    CT21-AR-01  1346148004089225222  0.001831  Model_1\n",
              "..          ...                  ...       ...      ...\n",
              "595  CT21-AR-02  1348683214148263938  0.007370  Model_1\n",
              "596  CT21-AR-02  1348720315862552580  0.971544  Model_1\n",
              "597  CT21-AR-02  1348731441933398017  0.005237  Model_1\n",
              "598  CT21-AR-02  1348747097236004866  0.984780  Model_1\n",
              "599  CT21-AR-02  1348747484328316936  0.983435  Model_1\n",
              "\n",
              "[600 rows x 4 columns]"
            ]
          },
          "metadata": {
            "tags": []
          },
          "execution_count": 27
        }
      ]
    },
    {
      "cell_type": "code",
      "metadata": {
        "id": "kmNP_eglDZBM"
      },
      "source": [
        "final[2]=sub_Bert_base_arabic[2]*0.5+sub_arabertv01[2]*0.5"
      ],
      "execution_count": null,
      "outputs": []
    },
    {
      "cell_type": "code",
      "metadata": {
        "colab": {
          "base_uri": "https://localhost:8080/",
          "height": 424
        },
        "id": "z2NfRM-qKqw4",
        "outputId": "7f188e9e-e461-47f9-9726-f8f9d89c1b8f"
      },
      "source": [
        "final"
      ],
      "execution_count": null,
      "outputs": [
        {
          "output_type": "execute_result",
          "data": {
            "text/html": [
              "<div>\n",
              "<style scoped>\n",
              "    .dataframe tbody tr th:only-of-type {\n",
              "        vertical-align: middle;\n",
              "    }\n",
              "\n",
              "    .dataframe tbody tr th {\n",
              "        vertical-align: top;\n",
              "    }\n",
              "\n",
              "    .dataframe thead th {\n",
              "        text-align: right;\n",
              "    }\n",
              "</style>\n",
              "<table border=\"1\" class=\"dataframe\">\n",
              "  <thead>\n",
              "    <tr style=\"text-align: right;\">\n",
              "      <th></th>\n",
              "      <th>0</th>\n",
              "      <th>1</th>\n",
              "      <th>2</th>\n",
              "      <th>3</th>\n",
              "    </tr>\n",
              "  </thead>\n",
              "  <tbody>\n",
              "    <tr>\n",
              "      <th>0</th>\n",
              "      <td>CT21-AR-01</td>\n",
              "      <td>1345895983629086720</td>\n",
              "      <td>0.478625</td>\n",
              "      <td>Model_1</td>\n",
              "    </tr>\n",
              "    <tr>\n",
              "      <th>1</th>\n",
              "      <td>CT21-AR-01</td>\n",
              "      <td>1345983974712238080</td>\n",
              "      <td>0.028192</td>\n",
              "      <td>Model_1</td>\n",
              "    </tr>\n",
              "    <tr>\n",
              "      <th>2</th>\n",
              "      <td>CT21-AR-01</td>\n",
              "      <td>1346084576305836032</td>\n",
              "      <td>0.013285</td>\n",
              "      <td>Model_1</td>\n",
              "    </tr>\n",
              "    <tr>\n",
              "      <th>3</th>\n",
              "      <td>CT21-AR-01</td>\n",
              "      <td>1346144307309375495</td>\n",
              "      <td>0.050066</td>\n",
              "      <td>Model_1</td>\n",
              "    </tr>\n",
              "    <tr>\n",
              "      <th>4</th>\n",
              "      <td>CT21-AR-01</td>\n",
              "      <td>1346148004089225222</td>\n",
              "      <td>0.009746</td>\n",
              "      <td>Model_1</td>\n",
              "    </tr>\n",
              "    <tr>\n",
              "      <th>...</th>\n",
              "      <td>...</td>\n",
              "      <td>...</td>\n",
              "      <td>...</td>\n",
              "      <td>...</td>\n",
              "    </tr>\n",
              "    <tr>\n",
              "      <th>595</th>\n",
              "      <td>CT21-AR-02</td>\n",
              "      <td>1348683214148263938</td>\n",
              "      <td>0.251647</td>\n",
              "      <td>Model_1</td>\n",
              "    </tr>\n",
              "    <tr>\n",
              "      <th>596</th>\n",
              "      <td>CT21-AR-02</td>\n",
              "      <td>1348720315862552580</td>\n",
              "      <td>0.797872</td>\n",
              "      <td>Model_1</td>\n",
              "    </tr>\n",
              "    <tr>\n",
              "      <th>597</th>\n",
              "      <td>CT21-AR-02</td>\n",
              "      <td>1348731441933398017</td>\n",
              "      <td>0.020094</td>\n",
              "      <td>Model_1</td>\n",
              "    </tr>\n",
              "    <tr>\n",
              "      <th>598</th>\n",
              "      <td>CT21-AR-02</td>\n",
              "      <td>1348747097236004866</td>\n",
              "      <td>0.945173</td>\n",
              "      <td>Model_1</td>\n",
              "    </tr>\n",
              "    <tr>\n",
              "      <th>599</th>\n",
              "      <td>CT21-AR-02</td>\n",
              "      <td>1348747484328316936</td>\n",
              "      <td>0.896494</td>\n",
              "      <td>Model_1</td>\n",
              "    </tr>\n",
              "  </tbody>\n",
              "</table>\n",
              "<p>600 rows × 4 columns</p>\n",
              "</div>"
            ],
            "text/plain": [
              "              0                    1         2        3\n",
              "0    CT21-AR-01  1345895983629086720  0.478625  Model_1\n",
              "1    CT21-AR-01  1345983974712238080  0.028192  Model_1\n",
              "2    CT21-AR-01  1346084576305836032  0.013285  Model_1\n",
              "3    CT21-AR-01  1346144307309375495  0.050066  Model_1\n",
              "4    CT21-AR-01  1346148004089225222  0.009746  Model_1\n",
              "..          ...                  ...       ...      ...\n",
              "595  CT21-AR-02  1348683214148263938  0.251647  Model_1\n",
              "596  CT21-AR-02  1348720315862552580  0.797872  Model_1\n",
              "597  CT21-AR-02  1348731441933398017  0.020094  Model_1\n",
              "598  CT21-AR-02  1348747097236004866  0.945173  Model_1\n",
              "599  CT21-AR-02  1348747484328316936  0.896494  Model_1\n",
              "\n",
              "[600 rows x 4 columns]"
            ]
          },
          "metadata": {
            "tags": []
          },
          "execution_count": 29
        }
      ]
    },
    {
      "cell_type": "code",
      "metadata": {
        "id": "9PJCJ23qDlzB"
      },
      "source": [
        "final.to_csv('FinalEnsemeble.tsv',sep='\\t',index=False,header=None)"
      ],
      "execution_count": null,
      "outputs": []
    },
    {
      "cell_type": "code",
      "metadata": {
        "id": "qPgd8sw6JPHI",
        "colab": {
          "base_uri": "https://localhost:8080/"
        },
        "outputId": "f5941375-1f7f-42b3-f124-1243f4d1e2d5"
      },
      "source": [
        "!git clone https://gitlab.com/checkthat_lab/clef2021-checkthat-lab.git"
      ],
      "execution_count": null,
      "outputs": [
        {
          "output_type": "stream",
          "text": [
            "Cloning into 'clef2021-checkthat-lab'...\n",
            "remote: Enumerating objects: 493, done.\u001b[K\n",
            "remote: Counting objects: 100% (493/493), done.\u001b[K\n",
            "remote: Compressing objects: 100% (241/241), done.\u001b[K\n",
            "remote: Total 594 (delta 261), reused 452 (delta 238), pack-reused 101\u001b[K\n",
            "Receiving objects: 100% (594/594), 28.93 MiB | 33.74 MiB/s, done.\n",
            "Resolving deltas: 100% (301/301), done.\n"
          ],
          "name": "stdout"
        }
      ]
    },
    {
      "cell_type": "code",
      "metadata": {
        "id": "TZav6YqAHlJ_",
        "colab": {
          "base_uri": "https://localhost:8080/"
        },
        "outputId": "3dea9c94-790a-4dbf-c041-393977a638b2"
      },
      "source": [
        "%cd /content/clef2021-checkthat-lab/task1/format_checker"
      ],
      "execution_count": null,
      "outputs": [
        {
          "output_type": "stream",
          "text": [
            "/content/clef2021-checkthat-lab/task1/format_checker\n"
          ],
          "name": "stdout"
        }
      ]
    },
    {
      "cell_type": "code",
      "metadata": {
        "colab": {
          "base_uri": "https://localhost:8080/"
        },
        "id": "zCLNzIW8PkW1",
        "outputId": "325b4047-c969-44db-ae14-77b706c41c54"
      },
      "source": [
        "!python3 subtask_1a.py --pred-files-path=FinalEnsemeble.tsv"
      ],
      "execution_count": null,
      "outputs": [
        {
          "output_type": "stream",
          "text": [
            "INFO : Subtask 1A: Checking file: FinalEnsemeble.tsv\n",
            "c bon\n"
          ],
          "name": "stdout"
        }
      ]
    },
    {
      "cell_type": "code",
      "metadata": {
        "id": "nI1tfIXMQmer"
      },
      "source": [
        ""
      ],
      "execution_count": null,
      "outputs": []
    }
  ]
}