{
  "nbformat": 4,
  "nbformat_minor": 0,
  "metadata": {
    "accelerator": "GPU",
    "colab": {
      "name": "Copy of AraBERT  Clef2021 CheckWorthinessArabic-pipline .ipynb",
      "provenance": [],
      "collapsed_sections": [],
      "toc_visible": true
    },
    "kernelspec": {
      "display_name": "Python 3",
      "name": "python3"
    },
    "language_info": {
      "name": "python"
    }
  },
  "cells": [
    {
      "cell_type": "code",
      "metadata": {
        "id": "cI69UHcjVWxy"
      },
      "source": [
        "#!git clone https://gitlab.com/checkthat_lab/clef2021-checkthat-lab.git"
      ],
      "execution_count": null,
      "outputs": []
    },
    {
      "cell_type": "code",
      "metadata": {
        "id": "oMDRf7NXWEAy"
      },
      "source": [
        "#%cd /content/clef2021-checkthat-lab/task1/data/subtask-1a--arabic/train"
      ],
      "execution_count": null,
      "outputs": []
    },
    {
      "cell_type": "code",
      "metadata": {
        "id": "WrmVVZ78WGEN"
      },
      "source": [
        "#!unzip CT21-AR-Train-T1-v2.zip"
      ],
      "execution_count": null,
      "outputs": []
    },
    {
      "cell_type": "code",
      "metadata": {
        "id": "ynnRv13LWx_p"
      },
      "source": [
        "import logging\n",
        "logging.basicConfig(level=logging.ERROR)"
      ],
      "execution_count": null,
      "outputs": []
    },
    {
      "cell_type": "code",
      "metadata": {
        "colab": {
          "base_uri": "https://localhost:8080/"
        },
        "id": "PngUgd2gEpNh",
        "outputId": "0a4df759-1da5-4d57-b943-aa130a4c098f"
      },
      "source": [
        "!pip install pyarabic"
      ],
      "execution_count": null,
      "outputs": [
        {
          "output_type": "stream",
          "text": [
            "Requirement already satisfied: pyarabic in /usr/local/lib/python3.7/dist-packages (0.6.10)\n"
          ],
          "name": "stdout"
        }
      ]
    },
    {
      "cell_type": "code",
      "metadata": {
        "colab": {
          "base_uri": "https://localhost:8080/"
        },
        "id": "KYiJrjcKwNvd",
        "outputId": "1d4602e2-2986-4211-c36a-e4a7545e43b8"
      },
      "source": [
        "!pip install transformers==3"
      ],
      "execution_count": null,
      "outputs": [
        {
          "output_type": "stream",
          "text": [
            "Requirement already satisfied: transformers==3 in /usr/local/lib/python3.7/dist-packages (3.0.0)\n",
            "Requirement already satisfied: sacremoses in /usr/local/lib/python3.7/dist-packages (from transformers==3) (0.0.45)\n",
            "Requirement already satisfied: filelock in /usr/local/lib/python3.7/dist-packages (from transformers==3) (3.0.12)\n",
            "Requirement already satisfied: tqdm>=4.27 in /usr/local/lib/python3.7/dist-packages (from transformers==3) (4.41.1)\n",
            "Requirement already satisfied: tokenizers==0.8.0-rc4 in /usr/local/lib/python3.7/dist-packages (from transformers==3) (0.8.0rc4)\n",
            "Requirement already satisfied: numpy in /usr/local/lib/python3.7/dist-packages (from transformers==3) (1.19.5)\n",
            "Requirement already satisfied: sentencepiece in /usr/local/lib/python3.7/dist-packages (from transformers==3) (0.1.95)\n",
            "Requirement already satisfied: packaging in /usr/local/lib/python3.7/dist-packages (from transformers==3) (20.9)\n",
            "Requirement already satisfied: requests in /usr/local/lib/python3.7/dist-packages (from transformers==3) (2.23.0)\n",
            "Requirement already satisfied: regex!=2019.12.17 in /usr/local/lib/python3.7/dist-packages (from transformers==3) (2019.12.20)\n",
            "Requirement already satisfied: joblib in /usr/local/lib/python3.7/dist-packages (from sacremoses->transformers==3) (1.0.1)\n",
            "Requirement already satisfied: click in /usr/local/lib/python3.7/dist-packages (from sacremoses->transformers==3) (7.1.2)\n",
            "Requirement already satisfied: six in /usr/local/lib/python3.7/dist-packages (from sacremoses->transformers==3) (1.15.0)\n",
            "Requirement already satisfied: pyparsing>=2.0.2 in /usr/local/lib/python3.7/dist-packages (from packaging->transformers==3) (2.4.7)\n",
            "Requirement already satisfied: idna<3,>=2.5 in /usr/local/lib/python3.7/dist-packages (from requests->transformers==3) (2.10)\n",
            "Requirement already satisfied: certifi>=2017.4.17 in /usr/local/lib/python3.7/dist-packages (from requests->transformers==3) (2020.12.5)\n",
            "Requirement already satisfied: urllib3!=1.25.0,!=1.25.1,<1.26,>=1.21.1 in /usr/local/lib/python3.7/dist-packages (from requests->transformers==3) (1.24.3)\n",
            "Requirement already satisfied: chardet<4,>=3.0.2 in /usr/local/lib/python3.7/dist-packages (from requests->transformers==3) (3.0.4)\n"
          ],
          "name": "stdout"
        }
      ]
    },
    {
      "cell_type": "code",
      "metadata": {
        "id": "NOZta45avwT_"
      },
      "source": [
        "import transformers\n",
        "from transformers import BertModel, BertTokenizer, AdamW, get_linear_schedule_with_warmup\n",
        "\n",
        "import torch\n",
        "from torch import nn, optim\n",
        "from torch.utils.data import Dataset, DataLoader\n",
        "import torch.nn.functional as F\n",
        "\n",
        "\n",
        "import numpy as np\n",
        "import pandas as pd\n",
        "import seaborn as sns\n",
        "from pylab import rcParams\n",
        "import matplotlib.pyplot as plt\n",
        "from matplotlib import rc\n",
        "\n",
        "\n",
        "from sklearn.model_selection import train_test_split\n",
        "from sklearn.preprocessing import LabelEncoder\n",
        "from sklearn.metrics import confusion_matrix, classification_report\n",
        "from collections import defaultdict\n",
        "from textwrap import wrap\n",
        "\n",
        "from tqdm import tqdm\n",
        "import random\n",
        "import os\n",
        "\n",
        "\n",
        "%matplotlib inline\n",
        "%config InlineBackend.figure_format='retina'\n",
        "\n",
        "sns.set(style='whitegrid', palette='muted', font_scale=1.2)\n",
        "HAPPY_COLORS_PALETTE = [\"#01BEFE\", \"#FFDD00\", \"#FF7D00\", \"#FF006D\", \"#ADFF02\", \"#8F00FF\"]\n",
        "\n",
        "sns.set_palette(sns.color_palette(HAPPY_COLORS_PALETTE))\n",
        "rcParams['figure.figsize'] = 12, 8\n",
        "\n",
        "RANDOM_SEED = 23\n",
        "np.random.seed(RANDOM_SEED)\n",
        "\n",
        "torch.manual_seed(RANDOM_SEED)\n",
        "device = torch.device(\"cuda:0\" if torch.cuda.is_available() else \"cpu\")"
      ],
      "execution_count": null,
      "outputs": []
    },
    {
      "cell_type": "code",
      "metadata": {
        "id": "odbgap3m-mNv"
      },
      "source": [
        "def set_seed(seed):\n",
        "    torch.manual_seed(seed)\n",
        "    torch.cuda.manual_seed_all(seed)\n",
        "    torch.backends.cudnn.deterministic = True\n",
        "    torch.backends.cudnn.benchmark = False\n",
        "    torch.backends.cudnn.enabled = False \n",
        "    torch.cuda.manual_seed(seed)\n",
        "    torch.cuda.manual_seed_all(seed)\n",
        "    np.random.seed(seed)\n",
        "    random.seed(seed)\n",
        "    os.environ['PYTHONHASHSEED'] = str(seed)"
      ],
      "execution_count": null,
      "outputs": []
    },
    {
      "cell_type": "code",
      "metadata": {
        "id": "qtsVeSvy-mCD"
      },
      "source": [
        "set_seed(66)"
      ],
      "execution_count": null,
      "outputs": []
    },
    {
      "cell_type": "code",
      "metadata": {
        "id": "8O3mLjjfWThJ"
      },
      "source": [
        "data = pd.read_csv('/content/clef2021-checkthat-lab/task1/data/subtask-1a--arabic/train/CT21-AR-Train-T1-Labels.tsv',sep='\\t',error_bad_lines=False)"
      ],
      "execution_count": null,
      "outputs": []
    },
    {
      "cell_type": "code",
      "metadata": {
        "id": "OjVoccNS48P2"
      },
      "source": [
        "#data = df[df['claim']==1]"
      ],
      "execution_count": null,
      "outputs": []
    },
    {
      "cell_type": "code",
      "metadata": {
        "id": "iO4Ibe0C5GxF"
      },
      "source": [
        "#data.reset_index()"
      ],
      "execution_count": null,
      "outputs": []
    },
    {
      "cell_type": "code",
      "metadata": {
        "id": "tD4kyCNpmWoz"
      },
      "source": [
        "#dev = pd.read_csv('/content/clef2021-checkthat-lab/task1/data/subtask-1a--arabic/train/CT21-AR-Dev-T1-Labels.tsv',sep='\\t',error_bad_lines=False)\n",
        "dev = pd.read_csv('/content/clef2021-checkthat-lab/task1/scorer/CT21-AR-Dev-T1-Labels.tsv',sep='\\t',error_bad_lines=False)\n"
      ],
      "execution_count": null,
      "outputs": []
    },
    {
      "cell_type": "code",
      "metadata": {
        "colab": {
          "base_uri": "https://localhost:8080/",
          "height": 632
        },
        "id": "BFrb6M4nmli5",
        "outputId": "97aaec0a-a715-4333-c8a5-b5448060fca5"
      },
      "source": [
        "dev"
      ],
      "execution_count": null,
      "outputs": [
        {
          "output_type": "execute_result",
          "data": {
            "text/html": [
              "<div>\n",
              "<style scoped>\n",
              "    .dataframe tbody tr th:only-of-type {\n",
              "        vertical-align: middle;\n",
              "    }\n",
              "\n",
              "    .dataframe tbody tr th {\n",
              "        vertical-align: top;\n",
              "    }\n",
              "\n",
              "    .dataframe thead th {\n",
              "        text-align: right;\n",
              "    }\n",
              "</style>\n",
              "<table border=\"1\" class=\"dataframe\">\n",
              "  <thead>\n",
              "    <tr style=\"text-align: right;\">\n",
              "      <th></th>\n",
              "      <th>topic_id</th>\n",
              "      <th>tweet_id</th>\n",
              "      <th>tweet_url</th>\n",
              "      <th>tweet_text</th>\n",
              "      <th>claim</th>\n",
              "      <th>claim_worthiness</th>\n",
              "    </tr>\n",
              "  </thead>\n",
              "  <tbody>\n",
              "    <tr>\n",
              "      <th>0</th>\n",
              "      <td>CT20-AR-02</td>\n",
              "      <td>1221223213583294470</td>\n",
              "      <td>https://twitter.com/user/status/12212232135832...</td>\n",
              "      <td>باقي هذا المجرم الجبار المتكبر وابنائه الجبابر...</td>\n",
              "      <td>1</td>\n",
              "      <td>0</td>\n",
              "    </tr>\n",
              "    <tr>\n",
              "      <th>1</th>\n",
              "      <td>CT20-AR-02</td>\n",
              "      <td>1221224671208755211</td>\n",
              "      <td>https://twitter.com/user/status/12212246712087...</td>\n",
              "      <td>الان عودة الاشتباكات العنيفه في نهم والجيش الو...</td>\n",
              "      <td>1</td>\n",
              "      <td>1</td>\n",
              "    </tr>\n",
              "    <tr>\n",
              "      <th>2</th>\n",
              "      <td>CT20-AR-02</td>\n",
              "      <td>1221226319243108353</td>\n",
              "      <td>https://twitter.com/user/status/12212263192431...</td>\n",
              "      <td>الوية العمالقة تعلن النفير العام للاستعداد لاق...</td>\n",
              "      <td>0</td>\n",
              "      <td>0</td>\n",
              "    </tr>\n",
              "    <tr>\n",
              "      <th>3</th>\n",
              "      <td>CT20-AR-02</td>\n",
              "      <td>1221243369348902912</td>\n",
              "      <td>https://twitter.com/user/status/12212433693489...</td>\n",
              "      <td>في الاسواق-اغاني جديده : الحوثيين راح يفبركون ...</td>\n",
              "      <td>1</td>\n",
              "      <td>0</td>\n",
              "    </tr>\n",
              "    <tr>\n",
              "      <th>4</th>\n",
              "      <td>CT20-AR-02</td>\n",
              "      <td>1221253458394779649</td>\n",
              "      <td>https://twitter.com/user/status/12212534583947...</td>\n",
              "      <td>#السعودية و #الإمارات من محرريين لليمن إلى احت...</td>\n",
              "      <td>1</td>\n",
              "      <td>0</td>\n",
              "    </tr>\n",
              "    <tr>\n",
              "      <th>...</th>\n",
              "      <td>...</td>\n",
              "      <td>...</td>\n",
              "      <td>...</td>\n",
              "      <td>...</td>\n",
              "      <td>...</td>\n",
              "      <td>...</td>\n",
              "    </tr>\n",
              "    <tr>\n",
              "      <th>656</th>\n",
              "      <td>CT20-AR-27</td>\n",
              "      <td>1233386563331121153</td>\n",
              "      <td>https://twitter.com/user/status/12333865633311...</td>\n",
              "      <td>الدكتور عبد الرزاق مقري: التيار العلماني المبي...</td>\n",
              "      <td>1</td>\n",
              "      <td>1</td>\n",
              "    </tr>\n",
              "    <tr>\n",
              "      <th>657</th>\n",
              "      <td>CT20-AR-27</td>\n",
              "      <td>1233403769016242176</td>\n",
              "      <td>https://twitter.com/user/status/12334037690162...</td>\n",
              "      <td>#الجمعة_54 حيا الله الأحرار.... جمعة قوية في م...</td>\n",
              "      <td>1</td>\n",
              "      <td>1</td>\n",
              "    </tr>\n",
              "    <tr>\n",
              "      <th>658</th>\n",
              "      <td>CT20-AR-27</td>\n",
              "      <td>1233404098751475712</td>\n",
              "      <td>https://twitter.com/user/status/12334040987514...</td>\n",
              "      <td># 28 فبراير 2020. #الجمعة_54 من الحراك.. # الث...</td>\n",
              "      <td>0</td>\n",
              "      <td>0</td>\n",
              "    </tr>\n",
              "    <tr>\n",
              "      <th>659</th>\n",
              "      <td>CT20-AR-27</td>\n",
              "      <td>1233406731562225665</td>\n",
              "      <td>https://twitter.com/user/status/12334067315622...</td>\n",
              "      <td>شركة المراعي السعودية العالمية بمنتجات ذات جود...</td>\n",
              "      <td>1</td>\n",
              "      <td>1</td>\n",
              "    </tr>\n",
              "    <tr>\n",
              "      <th>660</th>\n",
              "      <td>CT20-AR-27</td>\n",
              "      <td>1233493627357278210</td>\n",
              "      <td>https://twitter.com/user/status/12334936273572...</td>\n",
              "      <td>#كورونا يتصدّر شعارات المحتجين اليوم في حراك #...</td>\n",
              "      <td>1</td>\n",
              "      <td>1</td>\n",
              "    </tr>\n",
              "  </tbody>\n",
              "</table>\n",
              "<p>661 rows × 6 columns</p>\n",
              "</div>"
            ],
            "text/plain": [
              "       topic_id             tweet_id  ... claim claim_worthiness\n",
              "0    CT20-AR-02  1221223213583294470  ...     1                0\n",
              "1    CT20-AR-02  1221224671208755211  ...     1                1\n",
              "2    CT20-AR-02  1221226319243108353  ...     0                0\n",
              "3    CT20-AR-02  1221243369348902912  ...     1                0\n",
              "4    CT20-AR-02  1221253458394779649  ...     1                0\n",
              "..          ...                  ...  ...   ...              ...\n",
              "656  CT20-AR-27  1233386563331121153  ...     1                1\n",
              "657  CT20-AR-27  1233403769016242176  ...     1                1\n",
              "658  CT20-AR-27  1233404098751475712  ...     0                0\n",
              "659  CT20-AR-27  1233406731562225665  ...     1                1\n",
              "660  CT20-AR-27  1233493627357278210  ...     1                1\n",
              "\n",
              "[661 rows x 6 columns]"
            ]
          },
          "metadata": {
            "tags": []
          },
          "execution_count": 15
        }
      ]
    },
    {
      "cell_type": "code",
      "metadata": {
        "colab": {
          "base_uri": "https://localhost:8080/",
          "height": 525
        },
        "id": "8uRsjD74-uXQ",
        "outputId": "a5f0249e-d38e-4430-c474-dd363c67c7e3"
      },
      "source": [
        "sns.countplot(data=data,x=\"claim_worthiness\")"
      ],
      "execution_count": null,
      "outputs": [
        {
          "output_type": "execute_result",
          "data": {
            "text/plain": [
              "<matplotlib.axes._subplots.AxesSubplot at 0x7f81ef3f98d0>"
            ]
          },
          "metadata": {
            "tags": []
          },
          "execution_count": 16
        },
        {
          "output_type": "display_data",
          "data": {
            "image/png": "[encoded data removed]",
            "text/plain": [
              "<Figure size 864x576 with 1 Axes>"
            ]
          },
          "metadata": {
            "tags": [],
            "image/png": {
              "width": 745,
              "height": 490
            }
          }
        }
      ]
    },
    {
      "cell_type": "code",
      "metadata": {
        "colab": {
          "base_uri": "https://localhost:8080/"
        },
        "id": "USGxH-CY-iEu",
        "outputId": "994cb2f6-cc07-4d57-9598-fa8096cb565d"
      },
      "source": [
        "data.topic_id.unique()"
      ],
      "execution_count": null,
      "outputs": [
        {
          "output_type": "execute_result",
          "data": {
            "text/plain": [
              "array(['CT20-AR-01', 'CT20-AR-03', 'CT20-AR-08', 'CT20-AR-12',\n",
              "       'CT20-AR-14', 'CT20-AR-23', 'CT20-AR-28_w1', 'CT20-AR-28_w2',\n",
              "       'CT20-AR-29', 'CT20-AR-30'], dtype=object)"
            ]
          },
          "metadata": {
            "tags": []
          },
          "execution_count": 17
        }
      ]
    },
    {
      "cell_type": "code",
      "metadata": {
        "colab": {
          "base_uri": "https://localhost:8080/",
          "height": 525
        },
        "id": "v5MI6Bvc-5W0",
        "outputId": "39c13ff5-7813-4bd4-bae7-115b8a960507"
      },
      "source": [
        "sns.countplot(data=data,x=\"claim_worthiness\",hue=\"topic_id\")"
      ],
      "execution_count": null,
      "outputs": [
        {
          "output_type": "execute_result",
          "data": {
            "text/plain": [
              "<matplotlib.axes._subplots.AxesSubplot at 0x7f81ef2ac450>"
            ]
          },
          "metadata": {
            "tags": []
          },
          "execution_count": 18
        },
        {
          "output_type": "display_data",
          "data": {
            "image/png": "[encoded data removed]",
            "text/plain": [
              "<Figure size 864x576 with 1 Axes>"
            ]
          },
          "metadata": {
            "tags": [],
            "image/png": {
              "width": 736,
              "height": 490
            }
          }
        }
      ]
    },
    {
      "cell_type": "code",
      "metadata": {
        "colab": {
          "base_uri": "https://localhost:8080/",
          "height": 525
        },
        "id": "KLbbk_wUnV2h",
        "outputId": "7555d597-9da9-4da6-8889-0b7b920fbb44"
      },
      "source": [
        "sns.countplot(data=dev,x=\"claim_worthiness\",hue=\"topic_id\")"
      ],
      "execution_count": null,
      "outputs": [
        {
          "output_type": "execute_result",
          "data": {
            "text/plain": [
              "<matplotlib.axes._subplots.AxesSubplot at 0x7f81eeda4190>"
            ]
          },
          "metadata": {
            "tags": []
          },
          "execution_count": 19
        },
        {
          "output_type": "display_data",
          "data": {
            "image/png": "[encoded data removed]",
            "text/plain": [
              "<Figure size 864x576 with 1 Axes>"
            ]
          },
          "metadata": {
            "tags": [],
            "image/png": {
              "width": 736,
              "height": 490
            }
          }
        }
      ]
    },
    {
      "cell_type": "code",
      "metadata": {
        "id": "4k0QZ7-9yO_7"
      },
      "source": [
        "data = data.sample(frac=1).reset_index(drop=True)"
      ],
      "execution_count": null,
      "outputs": []
    },
    {
      "cell_type": "code",
      "metadata": {
        "id": "nTUIM6DKDJPW"
      },
      "source": [
        "import re\n",
        "from os import listdir\n",
        "from os.path import isfile, join\n",
        "from pyarabic import araby\n",
        "\n",
        "'''def deEmojify(text):\n",
        "    regrex_pattern = re.compile(pattern = \"[\"\n",
        "        u\"\\U0001F600-\\U0001F64F\"  # emoticons\n",
        "        u\"\\U0001F300-\\U0001F5FF\"  # symbols & pictographs\n",
        "        u\"\\U0001F680-\\U0001F6FF\"  # transport & map symbols\n",
        "        u\"\\U0001F1E0-\\U0001F1FF\"  # flags (iOS)\n",
        "                           \"]+\", flags = re.UNICODE)\n",
        "    return regrex_pattern.sub(r'',text)\n",
        "'''\n",
        "\n",
        "def process(text):\n",
        "    text = araby.strip_tashkeel(text) #delete *tashkil\n",
        "    text = re.sub('\\ـ+', ' ', text)  # delete letter madda\n",
        "\n",
        "    '''text = re.sub('\\ر+', 'ر', text)  # duplicate ra2\n",
        "    text = re.sub('\\اا+','ا',text)     #duplicate alif\n",
        "    text = re.sub('\\ووو+','و',text)    #duplicate waw (more than 3 times goes to 1\n",
        "    text = re.sub('\\ههه+','ههه',text)  #duplicate ha2 (more than 3 times goes to 1\n",
        "    text = re.sub('\\ةة+','ة',text)\n",
        "    text = re.sub('\\ييي+','ي',text)\n",
        "    text = re.sub('أ','ا',text) # after to avoid mixing\n",
        "    text = re.sub('آ','ا',text) # after to avoid mixing\n",
        "    text = re.sub('إ','ا',text) # after to avoid mixing\n",
        "    text = re.sub('ة','ه',text) # after ةة to avoid mixing ههه\n",
        "    text = re.sub('ى','ي',text)'''\n",
        "    text = re.sub(\"^https?:\\/\\/.*[\\r\\n]*\", '', text, flags=re.MULTILINE)\n",
        "    '''    text = deEmojify(text)'''\n",
        "    #text = re.sub(\"^(@[A-Za-z0-9_]+)|([^0-9A-Za-z])\",\" \",text)\n",
        "\n",
        "    text = \" \".join(text.split()) #delete multispace\n",
        "    return text\n",
        "def remove_english(value):\n",
        "    output = re.sub(r'\\s*[A-Za-z0-9_]+\\b', '' , value)\n",
        "    results=re.sub(r'\\W', ' ', output, flags=re.UNICODE)\n",
        "    return results"
      ],
      "execution_count": null,
      "outputs": []
    },
    {
      "cell_type": "code",
      "metadata": {
        "id": "5cu6qmOyG03j"
      },
      "source": [
        "data[\"tweet_text\"]=data[\"tweet_text\"].apply(lambda x : remove_english(x))"
      ],
      "execution_count": null,
      "outputs": []
    },
    {
      "cell_type": "code",
      "metadata": {
        "id": "-csxultWFHq1"
      },
      "source": [
        "data[\"tweet_text\"]=data[\"tweet_text\"].apply(lambda x : process(x))\n",
        "data[\"tweet_text\"]=data[\"tweet_text\"].apply(lambda x : remove_english(x))"
      ],
      "execution_count": null,
      "outputs": []
    },
    {
      "cell_type": "code",
      "metadata": {
        "colab": {
          "base_uri": "https://localhost:8080/"
        },
        "id": "GFA-mV8lFZKg",
        "outputId": "5d04e3ec-32d1-4d3b-8beb-41be6b4f02c9"
      },
      "source": [
        "data.tweet_text"
      ],
      "execution_count": null,
      "outputs": [
        {
          "output_type": "execute_result",
          "data": {
            "text/plain": [
              "0       من تعليمات السلامة للوقاية من الكورونا الامتنا...\n",
              "1       وزارة الصحة تخبر الرأي العام أنه تم ليلة الأحد...\n",
              "2       ويهدد ويتوعد بهم كل خصومة ويرسل اشارت مشفرة لل...\n",
              "3       اشفق على ع يد النسويات الي يحسب انه بيشبكهم لي...\n",
              "4       كلنا_مسؤول البقاء في المنزل سلاحنا الأقوى بإذن...\n",
              "                              ...                        \n",
              "3434    انا سوداني وفعل برهان يمثلني ولو كنت محلو كان ...\n",
              "3435    شعور جدودنا وأهالينا في أيام مثل معاهدة وادي ع...\n",
              "3436    عاجل الصحه_العالمية لا توجد إصابات بين المصريي...\n",
              "3437    بموضوع قضية إن الراهبات بشر والبشر ي خط ئون وي...\n",
              "3438    النسويات الحقيقيات لازم يعادون هالعي نات اكثر ...\n",
              "Name: tweet_text, Length: 3439, dtype: object"
            ]
          },
          "metadata": {
            "tags": []
          },
          "execution_count": 24
        }
      ]
    },
    {
      "cell_type": "code",
      "metadata": {
        "id": "bupgk8lCFRC5"
      },
      "source": [
        "dev[\"tweet_text\"]=dev[\"tweet_text\"].apply(lambda x : process(x))\n",
        "dev[\"tweet_text\"]=dev[\"tweet_text\"].apply(lambda x : remove_english(x))"
      ],
      "execution_count": null,
      "outputs": []
    },
    {
      "cell_type": "code",
      "metadata": {
        "colab": {
          "base_uri": "https://localhost:8080/",
          "height": 771
        },
        "id": "MOKMc4r9GMYz",
        "outputId": "0ca2babe-d72f-46e0-8c23-9ca4b6bce078"
      },
      "source": [
        "data"
      ],
      "execution_count": null,
      "outputs": [
        {
          "output_type": "execute_result",
          "data": {
            "text/html": [
              "<div>\n",
              "<style scoped>\n",
              "    .dataframe tbody tr th:only-of-type {\n",
              "        vertical-align: middle;\n",
              "    }\n",
              "\n",
              "    .dataframe tbody tr th {\n",
              "        vertical-align: top;\n",
              "    }\n",
              "\n",
              "    .dataframe thead th {\n",
              "        text-align: right;\n",
              "    }\n",
              "</style>\n",
              "<table border=\"1\" class=\"dataframe\">\n",
              "  <thead>\n",
              "    <tr style=\"text-align: right;\">\n",
              "      <th></th>\n",
              "      <th>topic_id</th>\n",
              "      <th>tweet_id</th>\n",
              "      <th>tweet_url</th>\n",
              "      <th>tweet_text</th>\n",
              "      <th>claim</th>\n",
              "      <th>claim_worthiness</th>\n",
              "    </tr>\n",
              "  </thead>\n",
              "  <tbody>\n",
              "    <tr>\n",
              "      <th>0</th>\n",
              "      <td>CT20-AR-28_w1</td>\n",
              "      <td>1240397510809706496</td>\n",
              "      <td>https://twitter.com/user/status/12403975108097...</td>\n",
              "      <td>من تعليمات السلامة للوقاية من الكورونا الامتنا...</td>\n",
              "      <td>0</td>\n",
              "      <td>0</td>\n",
              "    </tr>\n",
              "    <tr>\n",
              "      <th>1</th>\n",
              "      <td>CT20-AR-28_w1</td>\n",
              "      <td>1239666059357179904</td>\n",
              "      <td>https://twitter.com/user/status/12396660593571...</td>\n",
              "      <td>وزارة الصحة تخبر الرأي العام أنه تم ليلة الأحد...</td>\n",
              "      <td>1</td>\n",
              "      <td>1</td>\n",
              "    </tr>\n",
              "    <tr>\n",
              "      <th>2</th>\n",
              "      <td>CT20-AR-14</td>\n",
              "      <td>1225766485097926656</td>\n",
              "      <td>https://twitter.com/user/status/12257664850979...</td>\n",
              "      <td>ويهدد ويتوعد بهم كل خصومة ويرسل اشارت مشفرة لل...</td>\n",
              "      <td>0</td>\n",
              "      <td>0</td>\n",
              "    </tr>\n",
              "    <tr>\n",
              "      <th>3</th>\n",
              "      <td>CT20-AR-08</td>\n",
              "      <td>1222606721409015808</td>\n",
              "      <td>https://twitter.com/user/status/12226067214090...</td>\n",
              "      <td>اشفق على ع يد النسويات الي يحسب انه بيشبكهم لي...</td>\n",
              "      <td>0</td>\n",
              "      <td>0</td>\n",
              "    </tr>\n",
              "    <tr>\n",
              "      <th>4</th>\n",
              "      <td>CT20-AR-28_w2</td>\n",
              "      <td>1242523522876006401</td>\n",
              "      <td>https://twitter.com/user/status/12425235228760...</td>\n",
              "      <td>كلنا_مسؤول البقاء في المنزل سلاحنا الأقوى بإذن...</td>\n",
              "      <td>0</td>\n",
              "      <td>0</td>\n",
              "    </tr>\n",
              "    <tr>\n",
              "      <th>...</th>\n",
              "      <td>...</td>\n",
              "      <td>...</td>\n",
              "      <td>...</td>\n",
              "      <td>...</td>\n",
              "      <td>...</td>\n",
              "      <td>...</td>\n",
              "    </tr>\n",
              "    <tr>\n",
              "      <th>3434</th>\n",
              "      <td>CT20-AR-12</td>\n",
              "      <td>1224867179222446080</td>\n",
              "      <td>https://twitter.com/user/status/12248671792224...</td>\n",
              "      <td>انا سوداني وفعل برهان يمثلني ولو كنت محلو كان ...</td>\n",
              "      <td>0</td>\n",
              "      <td>0</td>\n",
              "    </tr>\n",
              "    <tr>\n",
              "      <th>3435</th>\n",
              "      <td>CT20-AR-01</td>\n",
              "      <td>1222216404654608385</td>\n",
              "      <td>https://twitter.com/user/status/12222164046546...</td>\n",
              "      <td>شعور جدودنا وأهالينا في أيام مثل معاهدة وادي ع...</td>\n",
              "      <td>0</td>\n",
              "      <td>0</td>\n",
              "    </tr>\n",
              "    <tr>\n",
              "      <th>3436</th>\n",
              "      <td>CT20-AR-03</td>\n",
              "      <td>1223925105417445376</td>\n",
              "      <td>https://twitter.com/user/status/12239251054174...</td>\n",
              "      <td>عاجل الصحه_العالمية لا توجد إصابات بين المصريي...</td>\n",
              "      <td>1</td>\n",
              "      <td>1</td>\n",
              "    </tr>\n",
              "    <tr>\n",
              "      <th>3437</th>\n",
              "      <td>CT20-AR-08</td>\n",
              "      <td>1222644996521807881</td>\n",
              "      <td>https://twitter.com/user/status/12226449965218...</td>\n",
              "      <td>بموضوع قضية إن الراهبات بشر والبشر ي خط ئون وي...</td>\n",
              "      <td>1</td>\n",
              "      <td>0</td>\n",
              "    </tr>\n",
              "    <tr>\n",
              "      <th>3438</th>\n",
              "      <td>CT20-AR-08</td>\n",
              "      <td>1223226267811663880</td>\n",
              "      <td>https://twitter.com/user/status/12232262678116...</td>\n",
              "      <td>النسويات الحقيقيات لازم يعادون هالعي نات اكثر ...</td>\n",
              "      <td>0</td>\n",
              "      <td>0</td>\n",
              "    </tr>\n",
              "  </tbody>\n",
              "</table>\n",
              "<p>3439 rows × 6 columns</p>\n",
              "</div>"
            ],
            "text/plain": [
              "           topic_id             tweet_id  ... claim claim_worthiness\n",
              "0     CT20-AR-28_w1  1240397510809706496  ...     0                0\n",
              "1     CT20-AR-28_w1  1239666059357179904  ...     1                1\n",
              "2        CT20-AR-14  1225766485097926656  ...     0                0\n",
              "3        CT20-AR-08  1222606721409015808  ...     0                0\n",
              "4     CT20-AR-28_w2  1242523522876006401  ...     0                0\n",
              "...             ...                  ...  ...   ...              ...\n",
              "3434     CT20-AR-12  1224867179222446080  ...     0                0\n",
              "3435     CT20-AR-01  1222216404654608385  ...     0                0\n",
              "3436     CT20-AR-03  1223925105417445376  ...     1                1\n",
              "3437     CT20-AR-08  1222644996521807881  ...     1                0\n",
              "3438     CT20-AR-08  1223226267811663880  ...     0                0\n",
              "\n",
              "[3439 rows x 6 columns]"
            ]
          },
          "metadata": {
            "tags": []
          },
          "execution_count": 26
        }
      ]
    },
    {
      "cell_type": "code",
      "metadata": {
        "colab": {
          "base_uri": "https://localhost:8080/"
        },
        "id": "95sYZva2BOVy",
        "outputId": "a12db9bd-4186-400f-a574-0c6701d73b42"
      },
      "source": [
        "%cd /content/"
      ],
      "execution_count": null,
      "outputs": [
        {
          "output_type": "stream",
          "text": [
            "/content\n"
          ],
          "name": "stdout"
        }
      ]
    },
    {
      "cell_type": "code",
      "metadata": {
        "colab": {
          "base_uri": "https://localhost:8080/"
        },
        "id": "F2R200Ip50BJ",
        "outputId": "5ff823ec-c633-46d8-9422-ab74f1bbd885"
      },
      "source": [
        "dev[dev['claim']==0]['tweet_id']"
      ],
      "execution_count": null,
      "outputs": [
        {
          "output_type": "execute_result",
          "data": {
            "text/plain": [
              "2      1221226319243108353\n",
              "5      1221257562810671109\n",
              "6      1221262994732089344\n",
              "9      1221311538126082048\n",
              "10     1221312832362438656\n",
              "              ...         \n",
              "645    1233132895000309774\n",
              "650    1233162454936555520\n",
              "651    1233290442462179329\n",
              "653    1233369847830061056\n",
              "658    1233404098751475712\n",
              "Name: tweet_id, Length: 278, dtype: int64"
            ]
          },
          "metadata": {
            "tags": []
          },
          "execution_count": 28
        }
      ]
    },
    {
      "cell_type": "code",
      "metadata": {
        "id": "pcVS9YjAyQEo"
      },
      "source": [
        "sub=dev.copy()\n",
        "sub.drop([\"tweet_url\",\"tweet_text\",\"claim_worthiness\"],1,inplace=True)"
      ],
      "execution_count": null,
      "outputs": []
    },
    {
      "cell_type": "code",
      "metadata": {
        "id": "h0PDv67KykyB"
      },
      "source": [
        "data.drop([\"topic_id\",\"tweet_url\",\"tweet_id\",\"claim\"],axis=1,inplace=True)"
      ],
      "execution_count": null,
      "outputs": []
    },
    {
      "cell_type": "code",
      "metadata": {
        "id": "jQYvgtIJURm1"
      },
      "source": [
        "dev.drop([\"topic_id\",\"tweet_url\",\"tweet_id\",\"claim\"],axis=1,inplace=True)"
      ],
      "execution_count": null,
      "outputs": []
    },
    {
      "cell_type": "code",
      "metadata": {
        "colab": {
          "base_uri": "https://localhost:8080/",
          "height": 424
        },
        "id": "3XeDV8FoWr8J",
        "outputId": "8b8f7d52-5a8a-4df3-9e66-dec50a952c72"
      },
      "source": [
        "data"
      ],
      "execution_count": null,
      "outputs": [
        {
          "output_type": "execute_result",
          "data": {
            "text/html": [
              "<div>\n",
              "<style scoped>\n",
              "    .dataframe tbody tr th:only-of-type {\n",
              "        vertical-align: middle;\n",
              "    }\n",
              "\n",
              "    .dataframe tbody tr th {\n",
              "        vertical-align: top;\n",
              "    }\n",
              "\n",
              "    .dataframe thead th {\n",
              "        text-align: right;\n",
              "    }\n",
              "</style>\n",
              "<table border=\"1\" class=\"dataframe\">\n",
              "  <thead>\n",
              "    <tr style=\"text-align: right;\">\n",
              "      <th></th>\n",
              "      <th>tweet_text</th>\n",
              "      <th>claim_worthiness</th>\n",
              "    </tr>\n",
              "  </thead>\n",
              "  <tbody>\n",
              "    <tr>\n",
              "      <th>0</th>\n",
              "      <td>من تعليمات السلامة للوقاية من الكورونا الامتنا...</td>\n",
              "      <td>0</td>\n",
              "    </tr>\n",
              "    <tr>\n",
              "      <th>1</th>\n",
              "      <td>وزارة الصحة تخبر الرأي العام أنه تم ليلة الأحد...</td>\n",
              "      <td>1</td>\n",
              "    </tr>\n",
              "    <tr>\n",
              "      <th>2</th>\n",
              "      <td>ويهدد ويتوعد بهم كل خصومة ويرسل اشارت مشفرة لل...</td>\n",
              "      <td>0</td>\n",
              "    </tr>\n",
              "    <tr>\n",
              "      <th>3</th>\n",
              "      <td>اشفق على ع يد النسويات الي يحسب انه بيشبكهم لي...</td>\n",
              "      <td>0</td>\n",
              "    </tr>\n",
              "    <tr>\n",
              "      <th>4</th>\n",
              "      <td>كلنا_مسؤول البقاء في المنزل سلاحنا الأقوى بإذن...</td>\n",
              "      <td>0</td>\n",
              "    </tr>\n",
              "    <tr>\n",
              "      <th>...</th>\n",
              "      <td>...</td>\n",
              "      <td>...</td>\n",
              "    </tr>\n",
              "    <tr>\n",
              "      <th>3434</th>\n",
              "      <td>انا سوداني وفعل برهان يمثلني ولو كنت محلو كان ...</td>\n",
              "      <td>0</td>\n",
              "    </tr>\n",
              "    <tr>\n",
              "      <th>3435</th>\n",
              "      <td>شعور جدودنا وأهالينا في أيام مثل معاهدة وادي ع...</td>\n",
              "      <td>0</td>\n",
              "    </tr>\n",
              "    <tr>\n",
              "      <th>3436</th>\n",
              "      <td>عاجل الصحه_العالمية لا توجد إصابات بين المصريي...</td>\n",
              "      <td>1</td>\n",
              "    </tr>\n",
              "    <tr>\n",
              "      <th>3437</th>\n",
              "      <td>بموضوع قضية إن الراهبات بشر والبشر ي خط ئون وي...</td>\n",
              "      <td>0</td>\n",
              "    </tr>\n",
              "    <tr>\n",
              "      <th>3438</th>\n",
              "      <td>النسويات الحقيقيات لازم يعادون هالعي نات اكثر ...</td>\n",
              "      <td>0</td>\n",
              "    </tr>\n",
              "  </tbody>\n",
              "</table>\n",
              "<p>3439 rows × 2 columns</p>\n",
              "</div>"
            ],
            "text/plain": [
              "                                             tweet_text  claim_worthiness\n",
              "0     من تعليمات السلامة للوقاية من الكورونا الامتنا...                 0\n",
              "1     وزارة الصحة تخبر الرأي العام أنه تم ليلة الأحد...                 1\n",
              "2     ويهدد ويتوعد بهم كل خصومة ويرسل اشارت مشفرة لل...                 0\n",
              "3     اشفق على ع يد النسويات الي يحسب انه بيشبكهم لي...                 0\n",
              "4     كلنا_مسؤول البقاء في المنزل سلاحنا الأقوى بإذن...                 0\n",
              "...                                                 ...               ...\n",
              "3434  انا سوداني وفعل برهان يمثلني ولو كنت محلو كان ...                 0\n",
              "3435  شعور جدودنا وأهالينا في أيام مثل معاهدة وادي ع...                 0\n",
              "3436  عاجل الصحه_العالمية لا توجد إصابات بين المصريي...                 1\n",
              "3437  بموضوع قضية إن الراهبات بشر والبشر ي خط ئون وي...                 0\n",
              "3438  النسويات الحقيقيات لازم يعادون هالعي نات اكثر ...                 0\n",
              "\n",
              "[3439 rows x 2 columns]"
            ]
          },
          "metadata": {
            "tags": []
          },
          "execution_count": 32
        }
      ]
    },
    {
      "cell_type": "code",
      "metadata": {
        "id": "45oFd6oe0DW6"
      },
      "source": [
        "train, val = train_test_split(data, test_size=0.15,random_state=23)"
      ],
      "execution_count": null,
      "outputs": []
    },
    {
      "cell_type": "code",
      "metadata": {
        "colab": {
          "base_uri": "https://localhost:8080/",
          "height": 424
        },
        "id": "DGCFR-ty0S13",
        "outputId": "344ca23f-6c9a-480a-ed11-57deb0e649d3"
      },
      "source": [
        "train"
      ],
      "execution_count": null,
      "outputs": [
        {
          "output_type": "execute_result",
          "data": {
            "text/html": [
              "<div>\n",
              "<style scoped>\n",
              "    .dataframe tbody tr th:only-of-type {\n",
              "        vertical-align: middle;\n",
              "    }\n",
              "\n",
              "    .dataframe tbody tr th {\n",
              "        vertical-align: top;\n",
              "    }\n",
              "\n",
              "    .dataframe thead th {\n",
              "        text-align: right;\n",
              "    }\n",
              "</style>\n",
              "<table border=\"1\" class=\"dataframe\">\n",
              "  <thead>\n",
              "    <tr style=\"text-align: right;\">\n",
              "      <th></th>\n",
              "      <th>tweet_text</th>\n",
              "      <th>claim_worthiness</th>\n",
              "    </tr>\n",
              "  </thead>\n",
              "  <tbody>\n",
              "    <tr>\n",
              "      <th>769</th>\n",
              "      <td>يقيمون ندوات وتجمعات بشرية لشرح مضار التجمعات ...</td>\n",
              "      <td>0</td>\n",
              "    </tr>\n",
              "    <tr>\n",
              "      <th>805</th>\n",
              "      <td>فيديو برنامج مصري يتصل على كورونا كورونا_مصر</td>\n",
              "      <td>0</td>\n",
              "    </tr>\n",
              "    <tr>\n",
              "      <th>2292</th>\n",
              "      <td>الدروس الأخلاقية من قصة يوسف في القرآن إلقاء ا...</td>\n",
              "      <td>0</td>\n",
              "    </tr>\n",
              "    <tr>\n",
              "      <th>2505</th>\n",
              "      <td>عاجل توقف الرحلات في مطار معيتيقة بالعاصمة الل...</td>\n",
              "      <td>1</td>\n",
              "    </tr>\n",
              "    <tr>\n",
              "      <th>2651</th>\n",
              "      <td>استقر اليهود في فلسطين وعاثوا في الأرض فسادا ف...</td>\n",
              "      <td>0</td>\n",
              "    </tr>\n",
              "    <tr>\n",
              "      <th>...</th>\n",
              "      <td>...</td>\n",
              "      <td>...</td>\n",
              "    </tr>\n",
              "    <tr>\n",
              "      <th>2998</th>\n",
              "      <td>طبع ا الآن الذباب القط ري يجيك يقول مزورة ال و...</td>\n",
              "      <td>0</td>\n",
              "    </tr>\n",
              "    <tr>\n",
              "      <th>1993</th>\n",
              "      <td>مرزوق ترى البدون اللي يشتغل عند أخوك واللي بس ...</td>\n",
              "      <td>0</td>\n",
              "    </tr>\n",
              "    <tr>\n",
              "      <th>1064</th>\n",
              "      <td>مرتزقه وكل نبحه لها مبلغ وقدره مقصرين شدوا حيل...</td>\n",
              "      <td>0</td>\n",
              "    </tr>\n",
              "    <tr>\n",
              "      <th>742</th>\n",
              "      <td>لو نحن دولة محترمة جد ماكان وقعنا شيك على بياض...</td>\n",
              "      <td>0</td>\n",
              "    </tr>\n",
              "    <tr>\n",
              "      <th>595</th>\n",
              "      <td>آخر مستجدات كورونا ألف مصاب و وفاة وطوارئ عالمية</td>\n",
              "      <td>1</td>\n",
              "    </tr>\n",
              "  </tbody>\n",
              "</table>\n",
              "<p>2923 rows × 2 columns</p>\n",
              "</div>"
            ],
            "text/plain": [
              "                                             tweet_text  claim_worthiness\n",
              "769   يقيمون ندوات وتجمعات بشرية لشرح مضار التجمعات ...                 0\n",
              "805        فيديو برنامج مصري يتصل على كورونا كورونا_مصر                 0\n",
              "2292  الدروس الأخلاقية من قصة يوسف في القرآن إلقاء ا...                 0\n",
              "2505  عاجل توقف الرحلات في مطار معيتيقة بالعاصمة الل...                 1\n",
              "2651  استقر اليهود في فلسطين وعاثوا في الأرض فسادا ف...                 0\n",
              "...                                                 ...               ...\n",
              "2998  طبع ا الآن الذباب القط ري يجيك يقول مزورة ال و...                 0\n",
              "1993  مرزوق ترى البدون اللي يشتغل عند أخوك واللي بس ...                 0\n",
              "1064  مرتزقه وكل نبحه لها مبلغ وقدره مقصرين شدوا حيل...                 0\n",
              "742   لو نحن دولة محترمة جد ماكان وقعنا شيك على بياض...                 0\n",
              "595    آخر مستجدات كورونا ألف مصاب و وفاة وطوارئ عالمية                 1\n",
              "\n",
              "[2923 rows x 2 columns]"
            ]
          },
          "metadata": {
            "tags": []
          },
          "execution_count": 34
        }
      ]
    },
    {
      "cell_type": "code",
      "metadata": {
        "id": "qNbSypEl0eJL"
      },
      "source": [
        "train.reset_index(drop=True, inplace=True)\n",
        "val.reset_index(drop=True, inplace=True)"
      ],
      "execution_count": null,
      "outputs": []
    },
    {
      "cell_type": "markdown",
      "metadata": {
        "id": "mpY7HpXH892j"
      },
      "source": [
        "###Tokenisation"
      ]
    },
    {
      "cell_type": "code",
      "metadata": {
        "id": "vzaqH61r0moH"
      },
      "source": [
        "PRE_TRAINED_MODEL_NAME = 'aubmindlab/bert-base-arabertv01'"
      ],
      "execution_count": null,
      "outputs": []
    },
    {
      "cell_type": "code",
      "metadata": {
        "id": "N3OGnyrx098t"
      },
      "source": [
        "tokenizer = BertTokenizer.from_pretrained(PRE_TRAINED_MODEL_NAME)"
      ],
      "execution_count": null,
      "outputs": []
    },
    {
      "cell_type": "code",
      "metadata": {
        "colab": {
          "base_uri": "https://localhost:8080/",
          "height": 35
        },
        "id": "ObPJmLAK1-dN",
        "outputId": "738d0417-7ce3-4ec1-a163-449bb18fa4cf"
      },
      "source": [
        "train.tweet_text[1]"
      ],
      "execution_count": null,
      "outputs": [
        {
          "output_type": "execute_result",
          "data": {
            "application/vnd.google.colaboratory.intrinsic+json": {
              "type": "string"
            },
            "text/plain": [
              "'فيديو برنامج مصري يتصل على كورونا كورونا_مصر'"
            ]
          },
          "metadata": {
            "tags": []
          },
          "execution_count": 38
        }
      ]
    },
    {
      "cell_type": "code",
      "metadata": {
        "colab": {
          "base_uri": "https://localhost:8080/"
        },
        "id": "sJ4SO8ZA1FIS",
        "outputId": "b3e9d4be-cbdc-48bc-b8e9-0048b72275bb"
      },
      "source": [
        "sample_txt = train.tweet_text[1]\n",
        "\n",
        "tokens = tokenizer.tokenize(sample_txt)\n",
        "\n",
        "token_ids = tokenizer.convert_tokens_to_ids(tokens)\n",
        "\n",
        "print(f' Sentence: {sample_txt}')\n",
        "print(f'   Tokens: {tokens}')\n",
        "print(f'Token IDs: {token_ids}')"
      ],
      "execution_count": null,
      "outputs": [
        {
          "output_type": "stream",
          "text": [
            " Sentence: فيديو برنامج مصري يتصل على كورونا كورونا_مصر\n",
            "   Tokens: ['فيديو', 'برنامج', 'مصري', 'يتصل', 'على', 'كورونا', 'كورونا', '[UNK]', 'مصر']\n",
            "Token IDs: [23583, 35652, 11402, 13363, 2881, 37385, 37385, 60122, 3534]\n"
          ],
          "name": "stdout"
        }
      ]
    },
    {
      "cell_type": "code",
      "metadata": {
        "colab": {
          "base_uri": "https://localhost:8080/"
        },
        "id": "UR8Qf9YM3eyM",
        "outputId": "1cb86f94-0b90-4a63-cecb-2aa3dabd9139"
      },
      "source": [
        "len(tokens)"
      ],
      "execution_count": null,
      "outputs": [
        {
          "output_type": "execute_result",
          "data": {
            "text/plain": [
              "9"
            ]
          },
          "metadata": {
            "tags": []
          },
          "execution_count": 40
        }
      ]
    },
    {
      "cell_type": "code",
      "metadata": {
        "colab": {
          "base_uri": "https://localhost:8080/"
        },
        "id": "Uylf9Mvs2Ih6",
        "outputId": "6d4d47d6-87e8-4734-cabd-4fbd6e6cdd97"
      },
      "source": [
        "tokenizer.special_tokens_map"
      ],
      "execution_count": null,
      "outputs": [
        {
          "output_type": "execute_result",
          "data": {
            "text/plain": [
              "{'cls_token': '[CLS]',\n",
              " 'mask_token': '[MASK]',\n",
              " 'pad_token': '[PAD]',\n",
              " 'sep_token': '[SEP]',\n",
              " 'unk_token': '[UNK]'}"
            ]
          },
          "metadata": {
            "tags": []
          },
          "execution_count": 41
        }
      ]
    },
    {
      "cell_type": "code",
      "metadata": {
        "colab": {
          "base_uri": "https://localhost:8080/"
        },
        "id": "YfutdBYr2uvp",
        "outputId": "f5dcbe9b-eb5f-4fda-800f-b9288c0800e2"
      },
      "source": [
        "encoding = tokenizer.encode_plus(\n",
        "  sample_txt,\n",
        "  max_length=120,\n",
        "  add_special_tokens=True, # Add '[CLS]' and '[SEP]'\n",
        "  return_token_type_ids=False,\n",
        "  pad_to_max_length=True,\n",
        "  return_attention_mask=True,\n",
        "  return_tensors='pt',  # Return PyTorch tensors\n",
        ")\n",
        "\n",
        "\n",
        "encoding.keys()"
      ],
      "execution_count": null,
      "outputs": [
        {
          "output_type": "execute_result",
          "data": {
            "text/plain": [
              "dict_keys(['input_ids', 'attention_mask'])"
            ]
          },
          "metadata": {
            "tags": []
          },
          "execution_count": 42
        }
      ]
    },
    {
      "cell_type": "code",
      "metadata": {
        "colab": {
          "base_uri": "https://localhost:8080/"
        },
        "id": "XSyrqUTd3L7F",
        "outputId": "4cdcb3dd-e2d7-45bc-d3c5-da43a669ecad"
      },
      "source": [
        "tokenizer.convert_ids_to_tokens(encoding['input_ids'][0])"
      ],
      "execution_count": null,
      "outputs": [
        {
          "output_type": "execute_result",
          "data": {
            "text/plain": [
              "['[CLS]',\n",
              " 'فيديو',\n",
              " 'برنامج',\n",
              " 'مصري',\n",
              " 'يتصل',\n",
              " 'على',\n",
              " 'كورونا',\n",
              " 'كورونا',\n",
              " '[UNK]',\n",
              " 'مصر',\n",
              " '[SEP]',\n",
              " '[PAD]',\n",
              " '[PAD]',\n",
              " '[PAD]',\n",
              " '[PAD]',\n",
              " '[PAD]',\n",
              " '[PAD]',\n",
              " '[PAD]',\n",
              " '[PAD]',\n",
              " '[PAD]',\n",
              " '[PAD]',\n",
              " '[PAD]',\n",
              " '[PAD]',\n",
              " '[PAD]',\n",
              " '[PAD]',\n",
              " '[PAD]',\n",
              " '[PAD]',\n",
              " '[PAD]',\n",
              " '[PAD]',\n",
              " '[PAD]',\n",
              " '[PAD]',\n",
              " '[PAD]',\n",
              " '[PAD]',\n",
              " '[PAD]',\n",
              " '[PAD]',\n",
              " '[PAD]',\n",
              " '[PAD]',\n",
              " '[PAD]',\n",
              " '[PAD]',\n",
              " '[PAD]',\n",
              " '[PAD]',\n",
              " '[PAD]',\n",
              " '[PAD]',\n",
              " '[PAD]',\n",
              " '[PAD]',\n",
              " '[PAD]',\n",
              " '[PAD]',\n",
              " '[PAD]',\n",
              " '[PAD]',\n",
              " '[PAD]',\n",
              " '[PAD]',\n",
              " '[PAD]',\n",
              " '[PAD]',\n",
              " '[PAD]',\n",
              " '[PAD]',\n",
              " '[PAD]',\n",
              " '[PAD]',\n",
              " '[PAD]',\n",
              " '[PAD]',\n",
              " '[PAD]',\n",
              " '[PAD]',\n",
              " '[PAD]',\n",
              " '[PAD]',\n",
              " '[PAD]',\n",
              " '[PAD]',\n",
              " '[PAD]',\n",
              " '[PAD]',\n",
              " '[PAD]',\n",
              " '[PAD]',\n",
              " '[PAD]',\n",
              " '[PAD]',\n",
              " '[PAD]',\n",
              " '[PAD]',\n",
              " '[PAD]',\n",
              " '[PAD]',\n",
              " '[PAD]',\n",
              " '[PAD]',\n",
              " '[PAD]',\n",
              " '[PAD]',\n",
              " '[PAD]',\n",
              " '[PAD]',\n",
              " '[PAD]',\n",
              " '[PAD]',\n",
              " '[PAD]',\n",
              " '[PAD]',\n",
              " '[PAD]',\n",
              " '[PAD]',\n",
              " '[PAD]',\n",
              " '[PAD]',\n",
              " '[PAD]',\n",
              " '[PAD]',\n",
              " '[PAD]',\n",
              " '[PAD]',\n",
              " '[PAD]',\n",
              " '[PAD]',\n",
              " '[PAD]',\n",
              " '[PAD]',\n",
              " '[PAD]',\n",
              " '[PAD]',\n",
              " '[PAD]',\n",
              " '[PAD]',\n",
              " '[PAD]',\n",
              " '[PAD]',\n",
              " '[PAD]',\n",
              " '[PAD]',\n",
              " '[PAD]',\n",
              " '[PAD]',\n",
              " '[PAD]',\n",
              " '[PAD]',\n",
              " '[PAD]',\n",
              " '[PAD]',\n",
              " '[PAD]',\n",
              " '[PAD]',\n",
              " '[PAD]',\n",
              " '[PAD]',\n",
              " '[PAD]',\n",
              " '[PAD]',\n",
              " '[PAD]',\n",
              " '[PAD]',\n",
              " '[PAD]']"
            ]
          },
          "metadata": {
            "tags": []
          },
          "execution_count": 43
        }
      ]
    },
    {
      "cell_type": "code",
      "metadata": {
        "id": "CsAd1jRN3Qji"
      },
      "source": [
        "class Tokenisation(Dataset):\n",
        "    \n",
        "    \n",
        "    def __init__(self, data, targets, tokenizer, max_len):\n",
        "        self.data = data\n",
        "        self.targets = targets\n",
        "        self.tokenizer = tokenizer\n",
        "        self.max_len = max_len\n",
        "        self.pad_vid = self.tokenizer.vocab[\"[PAD]\"]\n",
        "        \n",
        "        \n",
        "    def __len__(self):\n",
        "        return len(self.data)\n",
        "    \n",
        "    def __getitem__(self, item):\n",
        "        data = str(self.data[item])\n",
        "        data = \" \".join(data.split())\n",
        "        target = self.targets\n",
        "        \n",
        "        encoding = self.tokenizer.encode_plus(\n",
        "          data,\n",
        "          add_special_tokens=True,\n",
        "          max_length=self.max_len,\n",
        "          return_token_type_ids=False,\n",
        "          pad_to_max_length=True,\n",
        "          return_attention_mask=True,\n",
        "          return_tensors='pt',\n",
        "        )\n",
        "        \n",
        "        ids = encoding['input_ids']\n",
        "        masks = encoding['attention_mask']\n",
        "        token_type_ids = encoding['input_ids']\n",
        "        \n",
        "        true_seq_length = len(encoding['input_ids'][0])\n",
        "        pad_size = self.max_len - true_seq_length\n",
        "        pad_ids = torch.Tensor([self.pad_vid] * pad_size).long()\n",
        "        ids = torch.cat((encoding['input_ids'][0], pad_ids))\n",
        "        \n",
        "        \n",
        "        #padding_len = self.max_len - len(ids)\n",
        "        #ids = ids + ([0] * padding_len)\n",
        "        #masks = ids + ([0] * padding_len)\n",
        "        #token_type_ids = token_type_ids + ([0] * padding_len)\n",
        "        \n",
        "        return {\n",
        "          'text': data,\n",
        "          'input_ids': ids.flatten(),\n",
        "          'attention_mask': encoding['attention_mask'].flatten(),\n",
        "          'targets': torch.tensor(target[item], dtype=torch.long)\n",
        "        }"
      ],
      "execution_count": null,
      "outputs": []
    },
    {
      "cell_type": "code",
      "metadata": {
        "id": "o7gQjfAB4dSz"
      },
      "source": [
        "def dataLoader(df, tokenizer, max_len, batch_size):\n",
        "    ds = Tokenisation(\n",
        "    data=df['text'].to_numpy(),\n",
        "    targets=df['label'].to_numpy(),\n",
        "    tokenizer=tokenizer,\n",
        "    max_len=max_len\n",
        "    )\n",
        "    return DataLoader(ds,batch_size=batch_size, num_workers=4)"
      ],
      "execution_count": null,
      "outputs": []
    },
    {
      "cell_type": "code",
      "metadata": {
        "colab": {
          "base_uri": "https://localhost:8080/"
        },
        "id": "NQ8SV0ciPzD-",
        "outputId": "e30746cd-5b0e-4163-ad60-eed8ff2d5cde"
      },
      "source": [
        "train.rename(columns={'tweet_text': 'text'}, inplace=True)\n",
        "train.rename(columns={'claim_worthiness': 'label'}, inplace=True)\n",
        "val.rename(columns={'tweet_text': 'text'}, inplace=True)\n",
        "val.rename(columns={'claim_worthiness': 'label'}, inplace=True)"
      ],
      "execution_count": null,
      "outputs": [
        {
          "output_type": "stream",
          "text": [
            "/usr/local/lib/python3.7/dist-packages/pandas/core/frame.py:4308: SettingWithCopyWarning: \n",
            "A value is trying to be set on a copy of a slice from a DataFrame\n",
            "\n",
            "See the caveats in the documentation: https://pandas.pydata.org/pandas-docs/stable/user_guide/indexing.html#returning-a-view-versus-a-copy\n",
            "  errors=errors,\n"
          ],
          "name": "stderr"
        }
      ]
    },
    {
      "cell_type": "code",
      "metadata": {
        "colab": {
          "base_uri": "https://localhost:8080/"
        },
        "id": "SXK0x3rz4jGL",
        "outputId": "3a8674b5-3a13-4d88-980d-909ceed7c0c2"
      },
      "source": [
        "BATCH_SIZE = 32\n",
        "MAX_LEN = 150\n",
        "\n",
        "train_data_loader = dataLoader(train, tokenizer, MAX_LEN, BATCH_SIZE)\n",
        "val_data_loader = dataLoader(val, tokenizer, MAX_LEN, BATCH_SIZE)\n",
        "#test_data_loader = dataLoader(test, tokenizer, MAX_LEN, BATCH_SIZE)"
      ],
      "execution_count": null,
      "outputs": [
        {
          "output_type": "stream",
          "text": [
            "/usr/local/lib/python3.7/dist-packages/torch/utils/data/dataloader.py:477: UserWarning: This DataLoader will create 4 worker processes in total. Our suggested max number of worker in current system is 2, which is smaller than what this DataLoader is going to create. Please be aware that excessive worker creation might get DataLoader running slow or even freeze, lower the worker number to avoid potential slowness/freeze if necessary.\n",
            "  cpuset_checked))\n"
          ],
          "name": "stderr"
        }
      ]
    },
    {
      "cell_type": "code",
      "metadata": {
        "colab": {
          "base_uri": "https://localhost:8080/"
        },
        "id": "0goATqoy7sJ2",
        "outputId": "8d7c8227-f051-49c5-824f-2ff0aebf907b"
      },
      "source": [
        "data = next(iter(train_data_loader))\n",
        "data.keys()"
      ],
      "execution_count": null,
      "outputs": [
        {
          "output_type": "stream",
          "text": [
            "/usr/local/lib/python3.7/dist-packages/torch/utils/data/dataloader.py:477: UserWarning: This DataLoader will create 4 worker processes in total. Our suggested max number of worker in current system is 2, which is smaller than what this DataLoader is going to create. Please be aware that excessive worker creation might get DataLoader running slow or even freeze, lower the worker number to avoid potential slowness/freeze if necessary.\n",
            "  cpuset_checked))\n"
          ],
          "name": "stderr"
        },
        {
          "output_type": "execute_result",
          "data": {
            "text/plain": [
              "dict_keys(['text', 'input_ids', 'attention_mask', 'targets'])"
            ]
          },
          "metadata": {
            "tags": []
          },
          "execution_count": 48
        }
      ]
    },
    {
      "cell_type": "code",
      "metadata": {
        "colab": {
          "base_uri": "https://localhost:8080/"
        },
        "id": "oIFV8Ed24r_d",
        "outputId": "c4228904-a042-4524-ee41-503dbb4e2b80"
      },
      "source": [
        "print(data['input_ids'].shape)\n",
        "print(data['attention_mask'].shape)\n",
        "print(data['targets'].shape)"
      ],
      "execution_count": null,
      "outputs": [
        {
          "output_type": "stream",
          "text": [
            "torch.Size([32, 150])\n",
            "torch.Size([32, 150])\n",
            "torch.Size([32])\n"
          ],
          "name": "stdout"
        }
      ]
    },
    {
      "cell_type": "markdown",
      "metadata": {
        "id": "-iTKSAc484yY"
      },
      "source": [
        "###Building the model\n"
      ]
    },
    {
      "cell_type": "code",
      "metadata": {
        "id": "j-bdJMmR5Jp7"
      },
      "source": [
        "class TextClassifier(nn.Module):\n",
        "    \n",
        "    def __init__(self, n_classes):\n",
        "        super(TextClassifier, self).__init__()\n",
        "        self.bert = BertModel.from_pretrained(PRE_TRAINED_MODEL_NAME)\n",
        "        self.drop = nn.Dropout(p=0.3)\n",
        "        self.out = nn.Linear(self.bert.config.hidden_size, n_classes)\n",
        "        \n",
        "\n",
        "            \n",
        "    \n",
        "    def forward(self, input_ids, attention_mask):\n",
        "        _, pooled_output = self.bert(\n",
        "          input_ids=input_ids,\n",
        "          attention_mask=attention_mask\n",
        "        )\n",
        "        #print(pooled_output)\n",
        "        output = self.drop(pooled_output)\n",
        "        return self.out(output)\n",
        "    \n",
        "    def unfreeze(self,start_layer,end_layer):\n",
        "        def children(m):\n",
        "            return m if isinstance(m, (list, tuple)) else list(m.children())\n",
        "        def set_trainable_attr(m, b):\n",
        "            m.trainable = b\n",
        "            for p in m.parameters():\n",
        "                p.requires_grad = b\n",
        "        def apply_leaf(m, f):\n",
        "            c = children(m)\n",
        "            if isinstance(m, nn.Module):\n",
        "                f(m)\n",
        "            if len(c) > 0:\n",
        "                for l in c:\n",
        "                    apply_leaf(l, f)\n",
        "        def set_trainable(l, b):\n",
        "            apply_leaf(l, lambda m: set_trainable_attr(m, b))\n",
        "\n",
        "        # You can unfreeze the last layer of bert by calling set_trainable(model.bert.encoder.layer[23], True)\n",
        "        set_trainable(self.bert, False)\n",
        "        for i in range(start_layer, end_layer+1):\n",
        "            set_trainable(self.bert.encoder.layer[i], True)\n"
      ],
      "execution_count": null,
      "outputs": []
    },
    {
      "cell_type": "code",
      "metadata": {
        "colab": {
          "base_uri": "https://localhost:8080/"
        },
        "id": "5PYzYQn99qie",
        "outputId": "c1a1942f-d317-41e6-f005-bc2b0eb26f98"
      },
      "source": [
        "len(train.label.unique())"
      ],
      "execution_count": null,
      "outputs": [
        {
          "output_type": "execute_result",
          "data": {
            "text/plain": [
              "2"
            ]
          },
          "metadata": {
            "tags": []
          },
          "execution_count": 51
        }
      ]
    },
    {
      "cell_type": "code",
      "metadata": {
        "colab": {
          "base_uri": "https://localhost:8080/"
        },
        "id": "yDPZ11_nGzjc",
        "outputId": "a296bcbb-8a1d-46b5-a8b8-3538d39d2b34"
      },
      "source": [
        "device"
      ],
      "execution_count": null,
      "outputs": [
        {
          "output_type": "execute_result",
          "data": {
            "text/plain": [
              "device(type='cuda', index=0)"
            ]
          },
          "metadata": {
            "tags": []
          },
          "execution_count": 52
        }
      ]
    },
    {
      "cell_type": "code",
      "metadata": {
        "id": "NnvzmPEg9ut_"
      },
      "source": [
        "model = TextClassifier(len(train.label.unique()))\n",
        "model = model.to(device)"
      ],
      "execution_count": null,
      "outputs": []
    },
    {
      "cell_type": "code",
      "metadata": {
        "colab": {
          "base_uri": "https://localhost:8080/"
        },
        "id": "Qkig1kneAaqy",
        "outputId": "7900bf8b-82df-4086-bada-7853fd676c6a"
      },
      "source": [
        "input_ids = data['input_ids'].to(device)\n",
        "attention_mask = data['attention_mask'].to(device)\n",
        "\n",
        "print(input_ids.shape) # batch size x seq length\n",
        "print(attention_mask.shape) # batch size x seq length"
      ],
      "execution_count": null,
      "outputs": [
        {
          "output_type": "stream",
          "text": [
            "torch.Size([32, 150])\n",
            "torch.Size([32, 150])\n"
          ],
          "name": "stdout"
        }
      ]
    },
    {
      "cell_type": "code",
      "metadata": {
        "colab": {
          "base_uri": "https://localhost:8080/"
        },
        "id": "UWcDAvn8AkSA",
        "outputId": "42426e62-4b3c-4c8e-d67b-423cd22061ad"
      },
      "source": [
        "F.softmax(model(input_ids, attention_mask), dim=1)"
      ],
      "execution_count": null,
      "outputs": [
        {
          "output_type": "execute_result",
          "data": {
            "text/plain": [
              "tensor([[0.5117, 0.4883],\n",
              "        [0.4922, 0.5078],\n",
              "        [0.5379, 0.4621],\n",
              "        [0.5775, 0.4225],\n",
              "        [0.2966, 0.7034],\n",
              "        [0.3102, 0.6898],\n",
              "        [0.5515, 0.4485],\n",
              "        [0.5315, 0.4685],\n",
              "        [0.4512, 0.5488],\n",
              "        [0.5478, 0.4522],\n",
              "        [0.5461, 0.4539],\n",
              "        [0.6481, 0.3519],\n",
              "        [0.4617, 0.5383],\n",
              "        [0.3471, 0.6529],\n",
              "        [0.5590, 0.4410],\n",
              "        [0.3720, 0.6280],\n",
              "        [0.5162, 0.4838],\n",
              "        [0.3963, 0.6037],\n",
              "        [0.4016, 0.5984],\n",
              "        [0.5397, 0.4603],\n",
              "        [0.5365, 0.4635],\n",
              "        [0.4945, 0.5055],\n",
              "        [0.4066, 0.5934],\n",
              "        [0.3533, 0.6467],\n",
              "        [0.3966, 0.6034],\n",
              "        [0.5256, 0.4744],\n",
              "        [0.4845, 0.5155],\n",
              "        [0.5053, 0.4947],\n",
              "        [0.4958, 0.5042],\n",
              "        [0.5184, 0.4816],\n",
              "        [0.4747, 0.5253],\n",
              "        [0.4389, 0.5611]], device='cuda:0', grad_fn=<SoftmaxBackward>)"
            ]
          },
          "metadata": {
            "tags": []
          },
          "execution_count": 55
        }
      ]
    },
    {
      "cell_type": "code",
      "metadata": {
        "id": "VpYIk9lAL_YD"
      },
      "source": [
        "from sklearn.metrics import average_precision_score\n",
        "import utils"
      ],
      "execution_count": null,
      "outputs": []
    },
    {
      "cell_type": "code",
      "metadata": {
        "id": "Lwi2cf-CAnX8"
      },
      "source": [
        "EPOCHS = 6\n",
        "MAX_LENGTH = 128\n",
        "TRAIN_BATCH_SIZE = 32\n",
        "VALID_BATCH_SIZE = 16\n",
        "\n",
        "LearningRate = 1e-6\n",
        "\n",
        "BETAS = (0.9, 0.999)\n",
        "BERT_WEIGHT_DECAY = 0.01\n",
        "EPS = 1e-8\n",
        "\n",
        "# Define identifiers & group model parameters accordingly \n",
        "bert_identifiers = ['embedding', 'encoder', 'pooler']\n",
        "no_weight_decay_identifiers = ['bias', 'LayerNorm.weight']\n",
        "grouped_model_parameters = [\n",
        "        {'params': [param for name, param in model.named_parameters()\n",
        "                    if any(identifier in name for identifier in bert_identifiers) and\n",
        "                    not any(identifier_ in name for identifier_ in no_weight_decay_identifiers)],\n",
        "        'lr': LearningRate,\n",
        "        'betas': BETAS,\n",
        "        'weight_decay': BERT_WEIGHT_DECAY,\n",
        "        'eps': EPS},\n",
        "        {'params': [param for name, param in model.named_parameters()\n",
        "                    if any(identifier in name for identifier in bert_identifiers) and\n",
        "                    any(identifier_ in name for identifier_ in no_weight_decay_identifiers)],\n",
        "        'lr': LearningRate,\n",
        "        'betas': BETAS,\n",
        "        'weight_decay': 0.0,\n",
        "        'eps': EPS},\n",
        "        {'params': [param for name, param in model.named_parameters()\n",
        "                    if not any(identifier in name for identifier in bert_identifiers)],\n",
        "        'lr': LearningRate,\n",
        "        'betas': BETAS,\n",
        "        'weight_decay': 0.0,\n",
        "        'eps': EPS}\n",
        "]\n",
        "\n",
        "# Define optimizer\n",
        "optimizers = AdamW(grouped_model_parameters)\n",
        "\n",
        "optimizer = AdamW(model.parameters(), lr=LearningRate , correct_bias=False)\n",
        "\n",
        "total_steps = len(train_data_loader) * EPOCHS\n",
        "\n",
        "scheduler = get_linear_schedule_with_warmup(\n",
        "  optimizer,\n",
        "  num_warmup_steps=0,\n",
        "  num_training_steps=total_steps\n",
        ")\n",
        "\n",
        "es = utils.EarlyStopping(patience=3, mode=\"min\")\n",
        "\n",
        "loss_fn = nn.BCELoss().to(device)"
      ],
      "execution_count": null,
      "outputs": []
    },
    {
      "cell_type": "code",
      "metadata": {
        "id": "i2_mUZyzIa3w"
      },
      "source": [
        "def train_epoch(model, data_loader, loss_fn, optimizer, device, scheduler, n_examples):\n",
        "    \n",
        "    \n",
        "    model = model.train()\n",
        "    losses = []\n",
        "    averagreP = []\n",
        "    correct_predictions = 0\n",
        "    for d in tqdm(data_loader):\n",
        "        input_ids = d[\"input_ids\"].to(device)\n",
        "        attention_mask = d[\"attention_mask\"].to(device)\n",
        "        targets = d[\"targets\"].to(device)\n",
        "        preds = model(\n",
        "          input_ids=input_ids,\n",
        "          attention_mask=attention_mask\n",
        "        )\n",
        "        preds = F.softmax(preds,dim=1)\n",
        "        targets = targets.type_as(preds)\n",
        "        preds = preds[:, 1]\n",
        "        loss = loss_fn(preds, targets)\n",
        "        correct_predictions += torch.sum(preds == targets)\n",
        "        losses.append(loss.item())\n",
        "        loss.backward()\n",
        "        nn.utils.clip_grad_norm_(model.parameters(), max_norm=1.0)\n",
        "        optimizer.step()\n",
        "        scheduler.step()\n",
        "        optimizer.zero_grad()\n",
        "        AP = average_precision_score(targets.cpu().detach().numpy(),preds.cpu().detach().numpy())\n",
        "        averagreP.append(AP)\n",
        "       \n",
        "    return np.mean(averagreP),np.mean(losses)"
      ],
      "execution_count": null,
      "outputs": []
    },
    {
      "cell_type": "code",
      "metadata": {
        "id": "ieb1L25Q5kdZ"
      },
      "source": [
        "import math"
      ],
      "execution_count": null,
      "outputs": []
    },
    {
      "cell_type": "code",
      "metadata": {
        "id": "Kbnhpp2dlQZp"
      },
      "source": [
        "def eval_model(model, data_loader, loss_fn, device, n_examples):\n",
        "    \n",
        "    model = model.eval()\n",
        "    \n",
        "    losses = []\n",
        "    averagreP = []\n",
        "    \n",
        "    correct_predictions = 0\n",
        "    \n",
        "    with torch.no_grad():\n",
        "        for d in tqdm(data_loader):\n",
        "            input_ids = d[\"input_ids\"].to(device)\n",
        "            #print(\"input IDS\" + str(input_ids))\n",
        "            attention_mask = d[\"attention_mask\"].to(device)\n",
        "            targets = d[\"targets\"].to(device)\n",
        "            #print('Targets' + str(targets))\n",
        "            \n",
        "            preds = model(\n",
        "            input_ids=input_ids,\n",
        "            attention_mask=attention_mask\n",
        "            )\n",
        "\n",
        "            preds = F.softmax(preds, dim=1)\n",
        "            targets = targets.type_as(preds)\n",
        "            preds = preds[:, 1]\n",
        "            #print(\"Preds : \"+str(preds))\n",
        "\n",
        "            loss = loss_fn(preds, targets)\n",
        "            correct_predictions += torch.sum(preds == targets)\n",
        "            losses.append(loss.item())\n",
        "            AP = average_precision_score(targets.cpu().detach().numpy(),preds.cpu().detach().numpy())\n",
        "            if (math.isnan(AP)):\n",
        "              AP = average_precision_score(targets.cpu().detach().numpy().reshape((-1)),preds.cpu().detach().numpy().reshape((-1)))\n",
        "              print('AP is nan')\n",
        "            averagreP.append(AP)\n",
        "       \n",
        "    return np.mean(averagreP),np.mean(losses)\n"
      ],
      "execution_count": null,
      "outputs": []
    },
    {
      "cell_type": "code",
      "metadata": {
        "colab": {
          "base_uri": "https://localhost:8080/"
        },
        "id": "Q1G96YXrIj4E",
        "outputId": "2adb5385-d68e-4bb4-917b-056e7cb5c0ef"
      },
      "source": [
        "history = defaultdict(list)\n",
        "best_ap = 0\n",
        "\n",
        "for epoch in range(EPOCHS):\n",
        "    print(f'Epoch {epoch + 1}/{EPOCHS}')\n",
        "    print('-' * 10)\n",
        "    train_ap,train_loss = train_epoch(\n",
        "                                        model,\n",
        "                                        train_data_loader,\n",
        "                                        loss_fn,\n",
        "                                        optimizer,\n",
        "                                        device,\n",
        "                                        scheduler,\n",
        "                                        len(train),\n",
        "\n",
        "    )\n",
        "    print(f'Train loss {train_loss} Aver Precision {train_ap}')\n",
        "    val_ap, val_loss = eval_model(\n",
        "                                    model,\n",
        "                                    val_data_loader,\n",
        "                                    loss_fn,\n",
        "                                    device,\n",
        "                                    len(val)\n",
        "    )\n",
        "    print(f'Val   loss {val_loss} Aver Precision {val_ap}')\n",
        "    print()\n",
        "    torch.save(model.state_dict(), 'model_state.bin')\n",
        "    es(val_loss, model, model_path=f\"model_state.bin\")\n",
        "    if es.early_stop:\n",
        "        print(\"Early stopping\")\n",
        "        break\n",
        "    history['train_ap'].append(train_ap)\n",
        "    history['train_loss'].append(train_loss)\n",
        "    history['val_ap'].append(val_ap)\n",
        "    history['val_loss'].append(val_loss)\n",
        "    \n",
        "    '''if val_ap > best_ap:\n",
        "        torch.save(model.state_dict(), 'best_model_state.bin')\n",
        "        best_ap = val_ap'''"
      ],
      "execution_count": null,
      "outputs": [
        {
          "output_type": "stream",
          "text": [
            "\r  0%|          | 0/92 [00:00<?, ?it/s]"
          ],
          "name": "stderr"
        },
        {
          "output_type": "stream",
          "text": [
            "Epoch 1/6\n",
            "----------\n"
          ],
          "name": "stdout"
        },
        {
          "output_type": "stream",
          "text": [
            "/usr/local/lib/python3.7/dist-packages/torch/utils/data/dataloader.py:477: UserWarning: This DataLoader will create 4 worker processes in total. Our suggested max number of worker in current system is 2, which is smaller than what this DataLoader is going to create. Please be aware that excessive worker creation might get DataLoader running slow or even freeze, lower the worker number to avoid potential slowness/freeze if necessary.\n",
            "  cpuset_checked))\n",
            "100%|██████████| 92/92 [01:07<00:00,  1.35it/s]\n",
            "  0%|          | 0/17 [00:00<?, ?it/s]"
          ],
          "name": "stderr"
        },
        {
          "output_type": "stream",
          "text": [
            "Train loss 0.3990604379416808 Aver Precision 0.6875692085396946\n"
          ],
          "name": "stdout"
        },
        {
          "output_type": "stream",
          "text": [
            "100%|██████████| 17/17 [00:04<00:00,  3.73it/s]\n"
          ],
          "name": "stderr"
        },
        {
          "output_type": "stream",
          "text": [
            "Val   loss 0.27825022707967195 Aver Precision 0.8277863851330245\n",
            "\n",
            "Validation score improved (inf --> 0.27825022707967195). Saving model!\n"
          ],
          "name": "stdout"
        },
        {
          "output_type": "stream",
          "text": [
            "\r  0%|          | 0/92 [00:00<?, ?it/s]"
          ],
          "name": "stderr"
        },
        {
          "output_type": "stream",
          "text": [
            "Epoch 2/6\n",
            "----------\n"
          ],
          "name": "stdout"
        },
        {
          "output_type": "stream",
          "text": [
            "100%|██████████| 92/92 [01:10<00:00,  1.30it/s]\n",
            "  0%|          | 0/17 [00:00<?, ?it/s]"
          ],
          "name": "stderr"
        },
        {
          "output_type": "stream",
          "text": [
            "Train loss 0.2670902447451068 Aver Precision 0.8471155417916496\n"
          ],
          "name": "stdout"
        },
        {
          "output_type": "stream",
          "text": [
            "100%|██████████| 17/17 [00:04<00:00,  3.65it/s]\n"
          ],
          "name": "stderr"
        },
        {
          "output_type": "stream",
          "text": [
            "Val   loss 0.25525369451326485 Aver Precision 0.8458462773372362\n",
            "\n",
            "Validation score improved (0.27825022707967195 --> 0.25525369451326485). Saving model!\n"
          ],
          "name": "stdout"
        },
        {
          "output_type": "stream",
          "text": [
            "\r  0%|          | 0/92 [00:00<?, ?it/s]"
          ],
          "name": "stderr"
        },
        {
          "output_type": "stream",
          "text": [
            "Epoch 3/6\n",
            "----------\n"
          ],
          "name": "stdout"
        },
        {
          "output_type": "stream",
          "text": [
            "100%|██████████| 92/92 [01:11<00:00,  1.28it/s]\n",
            "  0%|          | 0/17 [00:00<?, ?it/s]"
          ],
          "name": "stderr"
        },
        {
          "output_type": "stream",
          "text": [
            "Train loss 0.24289852826167707 Aver Precision 0.8645270707864602\n"
          ],
          "name": "stdout"
        },
        {
          "output_type": "stream",
          "text": [
            "100%|██████████| 17/17 [00:04<00:00,  3.57it/s]\n"
          ],
          "name": "stderr"
        },
        {
          "output_type": "stream",
          "text": [
            "Val   loss 0.2470335018108873 Aver Precision 0.8596700556830733\n",
            "\n",
            "Validation score improved (0.25525369451326485 --> 0.2470335018108873). Saving model!\n"
          ],
          "name": "stdout"
        },
        {
          "output_type": "stream",
          "text": [
            "\r  0%|          | 0/92 [00:00<?, ?it/s]"
          ],
          "name": "stderr"
        },
        {
          "output_type": "stream",
          "text": [
            "Epoch 4/6\n",
            "----------\n"
          ],
          "name": "stdout"
        },
        {
          "output_type": "stream",
          "text": [
            "100%|██████████| 92/92 [01:12<00:00,  1.27it/s]\n",
            "  0%|          | 0/17 [00:00<?, ?it/s]"
          ],
          "name": "stderr"
        },
        {
          "output_type": "stream",
          "text": [
            "Train loss 0.22521985634027616 Aver Precision 0.873012135630606\n"
          ],
          "name": "stdout"
        },
        {
          "output_type": "stream",
          "text": [
            "100%|██████████| 17/17 [00:04<00:00,  3.56it/s]\n"
          ],
          "name": "stderr"
        },
        {
          "output_type": "stream",
          "text": [
            "Val   loss 0.24325952525524533 Aver Precision 0.8652663384852386\n",
            "\n",
            "Validation score improved (0.2470335018108873 --> 0.24325952525524533). Saving model!\n"
          ],
          "name": "stdout"
        },
        {
          "output_type": "stream",
          "text": [
            "\r  0%|          | 0/92 [00:00<?, ?it/s]"
          ],
          "name": "stderr"
        },
        {
          "output_type": "stream",
          "text": [
            "Epoch 5/6\n",
            "----------\n"
          ],
          "name": "stdout"
        },
        {
          "output_type": "stream",
          "text": [
            "100%|██████████| 92/92 [01:12<00:00,  1.26it/s]\n",
            "  0%|          | 0/17 [00:00<?, ?it/s]"
          ],
          "name": "stderr"
        },
        {
          "output_type": "stream",
          "text": [
            "Train loss 0.21423227048438528 Aver Precision 0.8992961721823995\n"
          ],
          "name": "stdout"
        },
        {
          "output_type": "stream",
          "text": [
            "100%|██████████| 17/17 [00:04<00:00,  3.52it/s]\n"
          ],
          "name": "stderr"
        },
        {
          "output_type": "stream",
          "text": [
            "Val   loss 0.2421452359241598 Aver Precision 0.8614848258801964\n",
            "\n",
            "Validation score improved (0.24325952525524533 --> 0.2421452359241598). Saving model!\n"
          ],
          "name": "stdout"
        },
        {
          "output_type": "stream",
          "text": [
            "\r  0%|          | 0/92 [00:00<?, ?it/s]"
          ],
          "name": "stderr"
        },
        {
          "output_type": "stream",
          "text": [
            "Epoch 6/6\n",
            "----------\n"
          ],
          "name": "stdout"
        },
        {
          "output_type": "stream",
          "text": [
            "100%|██████████| 92/92 [01:12<00:00,  1.26it/s]\n",
            "  0%|          | 0/17 [00:00<?, ?it/s]"
          ],
          "name": "stderr"
        },
        {
          "output_type": "stream",
          "text": [
            "Train loss 0.2102547674237386 Aver Precision 0.9003549820931461\n"
          ],
          "name": "stdout"
        },
        {
          "output_type": "stream",
          "text": [
            "100%|██████████| 17/17 [00:04<00:00,  3.54it/s]\n"
          ],
          "name": "stderr"
        },
        {
          "output_type": "stream",
          "text": [
            "Val   loss 0.24196027526084116 Aver Precision 0.8550189061789827\n",
            "\n",
            "EarlyStopping counter: 1 out of 3\n"
          ],
          "name": "stdout"
        }
      ]
    },
    {
      "cell_type": "code",
      "metadata": {
        "colab": {
          "base_uri": "https://localhost:8080/",
          "height": 523
        },
        "id": "u8DgHeoap0DS",
        "outputId": "898e5b9f-3c6b-4bd2-f385-e287dbcb0ea5"
      },
      "source": [
        "plt.plot(history['train_loss'], label='train loss')\n",
        "plt.plot(history['val_loss'], label='validation loss')\n",
        "plt.title('Training history')\n",
        "plt.ylabel('Loss')\n",
        "plt.xlabel('Epoch')\n",
        "plt.legend()\n",
        "plt.ylim([0, 1]);\n",
        "\n"
      ],
      "execution_count": null,
      "outputs": [
        {
          "output_type": "display_data",
          "data": {
            "image/png": "[encoded data removed]",
            "text/plain": [
              "<Figure size 864x576 with 1 Axes>"
            ]
          },
          "metadata": {
            "tags": [],
            "image/png": {
              "width": 732,
              "height": 506
            }
          }
        }
      ]
    },
    {
      "cell_type": "markdown",
      "metadata": {
        "id": "zWZUilFtu3l3"
      },
      "source": [
        "##Evaluation"
      ]
    },
    {
      "cell_type": "code",
      "metadata": {
        "id": "ewyJYxDcqpgM"
      },
      "source": [
        "def get_predictions(model, data_loader):\n",
        "    model = model.eval()\n",
        "    review_texts = []\n",
        "    predictions = []\n",
        "    prediction_probs = []\n",
        "    real_values = []\n",
        "    with torch.no_grad():\n",
        "      for d in data_loader:\n",
        "          input_ids = d[\"input_ids\"].to(device)\n",
        "          attention_mask = d[\"attention_mask\"].to(device)\n",
        "          targets = d[\"targets\"].to(device)\n",
        "          preds = model(\n",
        "          input_ids=input_ids,\n",
        "          attention_mask=attention_mask\n",
        "          )\n",
        "          preds = F.softmax(preds, dim=1)\n",
        "          #review_texts.extend(texts)\n",
        "          #predictions.extend(preds)\n",
        "          prediction_probs.extend(preds)\n",
        "          real_values.extend(targets)\n",
        "    #predictions = torch.stack(predictions).cpu()\n",
        "    prediction_probs = torch.stack(prediction_probs).cpu()\n",
        "    real_values = torch.stack(real_values).cpu()\n",
        "    return prediction_probs, real_values"
      ],
      "execution_count": null,
      "outputs": []
    },
    {
      "cell_type": "code",
      "metadata": {
        "colab": {
          "base_uri": "https://localhost:8080/",
          "height": 206
        },
        "id": "kHhi-RyxfZxC",
        "outputId": "92dca1a2-4f22-414e-96ea-864c987befd4"
      },
      "source": [
        "dev.head()"
      ],
      "execution_count": null,
      "outputs": [
        {
          "output_type": "execute_result",
          "data": {
            "text/html": [
              "<div>\n",
              "<style scoped>\n",
              "    .dataframe tbody tr th:only-of-type {\n",
              "        vertical-align: middle;\n",
              "    }\n",
              "\n",
              "    .dataframe tbody tr th {\n",
              "        vertical-align: top;\n",
              "    }\n",
              "\n",
              "    .dataframe thead th {\n",
              "        text-align: right;\n",
              "    }\n",
              "</style>\n",
              "<table border=\"1\" class=\"dataframe\">\n",
              "  <thead>\n",
              "    <tr style=\"text-align: right;\">\n",
              "      <th></th>\n",
              "      <th>tweet_text</th>\n",
              "      <th>claim_worthiness</th>\n",
              "    </tr>\n",
              "  </thead>\n",
              "  <tbody>\n",
              "    <tr>\n",
              "      <th>0</th>\n",
              "      <td>باقي هذا المجرم الجبار المتكبر وابنائه الجبابر...</td>\n",
              "      <td>0</td>\n",
              "    </tr>\n",
              "    <tr>\n",
              "      <th>1</th>\n",
              "      <td>الان عودة الاشتباكات العنيفه في نهم والجيش الو...</td>\n",
              "      <td>1</td>\n",
              "    </tr>\n",
              "    <tr>\n",
              "      <th>2</th>\n",
              "      <td>الوية العمالقة تعلن النفير العام للاستعداد لاق...</td>\n",
              "      <td>0</td>\n",
              "    </tr>\n",
              "    <tr>\n",
              "      <th>3</th>\n",
              "      <td>في الاسواق اغاني جديده   الحوثيين راح يفبركون ...</td>\n",
              "      <td>0</td>\n",
              "    </tr>\n",
              "    <tr>\n",
              "      <th>4</th>\n",
              "      <td>السعودية و  الإمارات من محرريين لليمن إلى احت...</td>\n",
              "      <td>0</td>\n",
              "    </tr>\n",
              "  </tbody>\n",
              "</table>\n",
              "</div>"
            ],
            "text/plain": [
              "                                          tweet_text  claim_worthiness\n",
              "0  باقي هذا المجرم الجبار المتكبر وابنائه الجبابر...                 0\n",
              "1  الان عودة الاشتباكات العنيفه في نهم والجيش الو...                 1\n",
              "2  الوية العمالقة تعلن النفير العام للاستعداد لاق...                 0\n",
              "3  في الاسواق اغاني جديده   الحوثيين راح يفبركون ...                 0\n",
              "4   السعودية و  الإمارات من محرريين لليمن إلى احت...                 0"
            ]
          },
          "metadata": {
            "tags": []
          },
          "execution_count": 64
        }
      ]
    },
    {
      "cell_type": "code",
      "metadata": {
        "id": "3KnMMxYjRxVq"
      },
      "source": [
        "dev.rename(columns={'tweet_text': 'text'}, inplace=True)\n",
        "dev.rename(columns={'claim_worthiness': 'label'}, inplace=True)"
      ],
      "execution_count": null,
      "outputs": []
    },
    {
      "cell_type": "code",
      "metadata": {
        "colab": {
          "base_uri": "https://localhost:8080/"
        },
        "id": "yc-6GyqCfJ27",
        "outputId": "dde86933-a6f9-45fb-e916-46b917fbc833"
      },
      "source": [
        "test_data_loader = dataLoader(dev, tokenizer, MAX_LEN, BATCH_SIZE)"
      ],
      "execution_count": null,
      "outputs": [
        {
          "output_type": "stream",
          "text": [
            "/usr/local/lib/python3.7/dist-packages/torch/utils/data/dataloader.py:477: UserWarning: This DataLoader will create 4 worker processes in total. Our suggested max number of worker in current system is 2, which is smaller than what this DataLoader is going to create. Please be aware that excessive worker creation might get DataLoader running slow or even freeze, lower the worker number to avoid potential slowness/freeze if necessary.\n",
            "  cpuset_checked))\n"
          ],
          "name": "stderr"
        }
      ]
    },
    {
      "cell_type": "code",
      "metadata": {
        "colab": {
          "base_uri": "https://localhost:8080/"
        },
        "id": "2l9TyVZ7NkQD",
        "outputId": "5994950b-fa71-4124-f093-8f7eef7aee3d"
      },
      "source": [
        "test_ap, test_loss= eval_model(\n",
        "  model,\n",
        "  test_data_loader,\n",
        "  loss_fn,\n",
        "  device,\n",
        "  len(dev)\n",
        ")"
      ],
      "execution_count": null,
      "outputs": [
        {
          "output_type": "stream",
          "text": [
            "\r  0%|          | 0/21 [00:00<?, ?it/s]/usr/local/lib/python3.7/dist-packages/torch/utils/data/dataloader.py:477: UserWarning: This DataLoader will create 4 worker processes in total. Our suggested max number of worker in current system is 2, which is smaller than what this DataLoader is going to create. Please be aware that excessive worker creation might get DataLoader running slow or even freeze, lower the worker number to avoid potential slowness/freeze if necessary.\n",
            "  cpuset_checked))\n",
            "100%|██████████| 21/21 [00:06<00:00,  3.44it/s]\n"
          ],
          "name": "stderr"
        }
      ]
    },
    {
      "cell_type": "code",
      "metadata": {
        "colab": {
          "base_uri": "https://localhost:8080/"
        },
        "id": "GcJtKt67rkXd",
        "outputId": "60ad27a9-7878-4eda-a229-a79eca82d2f7"
      },
      "source": [
        "test_ap"
      ],
      "execution_count": null,
      "outputs": [
        {
          "output_type": "execute_result",
          "data": {
            "text/plain": [
              "0.8552362847480699"
            ]
          },
          "metadata": {
            "tags": []
          },
          "execution_count": 68
        }
      ]
    },
    {
      "cell_type": "code",
      "metadata": {
        "colab": {
          "base_uri": "https://localhost:8080/"
        },
        "id": "l05QMbS4qURc",
        "outputId": "bb05daa5-1afa-46e1-ecfe-f99d84502feb"
      },
      "source": [
        "y_pred_prob,y_true = get_predictions(model,test_data_loader)"
      ],
      "execution_count": null,
      "outputs": [
        {
          "output_type": "stream",
          "text": [
            "/usr/local/lib/python3.7/dist-packages/torch/utils/data/dataloader.py:477: UserWarning: This DataLoader will create 4 worker processes in total. Our suggested max number of worker in current system is 2, which is smaller than what this DataLoader is going to create. Please be aware that excessive worker creation might get DataLoader running slow or even freeze, lower the worker number to avoid potential slowness/freeze if necessary.\n",
            "  cpuset_checked))\n"
          ],
          "name": "stderr"
        }
      ]
    },
    {
      "cell_type": "code",
      "metadata": {
        "colab": {
          "base_uri": "https://localhost:8080/"
        },
        "id": "Bccu1x4esJXp",
        "outputId": "b76730d1-4454-40d1-f6c9-9c504233d996"
      },
      "source": [
        "y_pred_prob"
      ],
      "execution_count": null,
      "outputs": [
        {
          "output_type": "execute_result",
          "data": {
            "text/plain": [
              "tensor([[0.9880, 0.0120],\n",
              "        [0.1904, 0.8096],\n",
              "        [0.5100, 0.4900],\n",
              "        ...,\n",
              "        [0.9757, 0.0243],\n",
              "        [0.5559, 0.4441],\n",
              "        [0.9683, 0.0317]])"
            ]
          },
          "metadata": {
            "tags": []
          },
          "execution_count": 70
        }
      ]
    },
    {
      "cell_type": "code",
      "metadata": {
        "id": "cp5RVbm-2uR0"
      },
      "source": [
        "#y_pred = y_pred_prob[:,0]-y_pred_prob[:,1]"
      ],
      "execution_count": null,
      "outputs": []
    },
    {
      "cell_type": "code",
      "metadata": {
        "id": "GCTpld3q6wWt"
      },
      "source": [
        "sub[\"score\"]=y_pred_prob[:,1]\n",
        "#sub.loc[sub['claim'] == 0, 'score'] = 0"
      ],
      "execution_count": null,
      "outputs": []
    },
    {
      "cell_type": "code",
      "metadata": {
        "id": "HXR6syQ9xmWl"
      },
      "source": [
        "sub['runID']=\"Model_0.86\"\n",
        "sub.drop(['claim'],1,inplace=True)"
      ],
      "execution_count": null,
      "outputs": []
    },
    {
      "cell_type": "code",
      "metadata": {
        "colab": {
          "base_uri": "https://localhost:8080/"
        },
        "id": "EXsPEsHhmzFo",
        "outputId": "68d401cd-9fbf-4fc2-b1e8-62baa4ddd270"
      },
      "source": [
        "max(sub['score'])"
      ],
      "execution_count": null,
      "outputs": [
        {
          "output_type": "execute_result",
          "data": {
            "text/plain": [
              "0.9366483688354492"
            ]
          },
          "metadata": {
            "tags": []
          },
          "execution_count": 74
        }
      ]
    },
    {
      "cell_type": "code",
      "metadata": {
        "id": "soTRzwR4kxH5"
      },
      "source": [
        "'''i=0\n",
        "for i in range(len(sub['score'])):\n",
        "  if (sub['score'][i]>0.001 and sub['score'][i]<0.004):\n",
        "    sub['score'][i] = 0\n",
        "  if (sub['score'][i]>0.97):\n",
        "      sub['score'][i] = 1'''"
      ],
      "execution_count": null,
      "outputs": []
    },
    {
      "cell_type": "code",
      "metadata": {
        "colab": {
          "base_uri": "https://localhost:8080/",
          "height": 424
        },
        "id": "QDFG4lz7-4tF",
        "outputId": "5ba6f471-9960-4b4f-a9d5-1a4a2073b256"
      },
      "source": [
        "sub"
      ],
      "execution_count": null,
      "outputs": [
        {
          "output_type": "execute_result",
          "data": {
            "text/html": [
              "<div>\n",
              "<style scoped>\n",
              "    .dataframe tbody tr th:only-of-type {\n",
              "        vertical-align: middle;\n",
              "    }\n",
              "\n",
              "    .dataframe tbody tr th {\n",
              "        vertical-align: top;\n",
              "    }\n",
              "\n",
              "    .dataframe thead th {\n",
              "        text-align: right;\n",
              "    }\n",
              "</style>\n",
              "<table border=\"1\" class=\"dataframe\">\n",
              "  <thead>\n",
              "    <tr style=\"text-align: right;\">\n",
              "      <th></th>\n",
              "      <th>topic_id</th>\n",
              "      <th>tweet_id</th>\n",
              "      <th>score</th>\n",
              "      <th>runID</th>\n",
              "    </tr>\n",
              "  </thead>\n",
              "  <tbody>\n",
              "    <tr>\n",
              "      <th>0</th>\n",
              "      <td>CT20-AR-02</td>\n",
              "      <td>1221223213583294470</td>\n",
              "      <td>0.011963</td>\n",
              "      <td>Model_0.86</td>\n",
              "    </tr>\n",
              "    <tr>\n",
              "      <th>1</th>\n",
              "      <td>CT20-AR-02</td>\n",
              "      <td>1221224671208755211</td>\n",
              "      <td>0.809649</td>\n",
              "      <td>Model_0.86</td>\n",
              "    </tr>\n",
              "    <tr>\n",
              "      <th>2</th>\n",
              "      <td>CT20-AR-02</td>\n",
              "      <td>1221226319243108353</td>\n",
              "      <td>0.489994</td>\n",
              "      <td>Model_0.86</td>\n",
              "    </tr>\n",
              "    <tr>\n",
              "      <th>3</th>\n",
              "      <td>CT20-AR-02</td>\n",
              "      <td>1221243369348902912</td>\n",
              "      <td>0.233985</td>\n",
              "      <td>Model_0.86</td>\n",
              "    </tr>\n",
              "    <tr>\n",
              "      <th>4</th>\n",
              "      <td>CT20-AR-02</td>\n",
              "      <td>1221253458394779649</td>\n",
              "      <td>0.033274</td>\n",
              "      <td>Model_0.86</td>\n",
              "    </tr>\n",
              "    <tr>\n",
              "      <th>...</th>\n",
              "      <td>...</td>\n",
              "      <td>...</td>\n",
              "      <td>...</td>\n",
              "      <td>...</td>\n",
              "    </tr>\n",
              "    <tr>\n",
              "      <th>656</th>\n",
              "      <td>CT20-AR-27</td>\n",
              "      <td>1233386563331121153</td>\n",
              "      <td>0.113019</td>\n",
              "      <td>Model_0.86</td>\n",
              "    </tr>\n",
              "    <tr>\n",
              "      <th>657</th>\n",
              "      <td>CT20-AR-27</td>\n",
              "      <td>1233403769016242176</td>\n",
              "      <td>0.026276</td>\n",
              "      <td>Model_0.86</td>\n",
              "    </tr>\n",
              "    <tr>\n",
              "      <th>658</th>\n",
              "      <td>CT20-AR-27</td>\n",
              "      <td>1233404098751475712</td>\n",
              "      <td>0.024331</td>\n",
              "      <td>Model_0.86</td>\n",
              "    </tr>\n",
              "    <tr>\n",
              "      <th>659</th>\n",
              "      <td>CT20-AR-27</td>\n",
              "      <td>1233406731562225665</td>\n",
              "      <td>0.444113</td>\n",
              "      <td>Model_0.86</td>\n",
              "    </tr>\n",
              "    <tr>\n",
              "      <th>660</th>\n",
              "      <td>CT20-AR-27</td>\n",
              "      <td>1233493627357278210</td>\n",
              "      <td>0.031730</td>\n",
              "      <td>Model_0.86</td>\n",
              "    </tr>\n",
              "  </tbody>\n",
              "</table>\n",
              "<p>661 rows × 4 columns</p>\n",
              "</div>"
            ],
            "text/plain": [
              "       topic_id             tweet_id     score       runID\n",
              "0    CT20-AR-02  1221223213583294470  0.011963  Model_0.86\n",
              "1    CT20-AR-02  1221224671208755211  0.809649  Model_0.86\n",
              "2    CT20-AR-02  1221226319243108353  0.489994  Model_0.86\n",
              "3    CT20-AR-02  1221243369348902912  0.233985  Model_0.86\n",
              "4    CT20-AR-02  1221253458394779649  0.033274  Model_0.86\n",
              "..          ...                  ...       ...         ...\n",
              "656  CT20-AR-27  1233386563331121153  0.113019  Model_0.86\n",
              "657  CT20-AR-27  1233403769016242176  0.026276  Model_0.86\n",
              "658  CT20-AR-27  1233404098751475712  0.024331  Model_0.86\n",
              "659  CT20-AR-27  1233406731562225665  0.444113  Model_0.86\n",
              "660  CT20-AR-27  1233493627357278210  0.031730  Model_0.86\n",
              "\n",
              "[661 rows x 4 columns]"
            ]
          },
          "metadata": {
            "tags": []
          },
          "execution_count": 75
        }
      ]
    },
    {
      "cell_type": "code",
      "metadata": {
        "colab": {
          "base_uri": "https://localhost:8080/"
        },
        "id": "aMFy7h1fSY2Z",
        "outputId": "8c84e1b1-f715-4fcb-b040-097528533e89"
      },
      "source": [
        "%cd /content/clef2021-checkthat-lab/task1/scorer"
      ],
      "execution_count": null,
      "outputs": [
        {
          "output_type": "stream",
          "text": [
            "/content/clef2021-checkthat-lab/task1/scorer\n"
          ],
          "name": "stdout"
        }
      ]
    },
    {
      "cell_type": "code",
      "metadata": {
        "id": "KpT0RaZ4yFuc"
      },
      "source": [
        "sub.to_csv('sub.tsv',sep='\\t',index=False,header=None)"
      ],
      "execution_count": null,
      "outputs": []
    },
    {
      "cell_type": "code",
      "metadata": {
        "id": "YyN5vYTnPHdW"
      },
      "source": [
        "'''path=\"/content/clef2021-checkthat-lab/task1/scorer/new_test.csv\"\n",
        "\n",
        "import csv\n",
        "reader = list(csv.reader(open(path, \"rU\"), delimiter=','))\n",
        "writer = csv.writer(open(path, 'w'), delimiter='\\t')\n",
        "writer.writerows(row for row in reader)'''"
      ],
      "execution_count": null,
      "outputs": []
    },
    {
      "cell_type": "code",
      "metadata": {
        "colab": {
          "base_uri": "https://localhost:8080/"
        },
        "id": "cUTLS1CV4RlJ",
        "outputId": "a9b22bb0-ac31-4b1e-f8b3-0bdd06ef8b6c"
      },
      "source": [
        "!python3 subtask_1a.py --gold-file-path=CT21-AR-Dev-T1-Labels.tsv --pred-file-path=sub.tsv"
      ],
      "execution_count": null,
      "outputs": [
        {
          "output_type": "stream",
          "text": [
            "INFO : Started evaluating results for subtask-1a ...\n",
            "INFO : Reading gold predictions from file CT21-AR-Dev-T1-Labels.tsv\n",
            "INFO : Reading predicted ranking order from file sub.tsv\n",
            "INFO : ================================================= RESULTS for sub.tsv ==================================================\n",
            "INFO : AVERAGE PRECISION:            0.8504    \n",
            "INFO : ========================================================================================================================\n",
            "INFO : RECIPROCAL RANK:              1.0000    \n",
            "INFO : ========================================================================================================================\n",
            "INFO : R-PRECISION (R=265):          0.7547    \n",
            "INFO : ========================================================================================================================\n",
            "INFO : PRECISION@N:                  @1        @3        @5        @10       @20       @50       \n",
            "INFO :                               1.0000    1.0000    1.0000    0.9000    0.9500    0.9800    \n",
            "INFO : ========================================================================================================================\n"
          ],
          "name": "stdout"
        }
      ]
    },
    {
      "cell_type": "markdown",
      "metadata": {
        "id": "E_0tc8eYGChh"
      },
      "source": [
        "##Evaluation on testset\n"
      ]
    },
    {
      "cell_type": "code",
      "metadata": {
        "id": "R33c3zf0GAx2"
      },
      "source": [
        "%cd /content/clef2021-checkthat-lab/task1/test-input"
      ],
      "execution_count": null,
      "outputs": []
    },
    {
      "cell_type": "code",
      "metadata": {
        "id": "uwBs_UZKI4-W"
      },
      "source": [
        "!unzip subtask-1a--arabic.zip"
      ],
      "execution_count": null,
      "outputs": []
    },
    {
      "cell_type": "code",
      "metadata": {
        "id": "IZLBGwspJX1F"
      },
      "source": [
        "test = pd.read_csv('/content/clef2021-checkthat-lab/task1/test-input/CT21-AR-Test-T1.tsv',sep='\\t',error_bad_lines=False)"
      ],
      "execution_count": null,
      "outputs": []
    },
    {
      "cell_type": "code",
      "metadata": {
        "id": "BBIR-IHfJ7Ha"
      },
      "source": [
        "test"
      ],
      "execution_count": null,
      "outputs": []
    },
    {
      "cell_type": "code",
      "metadata": {
        "id": "nBdiaHSsQjw_"
      },
      "source": [
        "test.drop(['topic_id','tweet_id','tweet_url'],axis = 1,inplace=True)"
      ],
      "execution_count": null,
      "outputs": []
    },
    {
      "cell_type": "code",
      "metadata": {
        "id": "Au39IAAgKmSt"
      },
      "source": [
        "test[\"tweet_text\"]=test[\"tweet_text\"].apply(lambda x : process(x))\n",
        "test[\"tweet_text\"]=test[\"tweet_text\"].apply(lambda x : remove_english(x))"
      ],
      "execution_count": null,
      "outputs": []
    },
    {
      "cell_type": "code",
      "metadata": {
        "id": "jxUqYvs1Kryi"
      },
      "source": [
        "test"
      ],
      "execution_count": null,
      "outputs": []
    },
    {
      "cell_type": "code",
      "metadata": {
        "id": "NwffPURCUxyz"
      },
      "source": [
        "submission = test.copy()"
      ],
      "execution_count": null,
      "outputs": []
    },
    {
      "cell_type": "code",
      "metadata": {
        "id": "xOCP571XU5dG"
      },
      "source": [
        "submission.drop(['tweet_url','tweet_text'],axis=1,inplace=True)"
      ],
      "execution_count": null,
      "outputs": []
    },
    {
      "cell_type": "code",
      "metadata": {
        "id": "awd6SkiRSC0V"
      },
      "source": [
        "test['label'] = 0"
      ],
      "execution_count": null,
      "outputs": []
    },
    {
      "cell_type": "code",
      "metadata": {
        "id": "PAcXm5YURAyD"
      },
      "source": [
        "test.rename(columns={'tweet_text': 'text'}, inplace=True)"
      ],
      "execution_count": null,
      "outputs": []
    },
    {
      "cell_type": "code",
      "metadata": {
        "id": "6zWcVzJYIvju"
      },
      "source": [
        "testset_data_loader = dataLoader(test, tokenizer, MAX_LEN, BATCH_SIZE)"
      ],
      "execution_count": null,
      "outputs": []
    },
    {
      "cell_type": "code",
      "metadata": {
        "id": "kAvOz_cOWE_G"
      },
      "source": [
        "y_pred,y_true_ = get_predictions(model,testset_data_loader)"
      ],
      "execution_count": null,
      "outputs": []
    },
    {
      "cell_type": "code",
      "metadata": {
        "id": "_-D-yPhKSHNQ"
      },
      "source": [
        "submission['score'] = y_pred[:,1]\n",
        "submission['runID']=\"Model_1\""
      ],
      "execution_count": null,
      "outputs": []
    },
    {
      "cell_type": "code",
      "metadata": {
        "id": "m6LuP_fgZn0Z"
      },
      "source": [
        "submission.to_csv('submission.tsv',sep='\\t',index=False,header=None)"
      ],
      "execution_count": null,
      "outputs": []
    },
    {
      "cell_type": "code",
      "metadata": {
        "id": "-eTmXTVGO59D"
      },
      "source": [
        "       \n",
        "       #epoch badeleteha 5 \n",
        "#batch_size = 32 , maxlength = 128 , lr=2e-5\n",
        "#early stopping epoch 10"
      ],
      "execution_count": null,
      "outputs": []
    },
    {
      "cell_type": "code",
      "metadata": {
        "id": "6CDy1T5JP7W4"
      },
      "source": [
        ""
      ],
      "execution_count": null,
      "outputs": []
    },
    {
      "cell_type": "code",
      "metadata": {
        "id": "0LgSyUMrs3Bf"
      },
      "source": [
        ""
      ],
      "execution_count": null,
      "outputs": []
    }
  ]
}